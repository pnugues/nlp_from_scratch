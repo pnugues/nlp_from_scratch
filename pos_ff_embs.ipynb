{
 "cells": [
  {
   "attachments": {},
   "cell_type": "markdown",
   "metadata": {},
   "source": [
    "# Part-of-Speech and Sequence Annotation\n",
    "A reimplementation of the Senna program described in [_Natural language processing (almost) from scratch_](https://arxiv.org/abs/1103.0398) by Collobert et al. (2011) with PyTorch.\n",
    "## Part 1: Annotation with a Feed-Forward Network"
   ]
  },
  {
   "cell_type": "markdown",
   "metadata": {},
   "source": [
    "\n",
    "__Author__: Pierre Nugues"
   ]
  },
  {
   "cell_type": "markdown",
   "metadata": {},
   "source": [
    "## Python Headers"
   ]
  },
  {
   "cell_type": "markdown",
   "metadata": {},
   "source": [
    "A few things to download"
   ]
  },
  {
   "cell_type": "code",
   "execution_count": 1,
   "metadata": {},
   "outputs": [
    {
     "data": {
      "text/plain": [
       "'\\n!wget https://data.deepai.org/conll2003.zip\\n!unzip -u conll2003.zip\\n!mkdir datasets/conll2003\\n!mv train.txt valid.txt test.txt datasets/conll2003\\n!rm conll2003.zip\\n'"
      ]
     },
     "execution_count": 1,
     "metadata": {},
     "output_type": "execute_result"
    }
   ],
   "source": [
    "#!pip install conlleval\n",
    "\"\"\"\n",
    "!wget https://data.deepai.org/conll2003.zip\n",
    "!unzip -u conll2003.zip\n",
    "!mkdir datasets/conll2003\n",
    "!mv train.txt valid.txt test.txt datasets/conll2003\n",
    "!rm conll2003.zip\n",
    "\"\"\""
   ]
  },
  {
   "cell_type": "markdown",
   "metadata": {},
   "source": [
    "### The Modules"
   ]
  },
  {
   "cell_type": "code",
   "execution_count": 2,
   "metadata": {},
   "outputs": [],
   "source": [
    "import matplotlib.pyplot as plt\n",
    "from tqdm import tqdm\n",
    "import random\n",
    "\n",
    "import numpy as np\n",
    "from sklearn.feature_extraction import DictVectorizer\n",
    "from sklearn.metrics import classification_report\n",
    "import conlleval\n",
    "\n",
    "import torch\n",
    "import torch.nn as nn\n",
    "from torch.utils.data import TensorDataset, DataLoader\n",
    "\n",
    "import ud_datasets\n",
    "from conll_dictorizer import CoNLLDictorizer"
   ]
  },
  {
   "cell_type": "markdown",
   "metadata": {},
   "source": [
    "### Some Parameters"
   ]
  },
  {
   "cell_type": "markdown",
   "metadata": {},
   "source": [
    "The words to build the vocabulary and the embedding vectors:\n",
    "* 0: Random embeddings: The embedding table contains only the words in the corpus. \n",
    "* 1: Senna embeddings only: The embedding table contains only the words in the embeddings vocabulary (Senna). All the other words share an `UNK` symbol and vector\n",
    "* 2: Senna + word embeddings: We create an embedding table for the words in corpus and in Senna. We  initialize the embeddings with Senna vectors when available, otherwise random"
   ]
  },
  {
   "cell_type": "code",
   "execution_count": 3,
   "metadata": {},
   "outputs": [],
   "source": [
    "USE_EMBEDDINGS = 2"
   ]
  },
  {
   "cell_type": "code",
   "execution_count": 4,
   "metadata": {},
   "outputs": [],
   "source": [
    "CORPUS = 'CONLL2003'   # 'EWT' 'CONLL2003' 'CONLL2000'\n",
    "TAGSET = 'IOBES'  # 'BIO' 'IOBES'"
   ]
  },
  {
   "cell_type": "code",
   "execution_count": 5,
   "metadata": {},
   "outputs": [],
   "source": [
    "DATASET_PATH = 'datasets/'\n",
    "MODEL_PATH = 'models/'"
   ]
  },
  {
   "cell_type": "code",
   "execution_count": 6,
   "metadata": {},
   "outputs": [],
   "source": [
    "# The embedding files. You will possibly need to adjust the path\n",
    "EMBEDDINGS_FILE = DATASET_PATH + 'senna/embeddings/embeddings.txt'\n",
    "WORD_FILE = DATASET_PATH + 'senna/hash/words.lst'"
   ]
  },
  {
   "cell_type": "code",
   "execution_count": 7,
   "metadata": {},
   "outputs": [],
   "source": [
    "EMBEDDING_DIM = 50\n",
    "CAPS_EMBEDDING_DIM = 5\n",
    "N_HU_1 = 300\n",
    "MINI_CORPUS = False\n",
    "LOWERCASE = True\n",
    "D_WIN = 2  # Context to the right and left. Size of the window 2 * D_WIN + 1, d_win in Senna paper"
   ]
  },
  {
   "cell_type": "code",
   "execution_count": 8,
   "metadata": {},
   "outputs": [],
   "source": [
    "EPOCHS = 25\n",
    "LR = 0.01\n",
    "BATCH_SIZE = 1"
   ]
  },
  {
   "cell_type": "code",
   "execution_count": 9,
   "metadata": {},
   "outputs": [
    {
     "data": {
      "text/plain": [
       "<torch._C.Generator at 0x14726fd70>"
      ]
     },
     "execution_count": 9,
     "metadata": {},
     "output_type": "execute_result"
    }
   ],
   "source": [
    "random.seed(1234)\n",
    "torch.manual_seed(1234)"
   ]
  },
  {
   "cell_type": "markdown",
   "metadata": {},
   "source": [
    "## Preprocessing"
   ]
  },
  {
   "cell_type": "markdown",
   "metadata": {},
   "source": [
    "### Embeddings"
   ]
  },
  {
   "cell_type": "code",
   "execution_count": 10,
   "metadata": {},
   "outputs": [],
   "source": [
    "def read_embeddings(word_file: str, embs_file: str) -> dict[str, torch.FloatTensor]:\n",
    "    \"\"\"\n",
    "    Return the embeddings in the from of a dictionary\n",
    "    :param file:\n",
    "    :return:\n",
    "    \"\"\"\n",
    "    embeddings = {}\n",
    "    words = []\n",
    "    with open(word_file) as f:\n",
    "        for line in f:\n",
    "            word = line.strip()\n",
    "            words += [word]\n",
    "    with open(embs_file) as f:\n",
    "        for i, line in enumerate(f):\n",
    "            values = line.strip().split()\n",
    "            word = words[i]\n",
    "            vector = torch.FloatTensor(\n",
    "                list(map(float, values)))\n",
    "            embeddings[word] = vector\n",
    "    return embeddings"
   ]
  },
  {
   "cell_type": "code",
   "execution_count": 11,
   "metadata": {},
   "outputs": [],
   "source": [
    "embeddings_dict = read_embeddings(WORD_FILE, EMBEDDINGS_FILE)\n",
    "embedded_words = sorted(list(embeddings_dict.keys()))"
   ]
  },
  {
   "cell_type": "markdown",
   "metadata": {},
   "source": [
    "### Loading the Corpus\n",
    "Collobert et al. did not describe their validation experiments. In CoNLL 2000, there is no validation set. Although not a good practice, we use the test set to validate the training procedure. We also follow Attardi, https://github.com/attardi/deepnl, and we merge the CoNLL 2003 training and validation sets."
   ]
  },
  {
   "cell_type": "code",
   "execution_count": 12,
   "metadata": {},
   "outputs": [
    {
     "data": {
      "text/plain": [
       "'2025-03-09 21:44:59'"
      ]
     },
     "execution_count": 12,
     "metadata": {},
     "output_type": "execute_result"
    }
   ],
   "source": [
    "from datetime import datetime\n",
    "datetime.now().strftime('%Y-%m-%d %H:%M:%S')"
   ]
  },
  {
   "cell_type": "code",
   "execution_count": 13,
   "metadata": {},
   "outputs": [],
   "source": [
    "if CORPUS == 'EWT':\n",
    "    train_sentences, val_sentences, test_sentences, column_names = ud_datasets.load_ud_en_ewt()\n",
    "    MODEL_NAME = 'pos_model'\n",
    "elif CORPUS == 'CONLL2003':\n",
    "    train_file = DATASET_PATH + 'conll2003/train.txt'\n",
    "    val_file = DATASET_PATH + 'conll2003/valid.txt'\n",
    "    test_file = DATASET_PATH + 'conll2003/test.txt'\n",
    "    with open(train_file) as f:\n",
    "        train_sentences = f.read().strip()\n",
    "    with open(val_file) as f:\n",
    "        val_sentences = f.read().strip()\n",
    "    with open(test_file) as f:\n",
    "        test_sentences = f.read().strip()\n",
    "    MODEL_NAME = 'ner_model'\n",
    "    column_names = ['FORM', 'PPOS', 'PCHUNK', 'NER']\n",
    "elif CORPUS == 'CONLL2000':\n",
    "    train_file = DATASET_PATH + 'conll2000/train.txt'\n",
    "    test_file = DATASET_PATH + 'conll2000/test.txt'\n",
    "    with open(train_file) as f:\n",
    "        train_sentences = f.read().strip()\n",
    "    with open(test_file) as f:\n",
    "        test_sentences = f.read().strip()\n",
    "    column_names = ['FORM', 'PPOS', 'CHUNK']\n",
    "    MODEL_NAME = 'chunker_model'"
   ]
  },
  {
   "cell_type": "code",
   "execution_count": 14,
   "metadata": {},
   "outputs": [
    {
     "data": {
      "text/plain": [
       "'models/ner_model_2025-03-09 21:44:59.pt'"
      ]
     },
     "execution_count": 14,
     "metadata": {},
     "output_type": "execute_result"
    }
   ],
   "source": [
    "MODEL_FILE = MODEL_PATH + MODEL_NAME + '_' + \\\n",
    "    datetime.now().strftime('%Y-%m-%d %H:%M:%S') + '.pt'\n",
    "MODEL_FILE"
   ]
  },
  {
   "cell_type": "markdown",
   "metadata": {},
   "source": [
    "### Experimental setup\n",
    "\n",
    "We use the test set as validation set for CoNLL 2000 and 2003. We add the validation set to the training set in CoNLL 2003"
   ]
  },
  {
   "cell_type": "code",
   "execution_count": 15,
   "metadata": {},
   "outputs": [],
   "source": [
    "if CORPUS == 'CONLL2003':\n",
    "    train_sentences += '\\n\\n' + val_sentences\n",
    "    val_sentences = test_sentences\n",
    "if CORPUS == 'CONLL2000':\n",
    "    val_sentences = test_sentences"
   ]
  },
  {
   "cell_type": "markdown",
   "metadata": {},
   "source": [
    "## Dictorizing the corpus"
   ]
  },
  {
   "cell_type": "markdown",
   "metadata": {},
   "source": [
    "We store the corpus word in a dictionary, where the keys are the CoNLL-U columns"
   ]
  },
  {
   "cell_type": "code",
   "execution_count": 16,
   "metadata": {},
   "outputs": [],
   "source": [
    "if CORPUS == 'EWT':\n",
    "    conll_dict = CoNLLDictorizer(column_names)\n",
    "elif CORPUS == 'CONLL2003':\n",
    "    conll_dict = CoNLLDictorizer(column_names, col_sep=' +')\n",
    "elif CORPUS == 'CONLL2000':\n",
    "    conll_dict = CoNLLDictorizer(column_names, col_sep=' +')"
   ]
  },
  {
   "cell_type": "code",
   "execution_count": 17,
   "metadata": {},
   "outputs": [],
   "source": [
    "train_dict = conll_dict.transform(train_sentences)\n",
    "val_dict = conll_dict.transform(val_sentences)\n",
    "test_dict = conll_dict.transform(test_sentences)"
   ]
  },
  {
   "cell_type": "code",
   "execution_count": 18,
   "metadata": {},
   "outputs": [
    {
     "data": {
      "text/plain": [
       "[{'FORM': '-DOCSTART-', 'PPOS': '-X-', 'PCHUNK': '-X-', 'NER': 'O'}]"
      ]
     },
     "execution_count": 18,
     "metadata": {},
     "output_type": "execute_result"
    }
   ],
   "source": [
    "train_dict[0][:10]"
   ]
  },
  {
   "cell_type": "code",
   "execution_count": 19,
   "metadata": {},
   "outputs": [
    {
     "data": {
      "text/plain": [
       "[[{'FORM': '-DOCSTART-', 'PPOS': '-X-', 'PCHUNK': '-X-', 'NER': 'O'}],\n",
       " [{'FORM': 'EU', 'PPOS': 'NNP', 'PCHUNK': 'B-NP', 'NER': 'B-ORG'},\n",
       "  {'FORM': 'rejects', 'PPOS': 'VBZ', 'PCHUNK': 'B-VP', 'NER': 'O'},\n",
       "  {'FORM': 'German', 'PPOS': 'JJ', 'PCHUNK': 'B-NP', 'NER': 'B-MISC'},\n",
       "  {'FORM': 'call', 'PPOS': 'NN', 'PCHUNK': 'I-NP', 'NER': 'O'},\n",
       "  {'FORM': 'to', 'PPOS': 'TO', 'PCHUNK': 'B-VP', 'NER': 'O'},\n",
       "  {'FORM': 'boycott', 'PPOS': 'VB', 'PCHUNK': 'I-VP', 'NER': 'O'},\n",
       "  {'FORM': 'British', 'PPOS': 'JJ', 'PCHUNK': 'B-NP', 'NER': 'B-MISC'},\n",
       "  {'FORM': 'lamb', 'PPOS': 'NN', 'PCHUNK': 'I-NP', 'NER': 'O'},\n",
       "  {'FORM': '.', 'PPOS': '.', 'PCHUNK': 'O', 'NER': 'O'}],\n",
       " [{'FORM': 'Peter', 'PPOS': 'NNP', 'PCHUNK': 'B-NP', 'NER': 'B-PER'},\n",
       "  {'FORM': 'Blackburn', 'PPOS': 'NNP', 'PCHUNK': 'I-NP', 'NER': 'I-PER'}]]"
      ]
     },
     "execution_count": 19,
     "metadata": {},
     "output_type": "execute_result"
    }
   ],
   "source": [
    "train_dict[:3]"
   ]
  },
  {
   "cell_type": "markdown",
   "metadata": {},
   "source": [
    "Conversion of BIO to IOBES"
   ]
  },
  {
   "cell_type": "code",
   "execution_count": 20,
   "metadata": {},
   "outputs": [],
   "source": [
    "def BIO2IOBES(sent_dicts: list[dict], tag='CHUNK'):\n",
    "    for sent_dict in sent_dicts:\n",
    "        for idx in range(len(sent_dict) - 1):\n",
    "            # B O -> S O\n",
    "            if sent_dict[idx][tag][0] == 'B' and sent_dict[idx + 1][tag][0] == 'O':\n",
    "                sent_dict[idx][tag] = 'S' + sent_dict[idx][tag][1:]\n",
    "            # B-NP B-VP -> E-NP B-VP\n",
    "            elif sent_dict[idx][tag][0] == 'B' and sent_dict[idx + 1][tag][0] == 'B':\n",
    "                sent_dict[idx][tag] = 'S' + sent_dict[idx][tag][1:]\n",
    "            # I O -> E O\n",
    "            elif sent_dict[idx][tag][0] == 'I' and sent_dict[idx + 1][tag][0] == 'O':\n",
    "                sent_dict[idx][tag] = 'E' + sent_dict[idx][tag][1:]\n",
    "            # I B -> E B\n",
    "            elif sent_dict[idx][tag][0] == 'I' and sent_dict[idx + 1][tag][0] == 'B':\n",
    "                sent_dict[idx][tag] = 'E' + sent_dict[idx][tag][1:]\n",
    "            else:\n",
    "                pass\n",
    "\n",
    "        # Last word\n",
    "        if sent_dict[-1][tag][0] == 'B':\n",
    "            sent_dict[-1][tag] = 'S' + sent_dict[-1][tag][1:]\n",
    "        elif sent_dict[-1][tag][0] == 'I':\n",
    "            sent_dict[-1][tag] = 'E' + sent_dict[-1][tag][1:]\n",
    "        else:\n",
    "            pass\n",
    "    return sent_dicts"
   ]
  },
  {
   "cell_type": "code",
   "execution_count": 21,
   "metadata": {},
   "outputs": [],
   "source": [
    "if TAGSET == 'IOBES' and CORPUS in ['CONLL2000', 'CONLL2003']:\n",
    "    if CORPUS == 'CONLL2000':\n",
    "        tag = 'CHUNK'\n",
    "    elif CORPUS == 'CONLL2003':\n",
    "        tag = 'NER'\n",
    "    train_dict = BIO2IOBES(train_dict, tag)\n",
    "    val_dict = BIO2IOBES(val_dict, tag)\n",
    "    test_dict = BIO2IOBES(test_dict, tag)"
   ]
  },
  {
   "cell_type": "code",
   "execution_count": 22,
   "metadata": {},
   "outputs": [
    {
     "data": {
      "text/plain": [
       "[[{'FORM': '-DOCSTART-', 'PPOS': '-X-', 'PCHUNK': '-X-', 'NER': 'O'}],\n",
       " [{'FORM': 'EU', 'PPOS': 'NNP', 'PCHUNK': 'B-NP', 'NER': 'S-ORG'},\n",
       "  {'FORM': 'rejects', 'PPOS': 'VBZ', 'PCHUNK': 'B-VP', 'NER': 'O'},\n",
       "  {'FORM': 'German', 'PPOS': 'JJ', 'PCHUNK': 'B-NP', 'NER': 'S-MISC'},\n",
       "  {'FORM': 'call', 'PPOS': 'NN', 'PCHUNK': 'I-NP', 'NER': 'O'},\n",
       "  {'FORM': 'to', 'PPOS': 'TO', 'PCHUNK': 'B-VP', 'NER': 'O'},\n",
       "  {'FORM': 'boycott', 'PPOS': 'VB', 'PCHUNK': 'I-VP', 'NER': 'O'},\n",
       "  {'FORM': 'British', 'PPOS': 'JJ', 'PCHUNK': 'B-NP', 'NER': 'S-MISC'},\n",
       "  {'FORM': 'lamb', 'PPOS': 'NN', 'PCHUNK': 'I-NP', 'NER': 'O'},\n",
       "  {'FORM': '.', 'PPOS': '.', 'PCHUNK': 'O', 'NER': 'O'}],\n",
       " [{'FORM': 'Peter', 'PPOS': 'NNP', 'PCHUNK': 'B-NP', 'NER': 'B-PER'},\n",
       "  {'FORM': 'Blackburn', 'PPOS': 'NNP', 'PCHUNK': 'I-NP', 'NER': 'E-PER'}],\n",
       " [{'FORM': 'BRUSSELS', 'PPOS': 'NNP', 'PCHUNK': 'B-NP', 'NER': 'S-LOC'},\n",
       "  {'FORM': '1996-08-22', 'PPOS': 'CD', 'PCHUNK': 'I-NP', 'NER': 'O'}]]"
      ]
     },
     "execution_count": 22,
     "metadata": {},
     "output_type": "execute_result"
    }
   ],
   "source": [
    "train_dict[:4]"
   ]
  },
  {
   "cell_type": "markdown",
   "metadata": {},
   "source": [
    "We extract the case information. We follow the Senna source code"
   ]
  },
  {
   "cell_type": "code",
   "execution_count": 23,
   "metadata": {},
   "outputs": [],
   "source": [
    "def add_case_info(row: dict):\n",
    "    \"\"\"Same as in Senna code\"\"\"\n",
    "    if (any(char.isupper() for char in row['FORM']) and\n",
    "            not any(char.islower() for char in row['FORM'])):\n",
    "        row['CAPS'] = 'ALL_CAPS'\n",
    "    elif row['FORM'][0].isupper():\n",
    "        row['CAPS'] = 'INIT_CAP'\n",
    "    elif any(char.isupper() for char in row['FORM']):\n",
    "        row['CAPS'] = 'HAS_CAP'\n",
    "    else:\n",
    "        row['CAPS'] = 'NO_CAPS'"
   ]
  },
  {
   "cell_type": "code",
   "execution_count": 24,
   "metadata": {},
   "outputs": [],
   "source": [
    "for sent_dict in train_dict:\n",
    "    for row in sent_dict:\n",
    "        add_case_info(row)\n",
    "for sent_dict in val_dict:\n",
    "    for row in sent_dict:\n",
    "        add_case_info(row)\n",
    "for sent_dict in test_dict:\n",
    "    for row in sent_dict:\n",
    "        add_case_info(row)"
   ]
  },
  {
   "cell_type": "code",
   "execution_count": 25,
   "metadata": {},
   "outputs": [
    {
     "name": "stdout",
     "output_type": "stream",
     "text": [
      "First sentence, train: [{'FORM': '-DOCSTART-', 'PPOS': '-X-', 'PCHUNK': '-X-', 'NER': 'O', 'CAPS': 'ALL_CAPS'}]\n"
     ]
    }
   ],
   "source": [
    "if MINI_CORPUS:\n",
    "    train_dict = train_dict[:len(train_dict) // 5]\n",
    "print('First sentence, train:', train_dict[0])"
   ]
  },
  {
   "cell_type": "markdown",
   "metadata": {
    "tags": []
   },
   "source": [
    "## Extracting $X_{cat}$ and $\\mathbf{y}$ the Context and Dictorizing it\n",
    "We extract windows of five words surrounding the word and we build a table. We do the same with the case information."
   ]
  },
  {
   "cell_type": "code",
   "execution_count": 26,
   "metadata": {},
   "outputs": [],
   "source": [
    "def extract_cols(sent_dict, x='FORM', y='UPOS'):\n",
    "    (input, target) = ([], [])\n",
    "    for word in sent_dict:\n",
    "        input += [word[x]]\n",
    "        target += [word.get(y, None)]\n",
    "    return input, target"
   ]
  },
  {
   "cell_type": "code",
   "execution_count": 27,
   "metadata": {},
   "outputs": [],
   "source": [
    "if CORPUS == 'EWT':\n",
    "    x_input = 'FORM'\n",
    "    y_output = 'UPOS'\n",
    "elif CORPUS == 'CONLL2000':\n",
    "    x_input = 'FORM'\n",
    "    y_output = 'CHUNK'\n",
    "elif CORPUS == 'CONLL2003':\n",
    "    x_input = 'FORM'\n",
    "    y_output = 'NER'\n",
    "\n",
    "train_cols = [extract_cols(sent_dict, x=x_input, y=y_output)\n",
    "              for sent_dict in train_dict]\n",
    "val_cols = [extract_cols(sent_dict, x=x_input, y=y_output)\n",
    "            for sent_dict in val_dict]\n",
    "test_cols = [extract_cols(sent_dict, x=x_input, y=y_output)\n",
    "             for sent_dict in test_dict]"
   ]
  },
  {
   "cell_type": "code",
   "execution_count": 28,
   "metadata": {},
   "outputs": [],
   "source": [
    "train_sent_words, train_sent_pos = zip(*train_cols)\n",
    "val_sent_words, val_sent_pos = zip(*val_cols)\n",
    "test_sent_words, test_sent_pos = zip(*test_cols)"
   ]
  },
  {
   "cell_type": "markdown",
   "metadata": {},
   "source": [
    "We set the words in lowercase"
   ]
  },
  {
   "cell_type": "code",
   "execution_count": 29,
   "metadata": {},
   "outputs": [],
   "source": [
    "if LOWERCASE:\n",
    "    train_sent_words = [list(map(str.lower, sent_words))\n",
    "                        for sent_words in train_sent_words]\n",
    "    val_sent_words = [list(map(str.lower, sent_words))\n",
    "                      for sent_words in val_sent_words]\n",
    "    test_sent_words = [list(map(str.lower, sent_words))\n",
    "                       for sent_words in test_sent_words]"
   ]
  },
  {
   "cell_type": "code",
   "execution_count": 30,
   "metadata": {},
   "outputs": [
    {
     "data": {
      "text/plain": [
       "['he',\n",
       " 'said',\n",
       " 'talbott',\n",
       " ',',\n",
       " 'who',\n",
       " 'was',\n",
       " 'scheduled',\n",
       " 'to',\n",
       " 'return',\n",
       " 'on',\n",
       " 'tuesday',\n",
       " ',',\n",
       " 'would',\n",
       " 'also',\n",
       " 'to',\n",
       " 'meet',\n",
       " 'his',\n",
       " 'canadian',\n",
       " 'counterpart',\n",
       " ',',\n",
       " 'gordon',\n",
       " 'smith',\n",
       " ',',\n",
       " 'in',\n",
       " 'ottawa',\n",
       " 'for',\n",
       " 'talks',\n",
       " 'that',\n",
       " 'would',\n",
       " 'include',\n",
       " 'the',\n",
       " 'situation',\n",
       " 'in',\n",
       " 'haiti',\n",
       " '.']"
      ]
     },
     "execution_count": 30,
     "metadata": {},
     "output_type": "execute_result"
    }
   ],
   "source": [
    "train_sent_words[8131]"
   ]
  },
  {
   "cell_type": "markdown",
   "metadata": {},
   "source": [
    "### Extracting the Caps"
   ]
  },
  {
   "cell_type": "code",
   "execution_count": 31,
   "metadata": {},
   "outputs": [],
   "source": [
    "if CORPUS == 'EWT':\n",
    "    x_input = 'CAPS'\n",
    "    y_output = 'UPOS'\n",
    "elif CORPUS == 'CONLL2000':\n",
    "    x_input = 'CAPS'\n",
    "    y_output = 'CHUNK'\n",
    "elif CORPUS == 'CONLL2003':\n",
    "    x_input = 'CAPS'\n",
    "    y_output = 'NER'\n",
    "\n",
    "train_caps_cols = [extract_cols(sent_dict, x=x_input, y=y_output)\n",
    "                   for sent_dict in train_dict]\n",
    "val_caps_cols = [extract_cols(sent_dict, x=x_input, y=y_output)\n",
    "                 for sent_dict in val_dict]\n",
    "test_caps_cols = [extract_cols(sent_dict, x=x_input, y=y_output)\n",
    "                  for sent_dict in test_dict]"
   ]
  },
  {
   "cell_type": "code",
   "execution_count": 32,
   "metadata": {},
   "outputs": [],
   "source": [
    "train_sent_caps, _ = zip(*train_caps_cols)\n",
    "val_sent_caps, _ = zip(*val_caps_cols)\n",
    "test_sent_caps, _ = zip(*test_caps_cols)"
   ]
  },
  {
   "cell_type": "code",
   "execution_count": 33,
   "metadata": {},
   "outputs": [
    {
     "data": {
      "text/plain": [
       "['INIT_CAP',\n",
       " 'NO_CAPS',\n",
       " 'INIT_CAP',\n",
       " 'NO_CAPS',\n",
       " 'NO_CAPS',\n",
       " 'NO_CAPS',\n",
       " 'NO_CAPS',\n",
       " 'NO_CAPS',\n",
       " 'NO_CAPS',\n",
       " 'NO_CAPS',\n",
       " 'INIT_CAP',\n",
       " 'NO_CAPS',\n",
       " 'NO_CAPS',\n",
       " 'NO_CAPS',\n",
       " 'NO_CAPS',\n",
       " 'NO_CAPS',\n",
       " 'NO_CAPS',\n",
       " 'INIT_CAP',\n",
       " 'NO_CAPS',\n",
       " 'NO_CAPS',\n",
       " 'INIT_CAP',\n",
       " 'INIT_CAP',\n",
       " 'NO_CAPS',\n",
       " 'NO_CAPS',\n",
       " 'INIT_CAP',\n",
       " 'NO_CAPS',\n",
       " 'NO_CAPS',\n",
       " 'NO_CAPS',\n",
       " 'NO_CAPS',\n",
       " 'NO_CAPS',\n",
       " 'NO_CAPS',\n",
       " 'NO_CAPS',\n",
       " 'NO_CAPS',\n",
       " 'INIT_CAP',\n",
       " 'NO_CAPS']"
      ]
     },
     "execution_count": 33,
     "metadata": {},
     "output_type": "execute_result"
    }
   ],
   "source": [
    "train_sent_caps[8131]"
   ]
  },
  {
   "cell_type": "code",
   "execution_count": 34,
   "metadata": {},
   "outputs": [],
   "source": [
    "UNK_IDX = 0"
   ]
  },
  {
   "cell_type": "markdown",
   "metadata": {},
   "source": [
    "### Building the $X$ and $\\mathbf{y}$ Categorical Matrices"
   ]
  },
  {
   "cell_type": "code",
   "execution_count": 35,
   "metadata": {},
   "outputs": [],
   "source": [
    "def create_X_cat(sentence: list[str],\n",
    "                 w_size: int = 2) -> list[dict[int: str]]:\n",
    "    start_pads = ['__BOS__'] * w_size\n",
    "    end_pads = ['__EOS__'] * w_size\n",
    "    sentence = start_pads + sentence + end_pads\n",
    "    # We extract the features\n",
    "    X = []\n",
    "    for i in range(len(sentence) - 2 * w_size):\n",
    "        x = []\n",
    "        for j in range(2 * w_size + 1):\n",
    "            x += [sentence[i + j]]\n",
    "        X += [x]\n",
    "    X = [dict(enumerate(x)) for x in X]\n",
    "    return X"
   ]
  },
  {
   "cell_type": "code",
   "execution_count": 36,
   "metadata": {},
   "outputs": [
    {
     "data": {
      "text/plain": [
       "[{0: '__BOS__', 1: '__BOS__', 2: 'hong', 3: 'kong', 4: '1996-08-23'},\n",
       " {0: '__BOS__', 1: 'hong', 2: 'kong', 3: '1996-08-23', 4: '__EOS__'},\n",
       " {0: 'hong', 1: 'kong', 2: '1996-08-23', 3: '__EOS__', 4: '__EOS__'}]"
      ]
     },
     "execution_count": 36,
     "metadata": {},
     "output_type": "execute_result"
    }
   ],
   "source": [
    "create_X_cat(train_sent_words[3000], w_size=D_WIN)"
   ]
  },
  {
   "cell_type": "code",
   "execution_count": 37,
   "metadata": {},
   "outputs": [
    {
     "data": {
      "text/plain": [
       "[{0: '__BOS__', 1: '__BOS__', 2: 'ALL_CAPS', 3: 'ALL_CAPS', 4: 'NO_CAPS'},\n",
       " {0: '__BOS__', 1: 'ALL_CAPS', 2: 'ALL_CAPS', 3: 'NO_CAPS', 4: '__EOS__'},\n",
       " {0: 'ALL_CAPS', 1: 'ALL_CAPS', 2: 'NO_CAPS', 3: '__EOS__', 4: '__EOS__'}]"
      ]
     },
     "execution_count": 37,
     "metadata": {},
     "output_type": "execute_result"
    }
   ],
   "source": [
    "create_X_cat(train_sent_caps[3000])"
   ]
  },
  {
   "cell_type": "code",
   "execution_count": 38,
   "metadata": {},
   "outputs": [],
   "source": [
    "X_train_cat = [row for sent in train_sent_words\n",
    "               for row in create_X_cat(sent)]\n",
    "X_val_cat = [row for sent in val_sent_words\n",
    "             for row in create_X_cat(sent)]\n",
    "X_test_cat = [row for sent in test_sent_words\n",
    "              for row in create_X_cat(sent)]"
   ]
  },
  {
   "cell_type": "code",
   "execution_count": 39,
   "metadata": {},
   "outputs": [
    {
     "data": {
      "text/plain": [
       "[{0: 'cairo', 1: 'airport', 2: ':', 3: '\"', 4: 'the'},\n",
       " {0: 'airport', 1: ':', 2: '\"', 3: 'the', 4: 'control'},\n",
       " {0: ':', 1: '\"', 2: 'the', 3: 'control', 4: 'tower'},\n",
       " {0: '\"', 1: 'the', 2: 'control', 3: 'tower', 4: 'should'},\n",
       " {0: 'the', 1: 'control', 2: 'tower', 3: 'should', 4: 'have'},\n",
       " {0: 'control', 1: 'tower', 2: 'should', 3: 'have', 4: 'allocated'}]"
      ]
     },
     "execution_count": 39,
     "metadata": {},
     "output_type": "execute_result"
    }
   ],
   "source": [
    "X_train_cat[18963:18969]"
   ]
  },
  {
   "cell_type": "code",
   "execution_count": 40,
   "metadata": {},
   "outputs": [],
   "source": [
    "X_train_caps_cat = [row for sent in train_sent_caps\n",
    "                    for row in create_X_cat(sent)]\n",
    "X_val_caps_cat = [row for sent in val_sent_caps\n",
    "                  for row in create_X_cat(sent)]\n",
    "X_test_caps_cat = [row for sent in test_sent_caps\n",
    "                   for row in create_X_cat(sent)]"
   ]
  },
  {
   "cell_type": "code",
   "execution_count": 41,
   "metadata": {},
   "outputs": [
    {
     "data": {
      "text/plain": [
       "[{0: 'INIT_CAP', 1: 'NO_CAPS', 2: 'NO_CAPS', 3: 'NO_CAPS', 4: 'INIT_CAP'},\n",
       " {0: 'NO_CAPS', 1: 'NO_CAPS', 2: 'NO_CAPS', 3: 'INIT_CAP', 4: 'NO_CAPS'},\n",
       " {0: 'NO_CAPS', 1: 'NO_CAPS', 2: 'INIT_CAP', 3: 'NO_CAPS', 4: 'NO_CAPS'},\n",
       " {0: 'NO_CAPS', 1: 'INIT_CAP', 2: 'NO_CAPS', 3: 'NO_CAPS', 4: 'NO_CAPS'},\n",
       " {0: 'INIT_CAP', 1: 'NO_CAPS', 2: 'NO_CAPS', 3: 'NO_CAPS', 4: 'NO_CAPS'},\n",
       " {0: 'NO_CAPS', 1: 'NO_CAPS', 2: 'NO_CAPS', 3: 'NO_CAPS', 4: 'NO_CAPS'}]"
      ]
     },
     "execution_count": 41,
     "metadata": {},
     "output_type": "execute_result"
    }
   ],
   "source": [
    "X_train_caps_cat[18963:18969]"
   ]
  },
  {
   "cell_type": "code",
   "execution_count": 42,
   "metadata": {},
   "outputs": [],
   "source": [
    "y_train_cat = [pos for sent in train_sent_pos\n",
    "               for pos in sent]\n",
    "y_val_cat = [pos for sent in val_sent_pos\n",
    "             for pos in sent]\n",
    "y_test_cat = [pos for sent in test_sent_pos\n",
    "              for pos in sent]"
   ]
  },
  {
   "cell_type": "code",
   "execution_count": 43,
   "metadata": {},
   "outputs": [
    {
     "data": {
      "text/plain": [
       "['O', 'O', 'O', 'O', 'O', 'O']"
      ]
     },
     "execution_count": 43,
     "metadata": {},
     "output_type": "execute_result"
    }
   ],
   "source": [
    "y_train_cat[18963:18969]"
   ]
  },
  {
   "cell_type": "markdown",
   "metadata": {},
   "source": [
    "### Running the Feature Extraction"
   ]
  },
  {
   "cell_type": "markdown",
   "metadata": {},
   "source": [
    "We extract all the words"
   ]
  },
  {
   "cell_type": "code",
   "execution_count": 44,
   "metadata": {},
   "outputs": [
    {
     "name": "stdout",
     "output_type": "stream",
     "text": [
      "# unique words seen in training corpus: 23868\n"
     ]
    }
   ],
   "source": [
    "corpus_words = [value.lower() for x in X_train_cat\n",
    "                for value in x.values()]\n",
    "corpus_words = sorted(set(corpus_words))\n",
    "\n",
    "print('# unique words seen in training corpus:', len(corpus_words))"
   ]
  },
  {
   "cell_type": "markdown",
   "metadata": {},
   "source": [
    "We extract all the caps"
   ]
  },
  {
   "cell_type": "code",
   "execution_count": 45,
   "metadata": {},
   "outputs": [
    {
     "data": {
      "text/plain": [
       "['ALL_CAPS', 'HAS_CAP', 'INIT_CAP', 'NO_CAPS', '__BOS__', '__EOS__']"
      ]
     },
     "execution_count": 45,
     "metadata": {},
     "output_type": "execute_result"
    }
   ],
   "source": [
    "corpus_caps = [value for x in X_train_caps_cat\n",
    "               for value in x.values()]\n",
    "corpus_caps = sorted(set(corpus_caps))\n",
    "corpus_caps"
   ]
  },
  {
   "cell_type": "code",
   "execution_count": 46,
   "metadata": {},
   "outputs": [
    {
     "name": "stdout",
     "output_type": "stream",
     "text": [
      "Words in Senna: 130000\n"
     ]
    }
   ],
   "source": [
    "embeddings_words = embeddings_dict.keys()\n",
    "print('Words in Senna:',  len(embeddings_dict.keys()))\n",
    "if USE_EMBEDDINGS == 0:\n",
    "    vocabulary = set(corpus_words)\n",
    "elif USE_EMBEDDINGS == 1:\n",
    "    # If we only use the words from Senna\n",
    "    vocabulary = set(list(embeddings_words))\n",
    "elif USE_EMBEDDINGS == 2:\n",
    "    vocabulary = set(corpus_words + list(embeddings_words))"
   ]
  },
  {
   "cell_type": "code",
   "execution_count": 47,
   "metadata": {},
   "outputs": [
    {
     "name": "stdout",
     "output_type": "stream",
     "text": [
      "# unique words in the vocabulary: embeddings and corpus: 136491\n"
     ]
    }
   ],
   "source": [
    "print('# unique words in the vocabulary: embeddings and corpus:',\n",
    "      len(vocabulary) + 1)"
   ]
  },
  {
   "cell_type": "code",
   "execution_count": 48,
   "metadata": {},
   "outputs": [],
   "source": [
    "idx2word = dict(enumerate(sorted(vocabulary), start=1))\n",
    "word2idx = {v: k for k, v in idx2word.items()}"
   ]
  },
  {
   "cell_type": "markdown",
   "metadata": {},
   "source": [
    "We set the words in lowercase as SENNA is in lowercase and we replace them with their index. The unknown word has the index 0."
   ]
  },
  {
   "cell_type": "code",
   "execution_count": 49,
   "metadata": {},
   "outputs": [],
   "source": [
    "for x_train_cat in X_train_cat:\n",
    "    for word in x_train_cat:\n",
    "        x_train_cat[word] = word2idx.get(\n",
    "            x_train_cat[word].lower(), UNK_IDX)\n",
    "\n",
    "for x_val_cat in X_val_cat:\n",
    "    for word in x_val_cat:\n",
    "        x_val_cat[word] = word2idx.get(\n",
    "            x_val_cat[word].lower(), UNK_IDX)\n",
    "\n",
    "for x_test_cat in X_test_cat:\n",
    "    for word in x_test_cat:\n",
    "        x_test_cat[word] = word2idx.get(\n",
    "            x_test_cat[word].lower(), UNK_IDX)"
   ]
  },
  {
   "cell_type": "code",
   "execution_count": 50,
   "metadata": {},
   "outputs": [
    {
     "data": {
      "text/plain": [
       "[{0: 6167, 1: 6167, 2: 792, 3: 6168, 4: 6168},\n",
       " {0: 6167, 1: 6167, 2: 43538, 3: 102380, 4: 51126},\n",
       " {0: 6167, 1: 43538, 2: 102380, 3: 51126, 4: 23293},\n",
       " {0: 43538, 1: 102380, 2: 51126, 3: 23293, 4: 123347},\n",
       " {0: 102380, 1: 51126, 2: 23293, 3: 123347, 4: 20584}]"
      ]
     },
     "execution_count": 50,
     "metadata": {},
     "output_type": "execute_result"
    }
   ],
   "source": [
    "X_train_cat[:5]"
   ]
  },
  {
   "cell_type": "code",
   "execution_count": 51,
   "metadata": {},
   "outputs": [
    {
     "data": {
      "text/plain": [
       "['ALL_CAPS', 'HAS_CAP', 'INIT_CAP', 'NO_CAPS', '__BOS__', '__EOS__']"
      ]
     },
     "execution_count": 51,
     "metadata": {},
     "output_type": "execute_result"
    }
   ],
   "source": [
    "capset = sorted(set(corpus_caps))\n",
    "capset"
   ]
  },
  {
   "cell_type": "code",
   "execution_count": 52,
   "metadata": {},
   "outputs": [
    {
     "data": {
      "text/plain": [
       "({0: 'ALL_CAPS',\n",
       "  1: 'HAS_CAP',\n",
       "  2: 'INIT_CAP',\n",
       "  3: 'NO_CAPS',\n",
       "  4: '__BOS__',\n",
       "  5: '__EOS__'},\n",
       " {'ALL_CAPS': 0,\n",
       "  'HAS_CAP': 1,\n",
       "  'INIT_CAP': 2,\n",
       "  'NO_CAPS': 3,\n",
       "  '__BOS__': 4,\n",
       "  '__EOS__': 5})"
      ]
     },
     "execution_count": 52,
     "metadata": {},
     "output_type": "execute_result"
    }
   ],
   "source": [
    "idx2cap = dict(enumerate(capset))\n",
    "cap2idx = {v: k for k, v in idx2cap.items()}\n",
    "idx2cap, cap2idx"
   ]
  },
  {
   "cell_type": "code",
   "execution_count": 53,
   "metadata": {},
   "outputs": [
    {
     "data": {
      "text/plain": [
       "{0: '__BOS__', 1: '__BOS__', 2: 'ALL_CAPS', 3: '__EOS__', 4: '__EOS__'}"
      ]
     },
     "execution_count": 53,
     "metadata": {},
     "output_type": "execute_result"
    }
   ],
   "source": [
    "X_train_caps_cat[0]"
   ]
  },
  {
   "cell_type": "code",
   "execution_count": 54,
   "metadata": {},
   "outputs": [],
   "source": [
    "for row in X_train_caps_cat:\n",
    "    for cap in row:\n",
    "        row[cap] = cap2idx.get(row[cap])\n",
    "\n",
    "for row in X_val_caps_cat:\n",
    "    for cap in row:\n",
    "        row[cap] = cap2idx.get(row[cap])\n",
    "\n",
    "for row in X_test_caps_cat:\n",
    "    for cap in row:\n",
    "        row[cap] = cap2idx.get(row[cap])"
   ]
  },
  {
   "cell_type": "markdown",
   "metadata": {},
   "source": [
    "## Vectorizing the ${X}$ Matrix.\n",
    "We create two embedding matrices, for the words and the case information"
   ]
  },
  {
   "cell_type": "markdown",
   "metadata": {},
   "source": [
    "### Vectorizing the Words"
   ]
  },
  {
   "cell_type": "code",
   "execution_count": 55,
   "metadata": {},
   "outputs": [],
   "source": [
    "dict_vect_words = DictVectorizer(dtype=np.int64, sparse=False)\n",
    "X_train = dict_vect_words.fit_transform(X_train_cat)\n",
    "X_val = dict_vect_words.transform(X_val_cat)\n",
    "X_test = dict_vect_words.transform(X_test_cat)"
   ]
  },
  {
   "cell_type": "code",
   "execution_count": 56,
   "metadata": {},
   "outputs": [
    {
     "data": {
      "text/plain": [
       "(256145, 5)"
      ]
     },
     "execution_count": 56,
     "metadata": {},
     "output_type": "execute_result"
    }
   ],
   "source": [
    "X_train.shape"
   ]
  },
  {
   "cell_type": "code",
   "execution_count": 57,
   "metadata": {},
   "outputs": [
    {
     "data": {
      "text/plain": [
       "array([[  6167,   6167,    792,   6168,   6168],\n",
       "       [  6167,   6167,  43538, 102380,  51126],\n",
       "       [  6167,  43538, 102380,  51126,  23293],\n",
       "       [ 43538, 102380,  51126,  23293, 123347],\n",
       "       [102380,  51126,  23293, 123347,  20584]])"
      ]
     },
     "execution_count": 57,
     "metadata": {},
     "output_type": "execute_result"
    }
   ],
   "source": [
    "X_train[:5]"
   ]
  },
  {
   "cell_type": "code",
   "execution_count": 58,
   "metadata": {},
   "outputs": [],
   "source": [
    "X_train = torch.from_numpy(X_train)\n",
    "X_val = torch.from_numpy(X_val)\n",
    "X_test = torch.from_numpy(X_test)"
   ]
  },
  {
   "cell_type": "code",
   "execution_count": 59,
   "metadata": {},
   "outputs": [
    {
     "data": {
      "text/plain": [
       "tensor([[115295,  85678, 128937,  35893,  91838],\n",
       "        [ 85678, 128937,  35893,  91838, 123520],\n",
       "        [128937,  35893,  91838, 123520,   6177],\n",
       "        [ 35893,  91838, 123520,   6177,  85241],\n",
       "        [ 91838, 123520,   6177,  85241,  21227]])"
      ]
     },
     "execution_count": 59,
     "metadata": {},
     "output_type": "execute_result"
    }
   ],
   "source": [
    "X_train[100:105]"
   ]
  },
  {
   "cell_type": "markdown",
   "metadata": {},
   "source": [
    "### Vectorizing the caps"
   ]
  },
  {
   "cell_type": "code",
   "execution_count": 60,
   "metadata": {},
   "outputs": [],
   "source": [
    "dict_vect_caps = DictVectorizer(dtype=np.int64, sparse=False)\n",
    "X_caps_train = dict_vect_caps.fit_transform(X_train_caps_cat)\n",
    "X_caps_val = dict_vect_caps.transform(X_val_caps_cat)\n",
    "X_caps_test = dict_vect_caps.transform(X_test_caps_cat)"
   ]
  },
  {
   "cell_type": "code",
   "execution_count": 61,
   "metadata": {},
   "outputs": [
    {
     "data": {
      "text/plain": [
       "(256145, 5)"
      ]
     },
     "execution_count": 61,
     "metadata": {},
     "output_type": "execute_result"
    }
   ],
   "source": [
    "X_caps_train.shape"
   ]
  },
  {
   "cell_type": "code",
   "execution_count": 62,
   "metadata": {},
   "outputs": [
    {
     "data": {
      "text/plain": [
       "array([[4, 4, 0, 5, 5],\n",
       "       [4, 4, 0, 3, 2],\n",
       "       [4, 0, 3, 2, 3],\n",
       "       [0, 3, 2, 3, 3],\n",
       "       [3, 2, 3, 3, 3]])"
      ]
     },
     "execution_count": 62,
     "metadata": {},
     "output_type": "execute_result"
    }
   ],
   "source": [
    "X_caps_train[:5]"
   ]
  },
  {
   "cell_type": "code",
   "execution_count": 63,
   "metadata": {},
   "outputs": [],
   "source": [
    "X_caps_train = torch.from_numpy(X_caps_train)\n",
    "X_caps_val = torch.from_numpy(X_caps_val)\n",
    "X_caps_test = torch.from_numpy(X_caps_test)"
   ]
  },
  {
   "cell_type": "code",
   "execution_count": 64,
   "metadata": {},
   "outputs": [
    {
     "data": {
      "text/plain": [
       "tensor([[4, 4, 0, 5, 5],\n",
       "        [4, 4, 0, 3, 2],\n",
       "        [4, 0, 3, 2, 3],\n",
       "        [0, 3, 2, 3, 3],\n",
       "        [3, 2, 3, 3, 3]])"
      ]
     },
     "execution_count": 64,
     "metadata": {},
     "output_type": "execute_result"
    }
   ],
   "source": [
    "X_caps_train[:5]"
   ]
  },
  {
   "cell_type": "markdown",
   "metadata": {
    "tags": []
   },
   "source": [
    "### Vectorizing $\\mathbf{y}$"
   ]
  },
  {
   "cell_type": "markdown",
   "metadata": {},
   "source": [
    "We create a torch matrix of size $(M, N)$, where $M$ will be the size of the vocabulary: The unique words in the training set and the words in Senna, and $N$, the dimension of the embeddings.\n",
    "The unknown word symbol will be part of the vocabulary at index 0. \n",
    "\n",
    "We initialize the matrix with random values with the `torch.rand()`"
   ]
  },
  {
   "cell_type": "code",
   "execution_count": 65,
   "metadata": {},
   "outputs": [],
   "source": [
    "# We add one row for the  unknown words at index 0\n",
    "embedding_table = (torch.rand(\n",
    "    (len(vocabulary) + 1, EMBEDDING_DIM)) - 0.5)/10  # range: -0.1, 0.1,\n",
    "# embedding_table = torch.rand((len(vocabulary) + 1, EMBEDDING_DIM)) - 0.5\n",
    "# embedding_table = torch.zeros((len(vocabulary) + 1, EMBEDDING_DIM))\n",
    "# embedding_table = torch.randn(\n",
    "#    (len(vocabulary) + 1, EMBEDDING_DIM))#/10"
   ]
  },
  {
   "cell_type": "code",
   "execution_count": 66,
   "metadata": {},
   "outputs": [
    {
     "data": {
      "text/plain": [
       "torch.Size([136491, 50])"
      ]
     },
     "execution_count": 66,
     "metadata": {},
     "output_type": "execute_result"
    }
   ],
   "source": [
    "embedding_table.size()"
   ]
  },
  {
   "cell_type": "markdown",
   "metadata": {},
   "source": [
    "We fill the matrix with the Senna embeddings when available. This means: We replace the random vector with an embedding when available. We will use the indices from the previous section. We call `out_of_embeddings` the list of words in CoNLL, but not in the embedding list."
   ]
  },
  {
   "cell_type": "code",
   "execution_count": 67,
   "metadata": {},
   "outputs": [],
   "source": [
    "out_of_embeddings = []\n",
    "for word in vocabulary:\n",
    "    if word in embeddings_dict:\n",
    "        # If the words are in the embeddings, we fill them with a value\n",
    "        embedding_table[word2idx[word]] = embeddings_dict[word]\n",
    "    else:\n",
    "        # Otherwise, it keeps a random value in the matrix\n",
    "        # We store the out of vocabulary words\n",
    "        out_of_embeddings += [word]"
   ]
  },
  {
   "cell_type": "code",
   "execution_count": 68,
   "metadata": {},
   "outputs": [
    {
     "data": {
      "text/plain": [
       "6490"
      ]
     },
     "execution_count": 68,
     "metadata": {},
     "output_type": "execute_result"
    }
   ],
   "source": [
    "len(out_of_embeddings)"
   ]
  },
  {
   "cell_type": "code",
   "execution_count": 69,
   "metadata": {},
   "outputs": [
    {
     "data": {
      "text/plain": [
       "['1633',\n",
       " 'mutawakel',\n",
       " '7:35.56',\n",
       " 'lb-8',\n",
       " 'borkus',\n",
       " '32',\n",
       " '6.5-8.5',\n",
       " '41.0-42.5',\n",
       " '2,746',\n",
       " '09/04/96']"
      ]
     },
     "execution_count": 69,
     "metadata": {},
     "output_type": "execute_result"
    }
   ],
   "source": [
    "out_of_embeddings[-10:]"
   ]
  },
  {
   "cell_type": "markdown",
   "metadata": {},
   "source": [
    "Embeddings of the unknown symbol, idx 0, random numbers"
   ]
  },
  {
   "cell_type": "code",
   "execution_count": 70,
   "metadata": {},
   "outputs": [
    {
     "data": {
      "text/plain": [
       "tensor([-0.0471, -0.0098, -0.0240, -0.0133, -0.0442,  0.0201, -0.0448, -0.0032,\n",
       "         0.0174, -0.0169])"
      ]
     },
     "execution_count": 70,
     "metadata": {},
     "output_type": "execute_result"
    }
   ],
   "source": [
    "embedding_table[0][:10]"
   ]
  },
  {
   "cell_type": "markdown",
   "metadata": {},
   "source": [
    "Embeddings of the word _table_, the Senna values"
   ]
  },
  {
   "cell_type": "code",
   "execution_count": 71,
   "metadata": {},
   "outputs": [
    {
     "data": {
      "text/plain": [
       "tensor([ 0.9408,  2.3745,  0.6668,  0.3591,  0.4177,  0.9110,  0.6482, -0.5022,\n",
       "         0.8337,  0.5341])"
      ]
     },
     "execution_count": 71,
     "metadata": {},
     "output_type": "execute_result"
    }
   ],
   "source": [
    "embedding_table[word2idx['table']][:10]"
   ]
  },
  {
   "cell_type": "markdown",
   "metadata": {},
   "source": [
    "Embeddings of _extrcurricular_, a word in CoNLL, but not in Senna, random numbers"
   ]
  },
  {
   "cell_type": "code",
   "execution_count": 72,
   "metadata": {},
   "outputs": [
    {
     "name": "stdout",
     "output_type": "stream",
     "text": [
      "tensor([ 3.8621e-02,  2.3867e-02, -2.9907e-02,  2.9927e-05, -4.4395e-02,\n",
      "        -1.2224e-02, -1.7157e-02,  3.0881e-02, -2.7246e-02, -3.1140e-02])\n"
     ]
    }
   ],
   "source": [
    "if USE_EMBEDDINGS == 2:\n",
    "    if CORPUS == 'EWT':\n",
    "        print(embedding_table[word2idx['extrcurricular']][:10])\n",
    "    elif CORPUS == 'CONLL2003':\n",
    "        print(embedding_table[word2idx['idalecio']][:10])"
   ]
  },
  {
   "cell_type": "markdown",
   "metadata": {},
   "source": [
    "The POS and the number of different POS"
   ]
  },
  {
   "cell_type": "code",
   "execution_count": 73,
   "metadata": {},
   "outputs": [
    {
     "data": {
      "text/plain": [
       "['B-LOC',\n",
       " 'B-MISC',\n",
       " 'B-ORG',\n",
       " 'B-PER',\n",
       " 'E-LOC',\n",
       " 'E-MISC',\n",
       " 'E-ORG',\n",
       " 'E-PER',\n",
       " 'I-LOC',\n",
       " 'I-MISC',\n",
       " 'I-ORG',\n",
       " 'I-PER',\n",
       " 'O',\n",
       " 'S-LOC',\n",
       " 'S-MISC',\n",
       " 'S-ORG',\n",
       " 'S-PER']"
      ]
     },
     "execution_count": 73,
     "metadata": {},
     "output_type": "execute_result"
    }
   ],
   "source": [
    "pos_tagset = sorted(set(y_train_cat))\n",
    "pos_tagset"
   ]
  },
  {
   "cell_type": "markdown",
   "metadata": {},
   "source": [
    "We build a part-of-speech index."
   ]
  },
  {
   "cell_type": "code",
   "execution_count": 74,
   "metadata": {},
   "outputs": [
    {
     "name": "stdout",
     "output_type": "stream",
     "text": [
      "{0: 'B-LOC', 1: 'B-MISC', 2: 'B-ORG', 3: 'B-PER', 4: 'E-LOC', 5: 'E-MISC', 6: 'E-ORG', 7: 'E-PER', 8: 'I-LOC', 9: 'I-MISC', 10: 'I-ORG', 11: 'I-PER', 12: 'O', 13: 'S-LOC', 14: 'S-MISC', 15: 'S-ORG', 16: 'S-PER'}\n"
     ]
    },
    {
     "data": {
      "text/plain": [
       "{'B-LOC': 0,\n",
       " 'B-MISC': 1,\n",
       " 'B-ORG': 2,\n",
       " 'B-PER': 3,\n",
       " 'E-LOC': 4,\n",
       " 'E-MISC': 5,\n",
       " 'E-ORG': 6,\n",
       " 'E-PER': 7,\n",
       " 'I-LOC': 8,\n",
       " 'I-MISC': 9,\n",
       " 'I-ORG': 10,\n",
       " 'I-PER': 11,\n",
       " 'O': 12,\n",
       " 'S-LOC': 13,\n",
       " 'S-MISC': 14,\n",
       " 'S-ORG': 15,\n",
       " 'S-PER': 16}"
      ]
     },
     "execution_count": 74,
     "metadata": {},
     "output_type": "execute_result"
    }
   ],
   "source": [
    "idx2pos = dict(enumerate(pos_tagset))\n",
    "pos2idx = {v: k for k, v in idx2pos.items()}\n",
    "print(idx2pos)\n",
    "pos2idx"
   ]
  },
  {
   "cell_type": "markdown",
   "metadata": {},
   "source": [
    "We encode $\\mathbf{y}$."
   ]
  },
  {
   "cell_type": "code",
   "execution_count": 75,
   "metadata": {},
   "outputs": [],
   "source": [
    "y_train = torch.LongTensor([pos2idx[i] for i in y_train_cat])\n",
    "y_val = torch.LongTensor([pos2idx.get(i, UNK_IDX) for i in y_val_cat])\n",
    "y_test = torch.LongTensor([pos2idx.get(i, UNK_IDX) for i in y_test_cat])"
   ]
  },
  {
   "cell_type": "code",
   "execution_count": 76,
   "metadata": {},
   "outputs": [
    {
     "data": {
      "text/plain": [
       "['O', 'S-ORG', 'O', 'S-MISC', 'O', 'O', 'O', 'S-MISC', 'O', 'O']"
      ]
     },
     "execution_count": 76,
     "metadata": {},
     "output_type": "execute_result"
    }
   ],
   "source": [
    "y_train_cat[:10]"
   ]
  },
  {
   "cell_type": "code",
   "execution_count": 77,
   "metadata": {},
   "outputs": [
    {
     "data": {
      "text/plain": [
       "tensor([11, 11,  7, 12, 12])"
      ]
     },
     "execution_count": 77,
     "metadata": {},
     "output_type": "execute_result"
    }
   ],
   "source": [
    "y_train[100:105]"
   ]
  },
  {
   "cell_type": "code",
   "execution_count": 78,
   "metadata": {},
   "outputs": [
    {
     "data": {
      "text/plain": [
       "(136491, 17, 6)"
      ]
     },
     "execution_count": 78,
     "metadata": {},
     "output_type": "execute_result"
    }
   ],
   "source": [
    "vocab_size = len(vocabulary) + 1\n",
    "tagset_size = len(pos_tagset)\n",
    "capset_size = len(capset)\n",
    "vocab_size, tagset_size, capset_size"
   ]
  },
  {
   "cell_type": "markdown",
   "metadata": {},
   "source": [
    "## The Tagger"
   ]
  },
  {
   "cell_type": "code",
   "execution_count": 79,
   "metadata": {},
   "outputs": [],
   "source": [
    "class Tagger():\n",
    "    def __init__(self,\n",
    "                 model,\n",
    "                 word2idx,\n",
    "                 cap2idx,\n",
    "                 idx2pos,\n",
    "                 dict_vect_words,\n",
    "                 dict_vect_caps,\n",
    "                 ppos_key='PTAG',\n",
    "                 lc=True):\n",
    "        super().__init__()\n",
    "        self.model = model\n",
    "        self.word2idx = word2idx\n",
    "        self.cap2idx = cap2idx\n",
    "        self.idx2pos = idx2pos\n",
    "        self.dict_vect_words = dict_vect_words\n",
    "        self.dict_vect_caps = dict_vect_caps\n",
    "        self.ppos_key = ppos_key\n",
    "        self.lc = lc\n",
    "\n",
    "    def sent2dict(self, sentence: str):\n",
    "        sent_dict = [{'ID': x, 'FORM': y} for (x, y) in\n",
    "                     enumerate(sentence.split(), start=1)]\n",
    "        for row in sent_dict:\n",
    "            self.add_case_info(row)\n",
    "        return sent_dict\n",
    "\n",
    "    def add_case_info(self, row: dict):\n",
    "        if (any(char.isupper() for char in row['FORM']) and\n",
    "                not any(char.islower() for char in row['FORM'])):\n",
    "            row['CAPS'] = 'ALL_CAPS'\n",
    "        elif row['FORM'][0].isupper():\n",
    "            row['CAPS'] = 'INIT_CAP'\n",
    "        elif any(char.isupper() for char in row['FORM']):\n",
    "            row['CAPS'] = 'HAS_CAP'\n",
    "        else:\n",
    "            row['CAPS'] = 'NO_CAPS'\n",
    "\n",
    "    def predict(self, sentence: list[dict]) -> list[dict]:\n",
    "        self.model.eval()\n",
    "        sent_words, _ = extract_cols(sentence)\n",
    "        if self.lc:\n",
    "            sent_words = list(map(str.lower, sent_words))\n",
    "        X_cat = create_X_cat(sent_words)\n",
    "        for x_cat in X_cat:\n",
    "            for word in x_cat:\n",
    "                x_cat[word] = self.word2idx.get(x_cat[word].lower(), 0)\n",
    "        X = self.dict_vect_words.transform(X_cat)\n",
    "\n",
    "        sent_caps, _ = extract_cols(sentence, x='CAPS')\n",
    "        X_caps_cat = create_X_cat(sent_caps)\n",
    "        for x_cat in X_caps_cat:\n",
    "            for word in x_cat:\n",
    "                x_cat[word] = self.cap2idx.get(x_cat[word])\n",
    "        X_caps = self.dict_vect_caps.transform(X_caps_cat)\n",
    "\n",
    "        X = torch.from_numpy(X)\n",
    "        X_caps = torch.from_numpy(X_caps)\n",
    "        X = torch.cat((X, X_caps), dim=-1)\n",
    "\n",
    "        y_pred_vec = torch.argmax(self.model(X.long()),\n",
    "                                  dim=-1)\n",
    "        # We add the predictions in the PTAG column\n",
    "        for row, y_pred in zip(sentence, y_pred_vec):\n",
    "            row[self.ppos_key] = idx2pos[y_pred.item()]\n",
    "        return sentence\n",
    "\n",
    "    def predict_sentences(self, sent_dicts: list[list[dict]]) -> list[list[dict]]:\n",
    "        pred_sents = []\n",
    "        for sentence in sent_dicts:\n",
    "            pred_sents += [self.predict(sentence)]\n",
    "        return pred_sents"
   ]
  },
  {
   "cell_type": "code",
   "execution_count": 80,
   "metadata": {},
   "outputs": [],
   "source": [
    "class CoNLLScorer():\n",
    "    def __init__(self, column_names: list,\n",
    "                 true_tag='UPOS',\n",
    "                 pred_tag='PTAG'):\n",
    "        super().__init__()\n",
    "        self.true_tag = true_tag\n",
    "        self.pred_tag = pred_tag\n",
    "        self.column_names = column_names + [pred_tag]\n",
    "\n",
    "    def format_corpus(self, corpus_dict: list[list[dict]]) -> str:\n",
    "        self.tagged_corpus = ''\n",
    "        for sentence in corpus_dict:\n",
    "            sentence_lst = []\n",
    "            for row in sentence:\n",
    "                items = map(lambda x: str(row.get(x, '_')), self.column_names)\n",
    "                sentence_lst += ' '.join(items) + '\\n'\n",
    "            sentence_lst += '\\n'\n",
    "            self.tagged_corpus += ''.join(sentence_lst)\n",
    "        return self.tagged_corpus\n",
    "\n",
    "    def conll_score(self, corpus_dict: list[list[dict]]) -> float:\n",
    "        lines = self.format_corpus(corpus_dict).splitlines()\n",
    "        res = conlleval.evaluate(lines)\n",
    "        chunker_score = res['overall']['chunks']['evals']['f1']\n",
    "        return chunker_score\n",
    "\n",
    "    def accuracy(self, corpus_dict: list[list[dict]]) -> float:\n",
    "        cnt = cnt_correct = 0\n",
    "        for dict in corpus_dict:\n",
    "            for row in dict:\n",
    "                cnt += 1\n",
    "                if row[self.true_tag] == row[self.pred_tag]:\n",
    "                    cnt_correct += 1\n",
    "        return cnt_correct/cnt"
   ]
  },
  {
   "cell_type": "markdown",
   "metadata": {
    "tags": []
   },
   "source": [
    "## The Model\n",
    "Our models"
   ]
  },
  {
   "cell_type": "code",
   "execution_count": 81,
   "metadata": {},
   "outputs": [
    {
     "data": {
      "text/plain": [
       "5"
      ]
     },
     "execution_count": 81,
     "metadata": {},
     "output_type": "execute_result"
    }
   ],
   "source": [
    "X_train.size(dim=1)"
   ]
  },
  {
   "cell_type": "code",
   "execution_count": 82,
   "metadata": {},
   "outputs": [],
   "source": [
    "class Model(nn.Module):\n",
    "    def __init__(self):\n",
    "        super().__init__()\n",
    "        self.d_win = 2 * D_WIN + 1  # Note that typically D_WIN = 2 and d_win = 5\n",
    "        self.word_embs = nn.Embedding.from_pretrained(\n",
    "            embedding_table, freeze=False)\n",
    "        #  self.word_embs = nn.Embedding(vocab_size, EMBEDDING_DIM)\n",
    "        self.cap_embs = nn.Embedding(\n",
    "            capset_size, CAPS_EMBEDDING_DIM)\n",
    "        self.flatten = nn.Flatten()\n",
    "        self.fc1 = nn.Linear(\n",
    "            self.d_win * (EMBEDDING_DIM + CAPS_EMBEDDING_DIM), N_HU_1)\n",
    "        self.hardth = nn.Hardtanh()\n",
    "        self.relu = nn.ReLU()\n",
    "        self.fc2 = nn.Linear(N_HU_1,\n",
    "                             tagset_size)\n",
    "\n",
    "    def forward(self, x):\n",
    "        word_vects = self.word_embs(x[:, :self.d_win])\n",
    "        cap_vects = self.cap_embs(x[:, self.d_win:])\n",
    "        x = torch.cat((word_vects, cap_vects), dim=-1)\n",
    "        x = self.flatten(x)\n",
    "        x = self.fc1(x)\n",
    "        #  x = self.hardth(x)\n",
    "        x = self.relu(x)\n",
    "        x = self.fc2(x)\n",
    "        return x"
   ]
  },
  {
   "cell_type": "code",
   "execution_count": 83,
   "metadata": {},
   "outputs": [],
   "source": [
    "model = Model()"
   ]
  },
  {
   "cell_type": "code",
   "execution_count": 84,
   "metadata": {},
   "outputs": [],
   "source": [
    "tagger = Tagger(model,\n",
    "                word2idx,\n",
    "                cap2idx,\n",
    "                idx2pos,\n",
    "                dict_vect_words,\n",
    "                dict_vect_caps)"
   ]
  },
  {
   "cell_type": "code",
   "execution_count": 85,
   "metadata": {},
   "outputs": [
    {
     "data": {
      "text/plain": [
       "[{'ID': 1, 'FORM': 'That', 'CAPS': 'INIT_CAP'},\n",
       " {'ID': 2, 'FORM': 'round', 'CAPS': 'NO_CAPS'},\n",
       " {'ID': 3, 'FORM': 'table', 'CAPS': 'NO_CAPS'},\n",
       " {'ID': 4, 'FORM': 'might', 'CAPS': 'NO_CAPS'},\n",
       " {'ID': 5, 'FORM': 'collapse', 'CAPS': 'NO_CAPS'},\n",
       " {'ID': 6, 'FORM': '.', 'CAPS': 'NO_CAPS'}]"
      ]
     },
     "execution_count": 85,
     "metadata": {},
     "output_type": "execute_result"
    }
   ],
   "source": [
    "sd = tagger.sent2dict(\"That round table might collapse .\")\n",
    "sd"
   ]
  },
  {
   "cell_type": "code",
   "execution_count": 86,
   "metadata": {},
   "outputs": [
    {
     "data": {
      "text/plain": [
       "[{'ID': 1, 'FORM': 'That', 'CAPS': 'INIT_CAP', 'PTAG': 'S-MISC'},\n",
       " {'ID': 2, 'FORM': 'round', 'CAPS': 'NO_CAPS', 'PTAG': 'S-MISC'},\n",
       " {'ID': 3, 'FORM': 'table', 'CAPS': 'NO_CAPS', 'PTAG': 'S-MISC'},\n",
       " {'ID': 4, 'FORM': 'might', 'CAPS': 'NO_CAPS', 'PTAG': 'S-LOC'},\n",
       " {'ID': 5, 'FORM': 'collapse', 'CAPS': 'NO_CAPS', 'PTAG': 'S-MISC'},\n",
       " {'ID': 6, 'FORM': '.', 'CAPS': 'NO_CAPS', 'PTAG': 'S-MISC'}]"
      ]
     },
     "execution_count": 86,
     "metadata": {},
     "output_type": "execute_result"
    }
   ],
   "source": [
    "tagger.predict(sd)"
   ]
  },
  {
   "cell_type": "code",
   "execution_count": 87,
   "metadata": {},
   "outputs": [
    {
     "data": {
      "text/plain": [
       "['FORM', 'PPOS', 'PCHUNK', 'NER']"
      ]
     },
     "execution_count": 87,
     "metadata": {},
     "output_type": "execute_result"
    }
   ],
   "source": [
    "column_names"
   ]
  },
  {
   "cell_type": "code",
   "execution_count": 88,
   "metadata": {},
   "outputs": [],
   "source": [
    "scorer = CoNLLScorer(column_names)"
   ]
  },
  {
   "cell_type": "code",
   "execution_count": 89,
   "metadata": {},
   "outputs": [
    {
     "data": {
      "text/plain": [
       "[{'ID': 1, 'FORM': 'That', 'CAPS': 'INIT_CAP', 'PTAG': 'S-MISC'},\n",
       " {'ID': 2, 'FORM': 'round', 'CAPS': 'NO_CAPS', 'PTAG': 'S-MISC'},\n",
       " {'ID': 3, 'FORM': 'table', 'CAPS': 'NO_CAPS', 'PTAG': 'S-MISC'},\n",
       " {'ID': 4, 'FORM': 'might', 'CAPS': 'NO_CAPS', 'PTAG': 'S-LOC'},\n",
       " {'ID': 5, 'FORM': 'collapse', 'CAPS': 'NO_CAPS', 'PTAG': 'S-MISC'},\n",
       " {'ID': 6, 'FORM': '.', 'CAPS': 'NO_CAPS', 'PTAG': 'S-MISC'}]"
      ]
     },
     "execution_count": 89,
     "metadata": {},
     "output_type": "execute_result"
    }
   ],
   "source": [
    "sd"
   ]
  },
  {
   "cell_type": "code",
   "execution_count": 90,
   "metadata": {},
   "outputs": [
    {
     "name": "stdout",
     "output_type": "stream",
     "text": [
      "That _ _ _ S-MISC\n",
      "round _ _ _ S-MISC\n",
      "table _ _ _ S-MISC\n",
      "might _ _ _ S-LOC\n",
      "collapse _ _ _ S-MISC\n",
      ". _ _ _ S-MISC\n",
      "\n",
      "\n"
     ]
    }
   ],
   "source": [
    "print(scorer.format_corpus([sd]))"
   ]
  },
  {
   "cell_type": "markdown",
   "metadata": {},
   "source": [
    "## Training the Model"
   ]
  },
  {
   "cell_type": "code",
   "execution_count": 91,
   "metadata": {},
   "outputs": [],
   "source": [
    "loss_fn = nn.CrossEntropyLoss()    # cross entropy loss\n",
    "optimizer = torch.optim.Adagrad(model.parameters(), lr=LR)\n",
    "# optimizer = torch.optim.AdamW(model.parameters(), lr=LR)\n",
    "# optimizer = torch.optim.SGD(model.parameters(), lr=LR)"
   ]
  },
  {
   "cell_type": "code",
   "execution_count": 92,
   "metadata": {},
   "outputs": [],
   "source": [
    "X_train = torch.cat((X_train, X_caps_train), dim=-1)\n",
    "X_val = torch.cat((X_val, X_caps_val), dim=-1)\n",
    "X_test = torch.cat((X_test, X_caps_test), dim=-1)"
   ]
  },
  {
   "cell_type": "code",
   "execution_count": 93,
   "metadata": {},
   "outputs": [
    {
     "data": {
      "text/plain": [
       "tensor([[  6167,   6167,    792,   6168,   6168,      4,      4,      0,      5,\n",
       "              5],\n",
       "        [  6167,   6167,  43538, 102380,  51126,      4,      4,      0,      3,\n",
       "              2],\n",
       "        [  6167,  43538, 102380,  51126,  23293,      4,      0,      3,      2,\n",
       "              3]])"
      ]
     },
     "execution_count": 93,
     "metadata": {},
     "output_type": "execute_result"
    }
   ],
   "source": [
    "X_train[:3]"
   ]
  },
  {
   "cell_type": "code",
   "execution_count": 94,
   "metadata": {},
   "outputs": [],
   "source": [
    "train_dataset = TensorDataset(X_train, y_train)\n",
    "train_dataloader = DataLoader(\n",
    "    train_dataset, batch_size=BATCH_SIZE, shuffle=True)\n",
    "\n",
    "val_dataset = TensorDataset(X_val, y_val)\n",
    "val_dataloader = DataLoader(\n",
    "    val_dataset, batch_size=2048, shuffle=False)\n",
    "\n",
    "test_dataset = TensorDataset(X_test, y_test)\n",
    "test_dataloader = DataLoader(\n",
    "    test_dataset, batch_size=2048, shuffle=False)"
   ]
  },
  {
   "cell_type": "code",
   "execution_count": 95,
   "metadata": {},
   "outputs": [],
   "source": [
    "def evaluate(model,\n",
    "             loss_fn,\n",
    "             dataloader) -> tuple[float, float]:\n",
    "    model.eval()\n",
    "    with torch.no_grad():\n",
    "        loss = 0\n",
    "        acc = 0\n",
    "        batch_cnt = 0\n",
    "        for X_batch, y_batch in dataloader:\n",
    "            batch_cnt += 1\n",
    "            y_batch_pred = model(X_batch)\n",
    "            loss += (loss_fn(y_batch_pred, y_batch)\n",
    "                     * y_batch.size(dim=0)).item()\n",
    "            acc += (sum(torch.argmax(y_batch_pred, dim=-1)\n",
    "                    == y_batch)).item()\n",
    "        len_dataset = len(dataloader.dataset)\n",
    "        return loss/len_dataset, acc/len_dataset"
   ]
  },
  {
   "cell_type": "code",
   "execution_count": 96,
   "metadata": {},
   "outputs": [],
   "source": [
    "history = {}\n",
    "history['accuracy'] = []\n",
    "history['loss'] = []\n",
    "history['conll_score'] = []\n",
    "history['val_accuracy'] = []\n",
    "history['val_loss'] = []\n",
    "history['val_conll_score'] = []"
   ]
  },
  {
   "cell_type": "code",
   "execution_count": 97,
   "metadata": {},
   "outputs": [
    {
     "name": "stdout",
     "output_type": "stream",
     "text": [
      "Époque : 0\n"
     ]
    },
    {
     "name": "stderr",
     "output_type": "stream",
     "text": [
      "100%|██████████| 256145/256145 [36:35<00:00, 116.68it/s]\n"
     ]
    },
    {
     "name": "stdout",
     "output_type": "stream",
     "text": [
      "Val. CoNLL score: 0.8220\n",
      "Epoch: 0, best model saved\n",
      "Epoch: 0 Val. loss: 0.1107 Val. acc.: 0.9679 Val. CoNLL score: 0.8220\n",
      "Best figures at epoch 0:\n",
      " \tLoss: 0.1107 (ep. 0) \tAcc.: 0.9679 (ep. 0) \tCoNLL score: 0.8220 (ep. 0)\n",
      "Époque : 1\n"
     ]
    },
    {
     "name": "stderr",
     "output_type": "stream",
     "text": [
      "100%|██████████| 256145/256145 [39:46<00:00, 107.31it/s]\n"
     ]
    },
    {
     "name": "stdout",
     "output_type": "stream",
     "text": [
      "Val. CoNLL score: 0.8365\n",
      "Epoch: 1, best model saved\n",
      "Epoch: 1 Val. loss: 0.1031 Val. acc.: 0.9706 Val. CoNLL score: 0.8365\n",
      "Best figures at epoch 1:\n",
      " \tLoss: 0.1031 (ep. 1) \tAcc.: 0.9706 (ep. 1) \tCoNLL score: 0.8365 (ep. 1)\n",
      "Époque : 2\n"
     ]
    },
    {
     "name": "stderr",
     "output_type": "stream",
     "text": [
      "100%|██████████| 256145/256145 [39:38<00:00, 107.68it/s]\n"
     ]
    },
    {
     "name": "stdout",
     "output_type": "stream",
     "text": [
      "Val. CoNLL score: 0.8400\n",
      "Epoch: 2, best model saved\n",
      "Epoch: 2 Val. loss: 0.1014 Val. acc.: 0.9712 Val. CoNLL score: 0.8400\n",
      "Best figures at epoch 2:\n",
      " \tLoss: 0.1014 (ep. 2) \tAcc.: 0.9712 (ep. 2) \tCoNLL score: 0.8400 (ep. 2)\n",
      "Époque : 3\n"
     ]
    },
    {
     "name": "stderr",
     "output_type": "stream",
     "text": [
      "100%|██████████| 256145/256145 [39:51<00:00, 107.10it/s]\n"
     ]
    },
    {
     "name": "stdout",
     "output_type": "stream",
     "text": [
      "Val. CoNLL score: 0.8415\n",
      "Epoch: 3, best model saved\n",
      "Epoch: 3 Val. loss: 0.1007 Val. acc.: 0.9717 Val. CoNLL score: 0.8415\n",
      "Best figures at epoch 3:\n",
      " \tLoss: 0.1007 (ep. 3) \tAcc.: 0.9717 (ep. 3) \tCoNLL score: 0.8415 (ep. 3)\n",
      "Époque : 4\n"
     ]
    },
    {
     "name": "stderr",
     "output_type": "stream",
     "text": [
      "100%|██████████| 256145/256145 [39:45<00:00, 107.35it/s]\n"
     ]
    },
    {
     "name": "stdout",
     "output_type": "stream",
     "text": [
      "Val. CoNLL score: 0.8462\n",
      "Epoch: 4, best model saved\n",
      "Epoch: 4 Val. loss: 0.0994 Val. acc.: 0.9725 Val. CoNLL score: 0.8462\n",
      "Best figures at epoch 4:\n",
      " \tLoss: 0.0994 (ep. 4) \tAcc.: 0.9725 (ep. 4) \tCoNLL score: 0.8462 (ep. 4)\n",
      "Époque : 5\n"
     ]
    },
    {
     "name": "stderr",
     "output_type": "stream",
     "text": [
      "100%|██████████| 256145/256145 [39:50<00:00, 107.16it/s]\n"
     ]
    },
    {
     "name": "stdout",
     "output_type": "stream",
     "text": [
      "Val. CoNLL score: 0.8484\n",
      "Epoch: 5, best model saved\n",
      "Epoch: 5 Val. loss: 0.1000 Val. acc.: 0.9727 Val. CoNLL score: 0.8484\n",
      "Best figures at epoch 5:\n",
      " \tLoss: 0.0994 (ep. 4) \tAcc.: 0.9727 (ep. 5) \tCoNLL score: 0.8484 (ep. 5)\n",
      "Époque : 6\n"
     ]
    },
    {
     "name": "stderr",
     "output_type": "stream",
     "text": [
      "100%|██████████| 256145/256145 [30:29<00:00, 140.01it/s]\n"
     ]
    },
    {
     "name": "stdout",
     "output_type": "stream",
     "text": [
      "Val. CoNLL score: 0.8527\n",
      "Epoch: 6, best model saved\n",
      "Epoch: 6 Val. loss: 0.1005 Val. acc.: 0.9731 Val. CoNLL score: 0.8527\n",
      "Best figures at epoch 6:\n",
      " \tLoss: 0.0994 (ep. 4) \tAcc.: 0.9731 (ep. 6) \tCoNLL score: 0.8527 (ep. 6)\n",
      "Époque : 7\n"
     ]
    },
    {
     "name": "stderr",
     "output_type": "stream",
     "text": [
      "100%|██████████| 256145/256145 [17:51<00:00, 238.99it/s]\n"
     ]
    },
    {
     "name": "stdout",
     "output_type": "stream",
     "text": [
      "Val. CoNLL score: 0.8542\n",
      "Epoch: 7, best model saved\n",
      "Epoch: 7 Val. loss: 0.1005 Val. acc.: 0.9735 Val. CoNLL score: 0.8542\n",
      "Best figures at epoch 7:\n",
      " \tLoss: 0.0994 (ep. 4) \tAcc.: 0.9735 (ep. 7) \tCoNLL score: 0.8542 (ep. 7)\n",
      "Époque : 8\n"
     ]
    },
    {
     "name": "stderr",
     "output_type": "stream",
     "text": [
      "100%|██████████| 256145/256145 [17:53<00:00, 238.70it/s]\n"
     ]
    },
    {
     "name": "stdout",
     "output_type": "stream",
     "text": [
      "Val. CoNLL score: 0.8530\n",
      "Epoch: 8 Val. loss: 0.1014 Val. acc.: 0.9732 Val. CoNLL score: 0.8530\n",
      "Best figures at epoch 8:\n",
      " \tLoss: 0.0994 (ep. 4) \tAcc.: 0.9735 (ep. 7) \tCoNLL score: 0.8542 (ep. 7)\n",
      "Époque : 9\n"
     ]
    },
    {
     "name": "stderr",
     "output_type": "stream",
     "text": [
      "100%|██████████| 256145/256145 [17:53<00:00, 238.70it/s]\n"
     ]
    },
    {
     "name": "stdout",
     "output_type": "stream",
     "text": [
      "Val. CoNLL score: 0.8584\n",
      "Epoch: 9, best model saved\n",
      "Epoch: 9 Val. loss: 0.1019 Val. acc.: 0.9735 Val. CoNLL score: 0.8584\n",
      "Best figures at epoch 9:\n",
      " \tLoss: 0.0994 (ep. 4) \tAcc.: 0.9735 (ep. 9) \tCoNLL score: 0.8584 (ep. 9)\n",
      "Époque : 10\n"
     ]
    },
    {
     "name": "stderr",
     "output_type": "stream",
     "text": [
      "100%|██████████| 256145/256145 [17:53<00:00, 238.53it/s]\n"
     ]
    },
    {
     "name": "stdout",
     "output_type": "stream",
     "text": [
      "Val. CoNLL score: 0.8539\n",
      "Epoch: 10 Val. loss: 0.1032 Val. acc.: 0.9734 Val. CoNLL score: 0.8539\n",
      "Best figures at epoch 10:\n",
      " \tLoss: 0.0994 (ep. 4) \tAcc.: 0.9735 (ep. 9) \tCoNLL score: 0.8584 (ep. 9)\n",
      "Époque : 11\n"
     ]
    },
    {
     "name": "stderr",
     "output_type": "stream",
     "text": [
      "100%|██████████| 256145/256145 [17:50<00:00, 239.28it/s]\n"
     ]
    },
    {
     "name": "stdout",
     "output_type": "stream",
     "text": [
      "Val. CoNLL score: 0.8561\n",
      "Epoch: 11 Val. loss: 0.1029 Val. acc.: 0.9737 Val. CoNLL score: 0.8561\n",
      "Best figures at epoch 11:\n",
      " \tLoss: 0.0994 (ep. 4) \tAcc.: 0.9737 (ep. 11) \tCoNLL score: 0.8584 (ep. 9)\n",
      "Époque : 12\n"
     ]
    },
    {
     "name": "stderr",
     "output_type": "stream",
     "text": [
      "100%|██████████| 256145/256145 [17:53<00:00, 238.55it/s]\n"
     ]
    },
    {
     "name": "stdout",
     "output_type": "stream",
     "text": [
      "Val. CoNLL score: 0.8569\n",
      "Epoch: 12 Val. loss: 0.1033 Val. acc.: 0.9739 Val. CoNLL score: 0.8569\n",
      "Best figures at epoch 12:\n",
      " \tLoss: 0.0994 (ep. 4) \tAcc.: 0.9739 (ep. 12) \tCoNLL score: 0.8584 (ep. 9)\n",
      "Époque : 13\n"
     ]
    },
    {
     "name": "stderr",
     "output_type": "stream",
     "text": [
      "100%|██████████| 256145/256145 [17:55<00:00, 238.25it/s]\n"
     ]
    },
    {
     "name": "stdout",
     "output_type": "stream",
     "text": [
      "Val. CoNLL score: 0.8571\n",
      "Epoch: 13 Val. loss: 0.1044 Val. acc.: 0.9738 Val. CoNLL score: 0.8571\n",
      "Best figures at epoch 13:\n",
      " \tLoss: 0.0994 (ep. 4) \tAcc.: 0.9739 (ep. 12) \tCoNLL score: 0.8584 (ep. 9)\n",
      "Époque : 14\n"
     ]
    },
    {
     "name": "stderr",
     "output_type": "stream",
     "text": [
      "100%|██████████| 256145/256145 [17:51<00:00, 239.12it/s]\n"
     ]
    },
    {
     "name": "stdout",
     "output_type": "stream",
     "text": [
      "Val. CoNLL score: 0.8571\n",
      "Epoch: 14 Val. loss: 0.1053 Val. acc.: 0.9737 Val. CoNLL score: 0.8571\n",
      "Best figures at epoch 14:\n",
      " \tLoss: 0.0994 (ep. 4) \tAcc.: 0.9739 (ep. 12) \tCoNLL score: 0.8584 (ep. 9)\n",
      "Époque : 15\n"
     ]
    },
    {
     "name": "stderr",
     "output_type": "stream",
     "text": [
      "100%|██████████| 256145/256145 [17:52<00:00, 238.74it/s]\n"
     ]
    },
    {
     "name": "stdout",
     "output_type": "stream",
     "text": [
      "Val. CoNLL score: 0.8594\n",
      "Epoch: 15, best model saved\n",
      "Epoch: 15 Val. loss: 0.1064 Val. acc.: 0.9740 Val. CoNLL score: 0.8594\n",
      "Best figures at epoch 15:\n",
      " \tLoss: 0.0994 (ep. 4) \tAcc.: 0.9740 (ep. 15) \tCoNLL score: 0.8594 (ep. 15)\n",
      "Époque : 16\n"
     ]
    },
    {
     "name": "stderr",
     "output_type": "stream",
     "text": [
      "100%|██████████| 256145/256145 [17:52<00:00, 238.79it/s]\n"
     ]
    },
    {
     "name": "stdout",
     "output_type": "stream",
     "text": [
      "Val. CoNLL score: 0.8572\n",
      "Epoch: 16 Val. loss: 0.1072 Val. acc.: 0.9736 Val. CoNLL score: 0.8572\n",
      "Best figures at epoch 16:\n",
      " \tLoss: 0.0994 (ep. 4) \tAcc.: 0.9740 (ep. 15) \tCoNLL score: 0.8594 (ep. 15)\n",
      "Époque : 17\n"
     ]
    },
    {
     "name": "stderr",
     "output_type": "stream",
     "text": [
      "100%|██████████| 256145/256145 [18:01<00:00, 236.78it/s]\n"
     ]
    },
    {
     "name": "stdout",
     "output_type": "stream",
     "text": [
      "Val. CoNLL score: 0.8602\n",
      "Epoch: 17, best model saved\n",
      "Epoch: 17 Val. loss: 0.1074 Val. acc.: 0.9740 Val. CoNLL score: 0.8602\n",
      "Best figures at epoch 17:\n",
      " \tLoss: 0.0994 (ep. 4) \tAcc.: 0.9740 (ep. 17) \tCoNLL score: 0.8602 (ep. 17)\n",
      "Époque : 18\n"
     ]
    },
    {
     "name": "stderr",
     "output_type": "stream",
     "text": [
      "100%|██████████| 256145/256145 [17:59<00:00, 237.30it/s]\n"
     ]
    },
    {
     "name": "stdout",
     "output_type": "stream",
     "text": [
      "Val. CoNLL score: 0.8614\n",
      "Epoch: 18, best model saved\n",
      "Epoch: 18 Val. loss: 0.1076 Val. acc.: 0.9741 Val. CoNLL score: 0.8614\n",
      "Best figures at epoch 18:\n",
      " \tLoss: 0.0994 (ep. 4) \tAcc.: 0.9741 (ep. 18) \tCoNLL score: 0.8614 (ep. 18)\n",
      "Époque : 19\n"
     ]
    },
    {
     "name": "stderr",
     "output_type": "stream",
     "text": [
      "100%|██████████| 256145/256145 [17:54<00:00, 238.44it/s]\n"
     ]
    },
    {
     "name": "stdout",
     "output_type": "stream",
     "text": [
      "Val. CoNLL score: 0.8578\n",
      "Epoch: 19 Val. loss: 0.1089 Val. acc.: 0.9736 Val. CoNLL score: 0.8578\n",
      "Best figures at epoch 19:\n",
      " \tLoss: 0.0994 (ep. 4) \tAcc.: 0.9741 (ep. 18) \tCoNLL score: 0.8614 (ep. 18)\n",
      "Époque : 20\n"
     ]
    },
    {
     "name": "stderr",
     "output_type": "stream",
     "text": [
      "100%|██████████| 256145/256145 [17:43<00:00, 240.79it/s]\n"
     ]
    },
    {
     "name": "stdout",
     "output_type": "stream",
     "text": [
      "Val. CoNLL score: 0.8578\n",
      "Epoch: 20 Val. loss: 0.1102 Val. acc.: 0.9735 Val. CoNLL score: 0.8578\n",
      "Best figures at epoch 20:\n",
      " \tLoss: 0.0994 (ep. 4) \tAcc.: 0.9741 (ep. 18) \tCoNLL score: 0.8614 (ep. 18)\n",
      "Époque : 21\n"
     ]
    },
    {
     "name": "stderr",
     "output_type": "stream",
     "text": [
      "100%|██████████| 256145/256145 [17:40<00:00, 241.59it/s]\n"
     ]
    },
    {
     "name": "stdout",
     "output_type": "stream",
     "text": [
      "Val. CoNLL score: 0.8585\n",
      "Epoch: 21 Val. loss: 0.1112 Val. acc.: 0.9736 Val. CoNLL score: 0.8585\n",
      "Best figures at epoch 21:\n",
      " \tLoss: 0.0994 (ep. 4) \tAcc.: 0.9741 (ep. 18) \tCoNLL score: 0.8614 (ep. 18)\n",
      "Époque : 22\n"
     ]
    },
    {
     "name": "stderr",
     "output_type": "stream",
     "text": [
      "100%|██████████| 256145/256145 [17:46<00:00, 240.16it/s]\n"
     ]
    },
    {
     "name": "stdout",
     "output_type": "stream",
     "text": [
      "Val. CoNLL score: 0.8590\n",
      "Epoch: 22 Val. loss: 0.1115 Val. acc.: 0.9737 Val. CoNLL score: 0.8590\n",
      "Best figures at epoch 22:\n",
      " \tLoss: 0.0994 (ep. 4) \tAcc.: 0.9741 (ep. 18) \tCoNLL score: 0.8614 (ep. 18)\n",
      "Époque : 23\n"
     ]
    },
    {
     "name": "stderr",
     "output_type": "stream",
     "text": [
      "100%|██████████| 256145/256145 [20:22<00:00, 209.55it/s]\n"
     ]
    },
    {
     "name": "stdout",
     "output_type": "stream",
     "text": [
      "Val. CoNLL score: 0.8585\n",
      "Epoch: 23 Val. loss: 0.1125 Val. acc.: 0.9737 Val. CoNLL score: 0.8585\n",
      "Best figures at epoch 23:\n",
      " \tLoss: 0.0994 (ep. 4) \tAcc.: 0.9741 (ep. 18) \tCoNLL score: 0.8614 (ep. 18)\n",
      "Époque : 24\n"
     ]
    },
    {
     "name": "stderr",
     "output_type": "stream",
     "text": [
      "100%|██████████| 256145/256145 [27:21<00:00, 156.04it/s]\n"
     ]
    },
    {
     "name": "stdout",
     "output_type": "stream",
     "text": [
      "Val. CoNLL score: 0.8580\n",
      "Epoch: 24 Val. loss: 0.1130 Val. acc.: 0.9736 Val. CoNLL score: 0.8580\n",
      "Best figures at epoch 24:\n",
      " \tLoss: 0.0994 (ep. 4) \tAcc.: 0.9741 (ep. 18) \tCoNLL score: 0.8614 (ep. 18)\n"
     ]
    }
   ],
   "source": [
    "best_loss = 1000\n",
    "best_acc = best_score = 0\n",
    "best_loss_epoch = best_acc_epoch = best_score_epoch = 0\n",
    "for epoch in range(EPOCHS):\n",
    "    print('Époque :', epoch)\n",
    "    train_loss = train_acc = 0\n",
    "    batch_cnt = 0\n",
    "    model.train()\n",
    "    for X_batch, y_batch in tqdm(train_dataloader):\n",
    "        batch_cnt += 1\n",
    "        y_batch_pred = model(X_batch)\n",
    "        loss = loss_fn(y_batch_pred, y_batch)\n",
    "        optimizer.zero_grad()\n",
    "        loss.backward()\n",
    "        optimizer.step()\n",
    "        train_acc += (sum(\n",
    "            torch.argmax(y_batch_pred, dim=-1)\n",
    "            == y_batch)/y_batch.size(dim=0)).item()\n",
    "        train_loss += loss.item()\n",
    "    model.eval()\n",
    "    with torch.no_grad():\n",
    "        history['accuracy'] += [train_acc/batch_cnt]\n",
    "        history['loss'] += [train_loss/batch_cnt]\n",
    "        val_loss, val_accuracy = evaluate(model, loss_fn, val_dataloader)\n",
    "        history['val_loss'] += [val_loss]\n",
    "        history['val_accuracy'] += [val_accuracy]\n",
    "        if val_accuracy > best_acc:\n",
    "            best_acc_epoch = epoch\n",
    "            best_acc = val_accuracy\n",
    "        if val_loss < best_loss:\n",
    "            best_loss_epoch = epoch\n",
    "            best_loss = val_loss\n",
    "            if CORPUS == 'EWT':\n",
    "                torch.save(model, MODEL_FILE)\n",
    "                print(f'Epoch: {epoch}, model saved')\n",
    "        \n",
    "        train_pred_sents = tagger.predict_sentences(train_dict)\n",
    "        val_pred_sents = tagger.predict_sentences(val_dict)\n",
    "        if CORPUS in ['CONLL2000', 'CONLL2003']:\n",
    "            train_chunker_score = scorer.conll_score(train_pred_sents)\n",
    "            history['conll_score'] += [train_chunker_score]\n",
    "            val_chunker_score = scorer.conll_score(val_pred_sents)\n",
    "            history['val_conll_score'] += [val_chunker_score]\n",
    "            print(f'Val. CoNLL score: {val_chunker_score:.4f}')\n",
    "            if val_chunker_score > best_score:\n",
    "                best_score_epoch = epoch\n",
    "                best_score = val_chunker_score\n",
    "                torch.save(model, MODEL_FILE)\n",
    "                print(f'Epoch: {epoch}, best model saved')\n",
    "            print(\n",
    "                f'Epoch: {epoch}',\n",
    "                f'Val. loss: {val_loss:.4f}',\n",
    "                f'Val. acc.: {val_accuracy:.4f}',\n",
    "                f'Val. CoNLL score: {val_chunker_score:.4f}')\n",
    "        elif CORPUS == 'EWT':\n",
    "            print(\n",
    "                f'Epoch: {epoch}',\n",
    "                f'Val. loss: {val_loss:.4f}',\n",
    "                f'Val. acc.: {val_accuracy:.4f}')\n",
    "\n",
    "        # For the CoNLL corpus, we use the test set as validation set.\n",
    "        print(f'Best figures at epoch {epoch}:\\n',\n",
    "              f'\\tLoss: {best_loss:.4f} (ep. {best_loss_epoch})',\n",
    "              f'\\tAcc.: {best_acc:.4f} (ep. {best_acc_epoch})',\n",
    "              f'\\tCoNLL score: {best_score:.4f} (ep. {best_score_epoch})')"
   ]
  },
  {
   "cell_type": "code",
   "execution_count": 98,
   "metadata": {},
   "outputs": [
    {
     "data": {
      "image/png": "[encoded data removed]",
      "text/plain": [
       "<Figure size 1500x500 with 3 Axes>"
      ]
     },
     "metadata": {},
     "output_type": "display_data"
    }
   ],
   "source": [
    "acc = history['accuracy']\n",
    "loss = history['loss']\n",
    "conll_score = history['conll_score']\n",
    "\n",
    "val_acc = history['val_accuracy']\n",
    "val_loss = history['val_loss']\n",
    "val_conll_score = history['val_conll_score']\n",
    "\n",
    "epochs = range(1, len(acc) + 1)\n",
    "plt.figure(figsize=(15, 5))\n",
    "plt.subplot(1, 3, 1)\n",
    "plt.plot(epochs, acc, 'bo', label='Training accuracy')\n",
    "plt.plot(epochs, val_acc, 'b', label='Validation accuracy')\n",
    "plt.title('Training and validation accuracies')\n",
    "plt.legend()\n",
    "\n",
    "plt.subplot(1, 3, 2)\n",
    "plt.plot(epochs, loss, 'bo', label='Training loss')\n",
    "plt.plot(epochs, val_loss, 'b', label='Validation loss')\n",
    "plt.title('Training and validation losses')\n",
    "plt.legend()\n",
    "\n",
    "if CORPUS in ['CONLL2000', 'CONLL2003']:\n",
    "    plt.subplot(1, 3, 3)\n",
    "    plt.plot(epochs, conll_score, 'bo', label='Training score')\n",
    "    plt.plot(epochs, val_conll_score, 'b', label='Validation score')\n",
    "    plt.title('Training and validation scores')\n",
    "    plt.legend()\n",
    "plt.tight_layout()\n",
    "plt.show()"
   ]
  },
  {
   "cell_type": "markdown",
   "metadata": {
    "tags": []
   },
   "source": [
    "### Predicting a Value"
   ]
  },
  {
   "cell_type": "code",
   "execution_count": 99,
   "metadata": {},
   "outputs": [
    {
     "data": {
      "text/plain": [
       "Model(\n",
       "  (word_embs): Embedding(136491, 50)\n",
       "  (cap_embs): Embedding(6, 5)\n",
       "  (flatten): Flatten(start_dim=1, end_dim=-1)\n",
       "  (fc1): Linear(in_features=275, out_features=300, bias=True)\n",
       "  (hardth): Hardtanh(min_val=-1.0, max_val=1.0)\n",
       "  (relu): ReLU()\n",
       "  (fc2): Linear(in_features=300, out_features=17, bias=True)\n",
       ")"
      ]
     },
     "execution_count": 99,
     "metadata": {},
     "output_type": "execute_result"
    }
   ],
   "source": [
    "model = torch.load(MODEL_FILE, weights_only=False)\n",
    "model.eval()"
   ]
  },
  {
   "cell_type": "markdown",
   "metadata": {},
   "source": [
    "We set the tagger model to the best model"
   ]
  },
  {
   "cell_type": "code",
   "execution_count": 100,
   "metadata": {},
   "outputs": [],
   "source": [
    "tagger.model = model"
   ]
  },
  {
   "cell_type": "code",
   "execution_count": 101,
   "metadata": {},
   "outputs": [
    {
     "data": {
      "text/plain": [
       "tensor([[-16.5355, -12.6065, -10.4487,  ...,  -7.3575,  -7.5331, -10.7390],\n",
       "        [-21.2702, -16.7645, -14.0689,  ..., -13.1933, -10.5316, -16.3909],\n",
       "        [-20.9816, -14.3598, -15.5748,  ..., -15.2952, -21.7303, -23.9145],\n",
       "        ...,\n",
       "        [-27.3813, -22.3066, -16.8657,  ..., -16.7026, -24.3843, -20.2402],\n",
       "        [-12.4894, -16.4256, -13.9746,  ..., -14.8802, -11.4630,  -5.4727],\n",
       "        [-25.9098, -19.7733, -23.2392,  ..., -13.9702, -20.8995, -19.6334]],\n",
       "       grad_fn=<AddmmBackward0>)"
      ]
     },
     "execution_count": 101,
     "metadata": {},
     "output_type": "execute_result"
    }
   ],
   "source": [
    "Y_test_pred = model(X_test)\n",
    "Y_test_pred"
   ]
  },
  {
   "cell_type": "code",
   "execution_count": 102,
   "metadata": {},
   "outputs": [
    {
     "data": {
      "text/plain": [
       "tensor([12, 12, 12,  ..., 12, 16, 12])"
      ]
     },
     "execution_count": 102,
     "metadata": {},
     "output_type": "execute_result"
    }
   ],
   "source": [
    "y_test_pred = torch.argmax(model(X_test), dim=-1)\n",
    "y_test_pred"
   ]
  },
  {
   "cell_type": "code",
   "execution_count": 103,
   "metadata": {},
   "outputs": [
    {
     "data": {
      "text/plain": [
       "['O',\n",
       " 'O',\n",
       " 'O',\n",
       " 'S-LOC',\n",
       " 'O',\n",
       " 'O',\n",
       " 'O',\n",
       " 'O',\n",
       " 'S-LOC',\n",
       " 'O',\n",
       " 'O',\n",
       " 'O',\n",
       " 'O',\n",
       " 'B-PER',\n",
       " 'E-PER',\n",
       " 'S-LOC',\n",
       " 'O',\n",
       " 'B-LOC',\n",
       " 'I-ORG',\n",
       " 'E-LOC',\n",
       " 'O',\n",
       " 'S-LOC',\n",
       " 'O',\n",
       " 'O',\n",
       " 'O',\n",
       " 'O',\n",
       " 'O',\n",
       " 'B-MISC',\n",
       " 'E-MISC',\n",
       " 'O',\n",
       " 'O',\n",
       " 'O',\n",
       " 'O',\n",
       " 'O',\n",
       " 'O',\n",
       " 'O',\n",
       " 'S-LOC',\n",
       " 'O',\n",
       " 'O',\n",
       " 'O',\n",
       " 'O',\n",
       " 'O',\n",
       " 'O',\n",
       " 'O',\n",
       " 'O',\n",
       " 'O',\n",
       " 'O',\n",
       " 'S-LOC',\n",
       " 'O',\n",
       " 'O',\n",
       " 'O',\n",
       " 'O',\n",
       " 'O',\n",
       " 'O',\n",
       " 'O',\n",
       " 'O',\n",
       " 'O',\n",
       " 'O',\n",
       " 'O',\n",
       " 'O',\n",
       " 'O',\n",
       " 'O',\n",
       " 'O',\n",
       " 'O',\n",
       " 'O',\n",
       " 'O',\n",
       " 'O',\n",
       " 'O',\n",
       " 'O',\n",
       " 'S-LOC',\n",
       " 'O',\n",
       " 'S-LOC',\n",
       " 'O',\n",
       " 'O',\n",
       " 'O',\n",
       " 'O',\n",
       " 'O',\n",
       " 'O',\n",
       " 'O',\n",
       " 'O',\n",
       " 'O',\n",
       " 'O',\n",
       " 'O',\n",
       " 'O',\n",
       " 'O',\n",
       " 'O',\n",
       " 'O',\n",
       " 'S-MISC',\n",
       " 'O',\n",
       " 'B-PER',\n",
       " 'E-PER',\n",
       " 'O',\n",
       " 'O',\n",
       " 'O',\n",
       " 'O',\n",
       " 'O',\n",
       " 'O',\n",
       " 'O',\n",
       " 'O',\n",
       " 'O',\n",
       " 'O',\n",
       " 'O',\n",
       " 'O',\n",
       " 'O',\n",
       " 'O',\n",
       " 'S-MISC',\n",
       " 'O',\n",
       " 'O',\n",
       " 'O',\n",
       " 'O',\n",
       " 'O',\n",
       " 'O',\n",
       " 'O',\n",
       " 'B-PER',\n",
       " 'E-PER',\n",
       " 'O',\n",
       " 'O',\n",
       " 'O',\n",
       " 'O',\n",
       " 'O',\n",
       " 'O',\n",
       " 'O',\n",
       " 'O',\n",
       " 'O',\n",
       " 'O',\n",
       " 'O',\n",
       " 'O',\n",
       " 'O',\n",
       " 'O',\n",
       " 'O',\n",
       " 'O',\n",
       " 'O',\n",
       " 'O',\n",
       " 'O',\n",
       " 'O',\n",
       " 'O',\n",
       " 'O',\n",
       " 'O',\n",
       " 'S-MISC',\n",
       " 'O',\n",
       " 'O',\n",
       " 'O',\n",
       " 'O',\n",
       " 'O',\n",
       " 'B-MISC',\n",
       " 'E-MISC',\n",
       " 'O',\n",
       " 'O',\n",
       " 'O',\n",
       " 'O',\n",
       " 'O',\n",
       " 'O',\n",
       " 'O',\n",
       " 'O',\n",
       " 'O',\n",
       " 'O',\n",
       " 'B-MISC',\n",
       " 'E-MISC',\n",
       " 'O',\n",
       " 'O',\n",
       " 'O',\n",
       " 'O',\n",
       " 'O',\n",
       " 'S-LOC',\n",
       " 'O',\n",
       " 'O',\n",
       " 'O',\n",
       " 'O',\n",
       " 'O',\n",
       " 'O',\n",
       " 'O',\n",
       " 'O',\n",
       " 'O',\n",
       " 'O',\n",
       " 'O',\n",
       " 'O',\n",
       " 'O',\n",
       " 'O',\n",
       " 'O',\n",
       " 'O',\n",
       " 'O',\n",
       " 'O',\n",
       " 'S-LOC',\n",
       " 'O',\n",
       " 'O',\n",
       " 'O',\n",
       " 'O',\n",
       " 'O',\n",
       " 'O',\n",
       " 'O',\n",
       " 'O',\n",
       " 'O',\n",
       " 'O',\n",
       " 'O',\n",
       " 'O',\n",
       " 'O',\n",
       " 'O',\n",
       " 'S-LOC',\n",
       " 'O',\n",
       " 'B-PER',\n",
       " 'E-PER',\n",
       " 'O',\n",
       " 'O',\n",
       " 'O',\n",
       " 'O',\n",
       " 'O',\n",
       " 'O',\n",
       " 'O',\n",
       " 'O',\n",
       " 'O',\n",
       " 'O',\n",
       " 'O',\n",
       " 'O',\n",
       " 'B-MISC',\n",
       " 'E-ORG',\n",
       " 'O',\n",
       " 'O',\n",
       " 'O',\n",
       " 'S-MISC',\n",
       " 'O',\n",
       " 'O',\n",
       " 'O',\n",
       " 'B-PER',\n",
       " 'E-PER',\n",
       " 'O',\n",
       " 'O',\n",
       " 'O',\n",
       " 'O',\n",
       " 'O',\n",
       " 'O',\n",
       " 'O',\n",
       " 'O',\n",
       " 'O',\n",
       " 'O',\n",
       " 'O',\n",
       " 'O',\n",
       " 'O',\n",
       " 'O',\n",
       " 'O',\n",
       " 'O',\n",
       " 'O',\n",
       " 'O',\n",
       " 'O',\n",
       " 'O',\n",
       " 'S-LOC',\n",
       " 'O',\n",
       " 'O',\n",
       " 'O',\n",
       " 'O',\n",
       " 'O',\n",
       " 'B-PER',\n",
       " 'E-PER',\n",
       " 'O',\n",
       " 'O',\n",
       " 'O',\n",
       " 'O',\n",
       " 'O',\n",
       " 'O',\n",
       " 'O',\n",
       " 'O',\n",
       " 'O',\n",
       " 'O',\n",
       " 'O',\n",
       " 'O',\n",
       " 'O',\n",
       " 'O',\n",
       " 'O',\n",
       " 'O',\n",
       " 'O',\n",
       " 'O',\n",
       " 'O',\n",
       " 'O',\n",
       " 'O',\n",
       " 'O',\n",
       " 'O',\n",
       " 'O',\n",
       " 'S-PER',\n",
       " 'O',\n",
       " 'O',\n",
       " 'O',\n",
       " 'B-PER',\n",
       " 'E-PER',\n",
       " 'O',\n",
       " 'O',\n",
       " 'S-LOC',\n",
       " 'O',\n",
       " 'O',\n",
       " 'O',\n",
       " 'O',\n",
       " 'O',\n",
       " 'O',\n",
       " 'O',\n",
       " 'O',\n",
       " 'O',\n",
       " 'O',\n",
       " 'O',\n",
       " 'S-LOC',\n",
       " 'O',\n",
       " 'O',\n",
       " 'O',\n",
       " 'O',\n",
       " 'O',\n",
       " 'S-MISC',\n",
       " 'O',\n",
       " 'O',\n",
       " 'O',\n",
       " 'O',\n",
       " 'O',\n",
       " 'O',\n",
       " 'O',\n",
       " 'O',\n",
       " 'O',\n",
       " 'O',\n",
       " 'O',\n",
       " 'S-MISC',\n",
       " 'O',\n",
       " 'O',\n",
       " 'S-PER',\n",
       " 'O',\n",
       " 'O',\n",
       " 'O',\n",
       " 'O',\n",
       " 'O',\n",
       " 'O',\n",
       " 'O',\n",
       " 'O',\n",
       " 'S-LOC',\n",
       " 'O',\n",
       " 'B-PER',\n",
       " 'E-PER',\n",
       " 'O',\n",
       " 'O',\n",
       " 'O',\n",
       " 'O',\n",
       " 'O',\n",
       " 'S-MISC',\n",
       " 'O',\n",
       " 'O',\n",
       " 'O',\n",
       " 'O',\n",
       " 'O',\n",
       " 'O',\n",
       " 'O',\n",
       " 'O',\n",
       " 'S-MISC',\n",
       " 'O',\n",
       " 'O',\n",
       " 'O',\n",
       " 'O',\n",
       " 'O',\n",
       " 'O',\n",
       " 'O',\n",
       " 'O',\n",
       " 'O',\n",
       " 'O',\n",
       " 'O',\n",
       " 'O',\n",
       " 'O',\n",
       " 'O',\n",
       " 'O',\n",
       " 'O',\n",
       " 'O',\n",
       " 'O',\n",
       " 'O',\n",
       " 'S-LOC',\n",
       " 'O',\n",
       " 'O',\n",
       " 'O',\n",
       " 'O',\n",
       " 'B-MISC',\n",
       " 'E-MISC',\n",
       " 'O',\n",
       " 'O',\n",
       " 'O',\n",
       " 'O',\n",
       " 'O',\n",
       " 'O',\n",
       " 'O',\n",
       " 'O',\n",
       " 'O',\n",
       " 'S-MISC',\n",
       " 'O',\n",
       " 'O',\n",
       " 'O',\n",
       " 'O',\n",
       " 'O',\n",
       " 'O',\n",
       " 'O',\n",
       " 'O',\n",
       " 'O',\n",
       " 'O',\n",
       " 'S-LOC',\n",
       " 'O',\n",
       " 'S-LOC',\n",
       " 'O',\n",
       " 'B-LOC',\n",
       " 'E-LOC',\n",
       " 'O',\n",
       " 'O',\n",
       " 'S-LOC',\n",
       " 'O',\n",
       " 'O',\n",
       " 'O',\n",
       " 'O',\n",
       " 'O',\n",
       " 'O',\n",
       " 'O',\n",
       " 'O',\n",
       " 'O',\n",
       " 'O',\n",
       " 'O',\n",
       " 'O',\n",
       " 'O',\n",
       " 'O',\n",
       " 'O',\n",
       " 'O',\n",
       " 'O',\n",
       " 'O',\n",
       " 'O',\n",
       " 'O',\n",
       " 'O',\n",
       " 'B-ORG',\n",
       " 'E-ORG',\n",
       " 'O',\n",
       " 'S-PER',\n",
       " 'O',\n",
       " 'O',\n",
       " 'S-LOC',\n",
       " 'O',\n",
       " 'O',\n",
       " 'O',\n",
       " 'O',\n",
       " 'S-LOC',\n",
       " 'O',\n",
       " 'S-LOC',\n",
       " 'O',\n",
       " 'B-PER',\n",
       " 'E-PER',\n",
       " 'O',\n",
       " 'O',\n",
       " 'O',\n",
       " 'O',\n",
       " 'O',\n",
       " 'O',\n",
       " 'S-LOC',\n",
       " 'O',\n",
       " 'S-ORG',\n",
       " 'O',\n",
       " 'O',\n",
       " 'O',\n",
       " 'O',\n",
       " 'O',\n",
       " 'O',\n",
       " 'O',\n",
       " 'O',\n",
       " 'O',\n",
       " 'O',\n",
       " 'O',\n",
       " 'O',\n",
       " 'O',\n",
       " 'O',\n",
       " 'O',\n",
       " 'O',\n",
       " 'O',\n",
       " 'S-PER',\n",
       " 'O',\n",
       " 'O',\n",
       " 'O',\n",
       " 'B-PER',\n",
       " 'E-PER',\n",
       " 'O',\n",
       " 'O',\n",
       " 'O',\n",
       " 'O',\n",
       " 'O',\n",
       " 'O',\n",
       " 'O',\n",
       " 'O',\n",
       " 'O',\n",
       " 'O',\n",
       " 'O',\n",
       " 'O',\n",
       " 'O',\n",
       " 'O',\n",
       " 'O',\n",
       " 'O',\n",
       " 'O',\n",
       " 'O',\n",
       " 'O',\n",
       " 'O',\n",
       " 'O',\n",
       " 'O',\n",
       " 'O',\n",
       " 'O',\n",
       " 'S-LOC',\n",
       " 'O',\n",
       " 'S-LOC',\n",
       " 'O',\n",
       " 'O',\n",
       " 'O',\n",
       " 'B-PER',\n",
       " 'E-PER',\n",
       " 'O',\n",
       " 'O',\n",
       " 'O',\n",
       " 'O',\n",
       " 'O',\n",
       " 'S-PER',\n",
       " 'O',\n",
       " 'O',\n",
       " 'O',\n",
       " 'O',\n",
       " 'O',\n",
       " 'O',\n",
       " 'B-PER',\n",
       " 'E-PER',\n",
       " 'O',\n",
       " 'O',\n",
       " 'O',\n",
       " 'O',\n",
       " 'O',\n",
       " 'O',\n",
       " 'O',\n",
       " 'S-LOC',\n",
       " 'O',\n",
       " 'O',\n",
       " 'O',\n",
       " 'O',\n",
       " 'O',\n",
       " 'O',\n",
       " 'O',\n",
       " 'O',\n",
       " 'O',\n",
       " 'O',\n",
       " 'S-PER',\n",
       " 'O',\n",
       " 'O',\n",
       " 'O',\n",
       " 'O',\n",
       " 'O',\n",
       " 'O',\n",
       " 'B-MISC',\n",
       " 'E-MISC',\n",
       " 'O',\n",
       " 'O',\n",
       " 'O',\n",
       " 'O',\n",
       " 'O',\n",
       " 'O',\n",
       " 'O',\n",
       " 'O',\n",
       " 'O',\n",
       " 'O',\n",
       " 'S-LOC',\n",
       " 'O',\n",
       " 'O',\n",
       " 'O',\n",
       " 'S-LOC',\n",
       " 'O',\n",
       " 'O',\n",
       " 'O',\n",
       " 'O',\n",
       " 'O',\n",
       " 'S-PER',\n",
       " 'O',\n",
       " 'O',\n",
       " 'O',\n",
       " 'O',\n",
       " 'O',\n",
       " 'O',\n",
       " 'O',\n",
       " 'O',\n",
       " 'O',\n",
       " 'O',\n",
       " 'O',\n",
       " 'O',\n",
       " 'O',\n",
       " 'O',\n",
       " 'O',\n",
       " 'O',\n",
       " 'O',\n",
       " 'B-MISC',\n",
       " 'E-MISC',\n",
       " 'O',\n",
       " 'O',\n",
       " 'O',\n",
       " 'O',\n",
       " 'O',\n",
       " 'O',\n",
       " 'S-PER',\n",
       " 'O',\n",
       " 'O',\n",
       " 'O',\n",
       " 'O',\n",
       " 'O',\n",
       " 'O',\n",
       " 'O',\n",
       " 'O',\n",
       " 'O',\n",
       " 'O',\n",
       " 'O',\n",
       " 'O',\n",
       " 'O',\n",
       " 'O',\n",
       " 'O',\n",
       " 'O',\n",
       " 'O',\n",
       " 'O',\n",
       " 'O',\n",
       " 'O',\n",
       " 'O',\n",
       " 'O',\n",
       " 'O',\n",
       " 'O',\n",
       " 'O',\n",
       " 'O',\n",
       " 'O',\n",
       " 'O',\n",
       " 'O',\n",
       " 'O',\n",
       " 'O',\n",
       " 'O',\n",
       " 'O',\n",
       " 'O',\n",
       " 'O',\n",
       " 'O',\n",
       " 'B-PER',\n",
       " 'E-PER',\n",
       " 'O',\n",
       " 'B-PER',\n",
       " 'E-PER',\n",
       " 'O',\n",
       " 'B-PER',\n",
       " 'E-PER',\n",
       " 'O',\n",
       " 'B-PER',\n",
       " 'E-PER',\n",
       " 'O',\n",
       " 'B-PER',\n",
       " 'E-PER',\n",
       " 'O',\n",
       " 'B-PER',\n",
       " 'E-PER',\n",
       " 'O',\n",
       " 'B-PER',\n",
       " 'E-PER',\n",
       " 'O',\n",
       " 'B-PER',\n",
       " 'E-PER',\n",
       " 'O',\n",
       " 'B-PER',\n",
       " 'E-PER',\n",
       " 'O',\n",
       " 'B-PER',\n",
       " 'E-PER',\n",
       " 'O',\n",
       " 'B-PER',\n",
       " 'E-PER',\n",
       " 'O',\n",
       " 'B-PER',\n",
       " 'E-PER',\n",
       " 'O',\n",
       " 'B-PER',\n",
       " 'E-PER',\n",
       " 'O',\n",
       " 'B-PER',\n",
       " 'I-ORG',\n",
       " 'E-PER',\n",
       " 'O',\n",
       " 'B-PER',\n",
       " 'E-PER',\n",
       " 'O',\n",
       " 'B-PER',\n",
       " 'E-PER',\n",
       " 'O',\n",
       " 'B-PER',\n",
       " 'E-PER',\n",
       " 'O',\n",
       " 'B-PER',\n",
       " 'E-PER',\n",
       " 'O',\n",
       " 'B-PER',\n",
       " 'E-PER',\n",
       " 'O',\n",
       " 'B-PER',\n",
       " 'E-PER',\n",
       " 'O',\n",
       " 'B-PER',\n",
       " 'E-PER',\n",
       " 'O',\n",
       " 'O',\n",
       " 'O',\n",
       " 'O',\n",
       " 'O',\n",
       " 'O',\n",
       " 'O',\n",
       " 'S-LOC',\n",
       " 'O',\n",
       " 'O',\n",
       " 'S-LOC',\n",
       " 'O',\n",
       " 'S-LOC',\n",
       " 'O',\n",
       " 'B-LOC',\n",
       " 'I-ORG',\n",
       " 'E-LOC',\n",
       " 'O',\n",
       " 'O',\n",
       " 'O',\n",
       " 'O',\n",
       " 'O',\n",
       " 'O',\n",
       " 'O',\n",
       " 'O',\n",
       " 'O',\n",
       " 'O',\n",
       " 'S-LOC',\n",
       " 'O',\n",
       " 'O',\n",
       " 'O',\n",
       " 'B-MISC',\n",
       " 'E-MISC',\n",
       " 'O',\n",
       " 'O',\n",
       " 'S-LOC',\n",
       " 'O',\n",
       " 'O',\n",
       " 'O',\n",
       " 'B-PER',\n",
       " 'E-PER',\n",
       " 'O',\n",
       " 'O',\n",
       " 'O',\n",
       " 'O',\n",
       " 'O',\n",
       " 'O',\n",
       " 'O',\n",
       " 'O',\n",
       " 'O',\n",
       " 'O',\n",
       " 'O',\n",
       " 'O',\n",
       " 'O',\n",
       " 'O',\n",
       " 'B-PER',\n",
       " 'E-PER',\n",
       " 'O',\n",
       " 'O',\n",
       " 'O',\n",
       " 'O',\n",
       " 'O',\n",
       " 'O',\n",
       " 'O',\n",
       " 'O',\n",
       " 'O',\n",
       " 'O',\n",
       " 'O',\n",
       " 'O',\n",
       " 'O',\n",
       " 'O',\n",
       " 'O',\n",
       " 'O',\n",
       " 'O',\n",
       " 'O',\n",
       " 'S-MISC',\n",
       " 'O',\n",
       " 'O',\n",
       " 'O',\n",
       " 'O',\n",
       " 'O',\n",
       " 'O',\n",
       " 'O',\n",
       " 'B-PER',\n",
       " 'E-PER',\n",
       " 'O',\n",
       " 'O',\n",
       " 'O',\n",
       " 'O',\n",
       " 'O',\n",
       " 'O',\n",
       " 'O',\n",
       " 'O',\n",
       " 'O',\n",
       " 'O',\n",
       " 'O',\n",
       " 'O',\n",
       " 'O',\n",
       " 'O',\n",
       " 'O',\n",
       " 'O',\n",
       " 'O',\n",
       " 'O',\n",
       " 'O',\n",
       " 'O',\n",
       " 'O',\n",
       " 'O',\n",
       " 'O',\n",
       " 'O',\n",
       " 'S-PER',\n",
       " 'O',\n",
       " 'O',\n",
       " 'O',\n",
       " 'S-LOC',\n",
       " 'O',\n",
       " 'O',\n",
       " 'O',\n",
       " 'O',\n",
       " 'O',\n",
       " 'O',\n",
       " 'O',\n",
       " 'O',\n",
       " 'O',\n",
       " 'O',\n",
       " 'O',\n",
       " 'O',\n",
       " 'O',\n",
       " 'O',\n",
       " 'B-PER',\n",
       " 'E-PER',\n",
       " 'O',\n",
       " 'O',\n",
       " 'O',\n",
       " 'O',\n",
       " 'O',\n",
       " 'O',\n",
       " 'O',\n",
       " 'B-PER',\n",
       " 'E-PER',\n",
       " 'O',\n",
       " 'O',\n",
       " 'O',\n",
       " 'O',\n",
       " 'O',\n",
       " 'O',\n",
       " 'B-PER',\n",
       " 'E-PER',\n",
       " 'O',\n",
       " 'O',\n",
       " 'O',\n",
       " 'S-LOC',\n",
       " 'O',\n",
       " 'O',\n",
       " 'O',\n",
       " 'O',\n",
       " 'O',\n",
       " 'S-MISC',\n",
       " 'O',\n",
       " 'O',\n",
       " 'O',\n",
       " 'O',\n",
       " 'O',\n",
       " 'O',\n",
       " 'O',\n",
       " 'O',\n",
       " 'O',\n",
       " 'O',\n",
       " 'O',\n",
       " 'O',\n",
       " 'O',\n",
       " 'O',\n",
       " 'O',\n",
       " 'O',\n",
       " 'O',\n",
       " 'O',\n",
       " 'S-PER',\n",
       " 'O',\n",
       " 'O',\n",
       " 'O',\n",
       " 'O',\n",
       " 'O',\n",
       " 'O',\n",
       " 'O',\n",
       " 'O',\n",
       " 'B-PER',\n",
       " 'E-PER',\n",
       " 'O',\n",
       " 'O',\n",
       " 'O',\n",
       " 'O',\n",
       " 'O',\n",
       " 'O',\n",
       " 'S-PER',\n",
       " 'O',\n",
       " 'O',\n",
       " 'O',\n",
       " 'S-PER',\n",
       " 'O',\n",
       " 'O',\n",
       " 'O',\n",
       " 'O',\n",
       " 'S-PER',\n",
       " 'O',\n",
       " 'O',\n",
       " 'O',\n",
       " 'O',\n",
       " 'O',\n",
       " 'O',\n",
       " 'O',\n",
       " 'O',\n",
       " 'O',\n",
       " 'O',\n",
       " 'O',\n",
       " 'O',\n",
       " 'O',\n",
       " 'S-LOC',\n",
       " 'O',\n",
       " 'O',\n",
       " 'O',\n",
       " 'O',\n",
       " 'O',\n",
       " 'O',\n",
       " 'S-PER',\n",
       " 'O',\n",
       " 'O',\n",
       " 'O',\n",
       " 'O',\n",
       " 'O',\n",
       " 'O',\n",
       " 'O',\n",
       " 'O',\n",
       " 'O',\n",
       " 'O',\n",
       " 'O',\n",
       " 'O',\n",
       " 'B-PER',\n",
       " 'E-PER',\n",
       " 'O',\n",
       " 'O',\n",
       " 'O',\n",
       " 'O',\n",
       " 'O',\n",
       " 'O',\n",
       " 'O',\n",
       " 'O',\n",
       " 'S-LOC',\n",
       " 'O',\n",
       " 'O',\n",
       " 'O',\n",
       " 'B-PER',\n",
       " 'E-PER',\n",
       " 'O',\n",
       " 'O',\n",
       " 'O',\n",
       " 'B-PER',\n",
       " 'E-PER',\n",
       " 'O',\n",
       " 'O',\n",
       " 'O',\n",
       " 'B-PER',\n",
       " 'E-PER',\n",
       " 'O',\n",
       " 'O',\n",
       " 'O',\n",
       " 'B-PER',\n",
       " 'E-PER',\n",
       " 'O',\n",
       " 'O',\n",
       " 'O',\n",
       " 'B-PER',\n",
       " 'E-PER',\n",
       " 'O',\n",
       " 'O',\n",
       " 'O',\n",
       " 'B-PER',\n",
       " 'E-PER',\n",
       " 'O',\n",
       " 'O',\n",
       " 'O',\n",
       " 'B-PER',\n",
       " 'E-PER',\n",
       " 'O',\n",
       " 'O',\n",
       " 'O',\n",
       " 'B-ORG',\n",
       " 'E-ORG',\n",
       " 'O',\n",
       " 'O',\n",
       " 'O',\n",
       " 'O',\n",
       " 'O',\n",
       " 'B-PER',\n",
       " 'E-PER',\n",
       " 'O',\n",
       " 'O',\n",
       " 'O',\n",
       " 'B-PER',\n",
       " 'E-PER',\n",
       " 'O',\n",
       " 'O',\n",
       " 'O',\n",
       " 'B-PER',\n",
       " 'E-PER',\n",
       " 'O',\n",
       " 'O',\n",
       " 'O',\n",
       " 'B-PER',\n",
       " 'E-PER',\n",
       " 'O',\n",
       " 'O',\n",
       " 'O',\n",
       " ...]"
      ]
     },
     "execution_count": 103,
     "metadata": {},
     "output_type": "execute_result"
    }
   ],
   "source": [
    "list(map(lambda x: idx2pos.get(x, 'UNK'),\n",
    "     torch.argmax(model(X_test), dim=-1).tolist()))"
   ]
  },
  {
   "cell_type": "markdown",
   "metadata": {},
   "source": [
    "### Testing the Model"
   ]
  },
  {
   "cell_type": "code",
   "execution_count": 104,
   "metadata": {},
   "outputs": [
    {
     "data": {
      "text/plain": [
       "(0.10759750655260128, 0.9740924870355291)"
      ]
     },
     "execution_count": 104,
     "metadata": {},
     "output_type": "execute_result"
    }
   ],
   "source": [
    "loss_test, acc_test = evaluate(model, loss_fn, test_dataloader)\n",
    "loss_test, acc_test"
   ]
  },
  {
   "cell_type": "code",
   "execution_count": 105,
   "metadata": {},
   "outputs": [],
   "source": [
    "target_names = sorted(pos2idx.keys(), key=lambda x: pos2idx[x])"
   ]
  },
  {
   "cell_type": "code",
   "execution_count": 106,
   "metadata": {},
   "outputs": [
    {
     "data": {
      "text/plain": [
       "['B-LOC',\n",
       " 'B-MISC',\n",
       " 'B-ORG',\n",
       " 'B-PER',\n",
       " 'E-LOC',\n",
       " 'E-MISC',\n",
       " 'E-ORG',\n",
       " 'E-PER',\n",
       " 'I-LOC',\n",
       " 'I-MISC',\n",
       " 'I-ORG',\n",
       " 'I-PER',\n",
       " 'O',\n",
       " 'S-LOC',\n",
       " 'S-MISC',\n",
       " 'S-ORG',\n",
       " 'S-PER']"
      ]
     },
     "execution_count": 106,
     "metadata": {},
     "output_type": "execute_result"
    }
   ],
   "source": [
    "target_names"
   ]
  },
  {
   "cell_type": "code",
   "execution_count": 107,
   "metadata": {},
   "outputs": [
    {
     "data": {
      "text/plain": [
       "tensor([12, 12, 12, 13, 12, 12, 12, 12, 13, 12, 12, 12, 12,  3,  7, 13, 12,  0,\n",
       "        10,  4, 12, 13, 12, 12, 12, 12, 12,  1,  5, 12])"
      ]
     },
     "execution_count": 107,
     "metadata": {},
     "output_type": "execute_result"
    }
   ],
   "source": [
    "y_test_pred[:30]"
   ]
  },
  {
   "cell_type": "code",
   "execution_count": 108,
   "metadata": {},
   "outputs": [
    {
     "data": {
      "text/plain": [
       "tensor([12, 12, 12])"
      ]
     },
     "execution_count": 108,
     "metadata": {},
     "output_type": "execute_result"
    }
   ],
   "source": [
    "y_test[:3]"
   ]
  },
  {
   "cell_type": "code",
   "execution_count": 109,
   "metadata": {},
   "outputs": [
    {
     "data": {
      "text/plain": [
       "17"
      ]
     },
     "execution_count": 109,
     "metadata": {},
     "output_type": "execute_result"
    }
   ],
   "source": [
    "len(target_names)"
   ]
  },
  {
   "cell_type": "code",
   "execution_count": 110,
   "metadata": {},
   "outputs": [
    {
     "data": {
      "text/plain": [
       "{'B-LOC': 0,\n",
       " 'B-MISC': 1,\n",
       " 'B-ORG': 2,\n",
       " 'B-PER': 3,\n",
       " 'E-LOC': 4,\n",
       " 'E-MISC': 5,\n",
       " 'E-ORG': 6,\n",
       " 'E-PER': 7,\n",
       " 'I-LOC': 8,\n",
       " 'I-MISC': 9,\n",
       " 'I-ORG': 10,\n",
       " 'I-PER': 11,\n",
       " 'O': 12,\n",
       " 'S-LOC': 13,\n",
       " 'S-MISC': 14,\n",
       " 'S-ORG': 15,\n",
       " 'S-PER': 16}"
      ]
     },
     "execution_count": 110,
     "metadata": {},
     "output_type": "execute_result"
    }
   ],
   "source": [
    "pos2idx"
   ]
  },
  {
   "cell_type": "code",
   "execution_count": 111,
   "metadata": {},
   "outputs": [
    {
     "name": "stdout",
     "output_type": "stream",
     "text": [
      "              precision    recall  f1-score   support\n",
      "\n",
      "       B-LOC     0.8448    0.8066    0.8253       243\n",
      "      B-MISC     0.6780    0.6186    0.6469       194\n",
      "       B-ORG     0.8187    0.8103    0.8144       585\n",
      "       B-PER     0.9705    0.9777    0.9741      1078\n",
      "       E-LOC     0.8147    0.8217    0.8182       230\n",
      "      E-MISC     0.6893    0.6321    0.6595       193\n",
      "       E-ORG     0.8636    0.8117    0.8368       616\n",
      "       E-PER     0.9724    0.9769    0.9746      1081\n",
      "       I-LOC     0.4800    0.5714    0.5217        21\n",
      "      I-MISC     0.6410    0.5319    0.5814        47\n",
      "       I-ORG     0.8477    0.7806    0.8127       278\n",
      "       I-PER     0.8714    0.9104    0.8905        67\n",
      "           O     0.9925    0.9939    0.9932     38501\n",
      "       S-LOC     0.9352    0.9249    0.9301      1452\n",
      "      S-MISC     0.8038    0.8440    0.8234       500\n",
      "       S-ORG     0.8669    0.8791    0.8730      1067\n",
      "       S-PER     0.8719    0.9025    0.8870       513\n",
      "\n",
      "    accuracy                         0.9741     46666\n",
      "   macro avg     0.8213    0.8114    0.8155     46666\n",
      "weighted avg     0.9738    0.9741    0.9739     46666\n",
      "\n"
     ]
    }
   ],
   "source": [
    "print(classification_report(\n",
    "    y_test_pred,\n",
    "    y_test,\n",
    "    digits=4,\n",
    "    labels=range(len(target_names)),\n",
    "    target_names=target_names,\n",
    "    zero_division=0))"
   ]
  },
  {
   "cell_type": "markdown",
   "metadata": {},
   "source": [
    "## Sentences"
   ]
  },
  {
   "cell_type": "code",
   "execution_count": 112,
   "metadata": {},
   "outputs": [],
   "source": [
    "sentences = [\"That round table might collapse .\",\n",
    "             \"The man can learn well .\",\n",
    "             \"The man can swim .\",\n",
    "             \"The man can simwo .\",\n",
    "             'The Soviet Union might collapse .']"
   ]
  },
  {
   "cell_type": "code",
   "execution_count": 113,
   "metadata": {},
   "outputs": [
    {
     "data": {
      "text/plain": [
       "[[{'ID': 1, 'FORM': 'That', 'CAPS': 'INIT_CAP'},\n",
       "  {'ID': 2, 'FORM': 'round', 'CAPS': 'NO_CAPS'},\n",
       "  {'ID': 3, 'FORM': 'table', 'CAPS': 'NO_CAPS'},\n",
       "  {'ID': 4, 'FORM': 'might', 'CAPS': 'NO_CAPS'},\n",
       "  {'ID': 5, 'FORM': 'collapse', 'CAPS': 'NO_CAPS'},\n",
       "  {'ID': 6, 'FORM': '.', 'CAPS': 'NO_CAPS'}],\n",
       " [{'ID': 1, 'FORM': 'The', 'CAPS': 'INIT_CAP'},\n",
       "  {'ID': 2, 'FORM': 'man', 'CAPS': 'NO_CAPS'},\n",
       "  {'ID': 3, 'FORM': 'can', 'CAPS': 'NO_CAPS'},\n",
       "  {'ID': 4, 'FORM': 'learn', 'CAPS': 'NO_CAPS'},\n",
       "  {'ID': 5, 'FORM': 'well', 'CAPS': 'NO_CAPS'},\n",
       "  {'ID': 6, 'FORM': '.', 'CAPS': 'NO_CAPS'}],\n",
       " [{'ID': 1, 'FORM': 'The', 'CAPS': 'INIT_CAP'},\n",
       "  {'ID': 2, 'FORM': 'man', 'CAPS': 'NO_CAPS'},\n",
       "  {'ID': 3, 'FORM': 'can', 'CAPS': 'NO_CAPS'},\n",
       "  {'ID': 4, 'FORM': 'swim', 'CAPS': 'NO_CAPS'},\n",
       "  {'ID': 5, 'FORM': '.', 'CAPS': 'NO_CAPS'}],\n",
       " [{'ID': 1, 'FORM': 'The', 'CAPS': 'INIT_CAP'},\n",
       "  {'ID': 2, 'FORM': 'man', 'CAPS': 'NO_CAPS'},\n",
       "  {'ID': 3, 'FORM': 'can', 'CAPS': 'NO_CAPS'},\n",
       "  {'ID': 4, 'FORM': 'simwo', 'CAPS': 'NO_CAPS'},\n",
       "  {'ID': 5, 'FORM': '.', 'CAPS': 'NO_CAPS'}],\n",
       " [{'ID': 1, 'FORM': 'The', 'CAPS': 'INIT_CAP'},\n",
       "  {'ID': 2, 'FORM': 'Soviet', 'CAPS': 'INIT_CAP'},\n",
       "  {'ID': 3, 'FORM': 'Union', 'CAPS': 'INIT_CAP'},\n",
       "  {'ID': 4, 'FORM': 'might', 'CAPS': 'NO_CAPS'},\n",
       "  {'ID': 5, 'FORM': 'collapse', 'CAPS': 'NO_CAPS'},\n",
       "  {'ID': 6, 'FORM': '.', 'CAPS': 'NO_CAPS'}]]"
      ]
     },
     "execution_count": 113,
     "metadata": {},
     "output_type": "execute_result"
    }
   ],
   "source": [
    "sd = [tagger.sent2dict(sent) for sent in sentences]\n",
    "sd"
   ]
  },
  {
   "cell_type": "code",
   "execution_count": 114,
   "metadata": {},
   "outputs": [
    {
     "data": {
      "text/plain": [
       "[[{'ID': 1, 'FORM': 'That', 'CAPS': 'INIT_CAP', 'PTAG': 'O'},\n",
       "  {'ID': 2, 'FORM': 'round', 'CAPS': 'NO_CAPS', 'PTAG': 'O'},\n",
       "  {'ID': 3, 'FORM': 'table', 'CAPS': 'NO_CAPS', 'PTAG': 'O'},\n",
       "  {'ID': 4, 'FORM': 'might', 'CAPS': 'NO_CAPS', 'PTAG': 'O'},\n",
       "  {'ID': 5, 'FORM': 'collapse', 'CAPS': 'NO_CAPS', 'PTAG': 'O'},\n",
       "  {'ID': 6, 'FORM': '.', 'CAPS': 'NO_CAPS', 'PTAG': 'O'}],\n",
       " [{'ID': 1, 'FORM': 'The', 'CAPS': 'INIT_CAP', 'PTAG': 'O'},\n",
       "  {'ID': 2, 'FORM': 'man', 'CAPS': 'NO_CAPS', 'PTAG': 'O'},\n",
       "  {'ID': 3, 'FORM': 'can', 'CAPS': 'NO_CAPS', 'PTAG': 'O'},\n",
       "  {'ID': 4, 'FORM': 'learn', 'CAPS': 'NO_CAPS', 'PTAG': 'O'},\n",
       "  {'ID': 5, 'FORM': 'well', 'CAPS': 'NO_CAPS', 'PTAG': 'O'},\n",
       "  {'ID': 6, 'FORM': '.', 'CAPS': 'NO_CAPS', 'PTAG': 'O'}],\n",
       " [{'ID': 1, 'FORM': 'The', 'CAPS': 'INIT_CAP', 'PTAG': 'O'},\n",
       "  {'ID': 2, 'FORM': 'man', 'CAPS': 'NO_CAPS', 'PTAG': 'O'},\n",
       "  {'ID': 3, 'FORM': 'can', 'CAPS': 'NO_CAPS', 'PTAG': 'O'},\n",
       "  {'ID': 4, 'FORM': 'swim', 'CAPS': 'NO_CAPS', 'PTAG': 'O'},\n",
       "  {'ID': 5, 'FORM': '.', 'CAPS': 'NO_CAPS', 'PTAG': 'O'}],\n",
       " [{'ID': 1, 'FORM': 'The', 'CAPS': 'INIT_CAP', 'PTAG': 'O'},\n",
       "  {'ID': 2, 'FORM': 'man', 'CAPS': 'NO_CAPS', 'PTAG': 'O'},\n",
       "  {'ID': 3, 'FORM': 'can', 'CAPS': 'NO_CAPS', 'PTAG': 'O'},\n",
       "  {'ID': 4, 'FORM': 'simwo', 'CAPS': 'NO_CAPS', 'PTAG': 'O'},\n",
       "  {'ID': 5, 'FORM': '.', 'CAPS': 'NO_CAPS', 'PTAG': 'O'}],\n",
       " [{'ID': 1, 'FORM': 'The', 'CAPS': 'INIT_CAP', 'PTAG': 'O'},\n",
       "  {'ID': 2, 'FORM': 'Soviet', 'CAPS': 'INIT_CAP', 'PTAG': 'B-LOC'},\n",
       "  {'ID': 3, 'FORM': 'Union', 'CAPS': 'INIT_CAP', 'PTAG': 'E-LOC'},\n",
       "  {'ID': 4, 'FORM': 'might', 'CAPS': 'NO_CAPS', 'PTAG': 'O'},\n",
       "  {'ID': 5, 'FORM': 'collapse', 'CAPS': 'NO_CAPS', 'PTAG': 'O'},\n",
       "  {'ID': 6, 'FORM': '.', 'CAPS': 'NO_CAPS', 'PTAG': 'O'}]]"
      ]
     },
     "execution_count": 114,
     "metadata": {},
     "output_type": "execute_result"
    }
   ],
   "source": [
    "tagger.predict_sentences(sd)"
   ]
  },
  {
   "cell_type": "markdown",
   "metadata": {},
   "source": [
    "## Final Score"
   ]
  },
  {
   "cell_type": "code",
   "execution_count": 115,
   "metadata": {},
   "outputs": [],
   "source": [
    "pred_test_sents = tagger.predict_sentences(test_dict)"
   ]
  },
  {
   "cell_type": "code",
   "execution_count": 116,
   "metadata": {},
   "outputs": [
    {
     "data": {
      "text/plain": [
       "[[{'FORM': '-DOCSTART-',\n",
       "   'PPOS': '-X-',\n",
       "   'PCHUNK': '-X-',\n",
       "   'NER': 'O',\n",
       "   'CAPS': 'ALL_CAPS',\n",
       "   'PTAG': 'O'}],\n",
       " [{'FORM': 'SOCCER',\n",
       "   'PPOS': 'NN',\n",
       "   'PCHUNK': 'B-NP',\n",
       "   'NER': 'O',\n",
       "   'CAPS': 'ALL_CAPS',\n",
       "   'PTAG': 'O'},\n",
       "  {'FORM': '-',\n",
       "   'PPOS': ':',\n",
       "   'PCHUNK': 'O',\n",
       "   'NER': 'O',\n",
       "   'CAPS': 'NO_CAPS',\n",
       "   'PTAG': 'O'},\n",
       "  {'FORM': 'JAPAN',\n",
       "   'PPOS': 'NNP',\n",
       "   'PCHUNK': 'B-NP',\n",
       "   'NER': 'S-LOC',\n",
       "   'CAPS': 'ALL_CAPS',\n",
       "   'PTAG': 'S-LOC'},\n",
       "  {'FORM': 'GET',\n",
       "   'PPOS': 'VB',\n",
       "   'PCHUNK': 'B-VP',\n",
       "   'NER': 'O',\n",
       "   'CAPS': 'ALL_CAPS',\n",
       "   'PTAG': 'O'},\n",
       "  {'FORM': 'LUCKY',\n",
       "   'PPOS': 'NNP',\n",
       "   'PCHUNK': 'B-NP',\n",
       "   'NER': 'O',\n",
       "   'CAPS': 'ALL_CAPS',\n",
       "   'PTAG': 'O'},\n",
       "  {'FORM': 'WIN',\n",
       "   'PPOS': 'NNP',\n",
       "   'PCHUNK': 'I-NP',\n",
       "   'NER': 'O',\n",
       "   'CAPS': 'ALL_CAPS',\n",
       "   'PTAG': 'O'},\n",
       "  {'FORM': ',',\n",
       "   'PPOS': ',',\n",
       "   'PCHUNK': 'O',\n",
       "   'NER': 'O',\n",
       "   'CAPS': 'NO_CAPS',\n",
       "   'PTAG': 'O'},\n",
       "  {'FORM': 'CHINA',\n",
       "   'PPOS': 'NNP',\n",
       "   'PCHUNK': 'B-NP',\n",
       "   'NER': 'S-PER',\n",
       "   'CAPS': 'ALL_CAPS',\n",
       "   'PTAG': 'S-LOC'},\n",
       "  {'FORM': 'IN',\n",
       "   'PPOS': 'IN',\n",
       "   'PCHUNK': 'B-PP',\n",
       "   'NER': 'O',\n",
       "   'CAPS': 'ALL_CAPS',\n",
       "   'PTAG': 'O'},\n",
       "  {'FORM': 'SURPRISE',\n",
       "   'PPOS': 'DT',\n",
       "   'PCHUNK': 'B-NP',\n",
       "   'NER': 'O',\n",
       "   'CAPS': 'ALL_CAPS',\n",
       "   'PTAG': 'O'},\n",
       "  {'FORM': 'DEFEAT',\n",
       "   'PPOS': 'NN',\n",
       "   'PCHUNK': 'I-NP',\n",
       "   'NER': 'O',\n",
       "   'CAPS': 'ALL_CAPS',\n",
       "   'PTAG': 'O'},\n",
       "  {'FORM': '.',\n",
       "   'PPOS': '.',\n",
       "   'PCHUNK': 'O',\n",
       "   'NER': 'O',\n",
       "   'CAPS': 'NO_CAPS',\n",
       "   'PTAG': 'O'}]]"
      ]
     },
     "execution_count": 116,
     "metadata": {},
     "output_type": "execute_result"
    }
   ],
   "source": [
    "pred_test_sents[:2]"
   ]
  },
  {
   "cell_type": "code",
   "execution_count": 117,
   "metadata": {},
   "outputs": [
    {
     "name": "stdout",
     "output_type": "stream",
     "text": [
      "CoNLL score on the validation set: 0.8614\n"
     ]
    }
   ],
   "source": [
    "if CORPUS in ['CONLL2000', 'CONLL2003']:\n",
    "    chunker_score = scorer.conll_score(pred_test_sents)\n",
    "    print(f'CoNLL score on the validation set: {chunker_score:.4f}')\n",
    "elif CORPUS == 'EWT':\n",
    "    accuracy = scorer.accuracy(pred_test_sents)\n",
    "    print(f'Accuracy on the test set: {accuracy:.4f}')"
   ]
  }
 ],
 "metadata": {
  "kernelspec": {
   "display_name": "base",
   "language": "python",
   "name": "python3"
  },
  "language_info": {
   "codemirror_mode": {
    "name": "ipython",
    "version": 3
   },
   "file_extension": ".py",
   "mimetype": "text/x-python",
   "name": "python",
   "nbconvert_exporter": "python",
   "pygments_lexer": "ipython3",
   "version": "3.12.4"
  }
 },
 "nbformat": 4,
 "nbformat_minor": 4
}

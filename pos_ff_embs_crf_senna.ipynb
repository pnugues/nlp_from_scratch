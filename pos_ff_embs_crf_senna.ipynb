{
 "cells": [
  {
   "attachments": {},
   "cell_type": "markdown",
   "metadata": {},
   "source": [
    "# Part-of-Speech and Sequence Annotation\n",
    "A reimplementation of the Senna program described in [_Natural language processing (almost) from scratch_](https://arxiv.org/abs/1103.0398) by Collobert et al. (2011) with PyTorch.\n",
    "## Part 3: Annotation with Conditional Random Fields\n",
    "This part contains a reimplementation of the conditional random fields (CRF) class with two ways to compute the $\\delta$: one proposed in the paper, Sect. 3.3.2, and another one adopted by the `torchcrf` module. The CRF class is purely stochastic and cannot process mini-batches."
   ]
  },
  {
   "cell_type": "markdown",
   "metadata": {},
   "source": [
    "\n",
    "__Author__: Pierre Nugues"
   ]
  },
  {
   "cell_type": "markdown",
   "metadata": {},
   "source": [
    "## Python Headers"
   ]
  },
  {
   "cell_type": "markdown",
   "metadata": {},
   "source": [
    "A few things to download"
   ]
  },
  {
   "cell_type": "code",
   "execution_count": 1,
   "metadata": {},
   "outputs": [
    {
     "data": {
      "text/plain": [
       "'\\n!wget https://data.deepai.org/conll2003.zip\\n!unzip -u conll2003.zip\\n!mkdir datasets/conll2003\\n!mv train.txt valid.txt test.txt datasets/conll2003\\n!rm conll2003.zip\\n'"
      ]
     },
     "execution_count": 1,
     "metadata": {},
     "output_type": "execute_result"
    }
   ],
   "source": [
    "#!pip install conlleval\n",
    "\"\"\"\n",
    "!wget https://data.deepai.org/conll2003.zip\n",
    "!unzip -u conll2003.zip\n",
    "!mkdir datasets/conll2003\n",
    "!mv train.txt valid.txt test.txt datasets/conll2003\n",
    "!rm conll2003.zip\n",
    "\"\"\""
   ]
  },
  {
   "cell_type": "markdown",
   "metadata": {},
   "source": [
    "### The Modules"
   ]
  },
  {
   "cell_type": "code",
   "execution_count": 2,
   "metadata": {},
   "outputs": [],
   "source": [
    "import matplotlib.pyplot as plt\n",
    "from tqdm import tqdm\n",
    "import random\n",
    "\n",
    "import numpy as np\n",
    "from sklearn.feature_extraction import DictVectorizer\n",
    "import conlleval\n",
    "\n",
    "import torch\n",
    "import torch.nn as nn\n",
    "from torch.utils.data import Dataset, DataLoader\n",
    "from torch.nn.utils.rnn import pad_sequence\n",
    "\n",
    "import ud_datasets\n",
    "from conll_dictorizer import CoNLLDictorizer"
   ]
  },
  {
   "cell_type": "markdown",
   "metadata": {},
   "source": [
    "### Some Parameters"
   ]
  },
  {
   "cell_type": "markdown",
   "metadata": {},
   "source": [
    "The words to build the vocabulary and the embedding vectors:\n",
    "* 0: Random embeddings: The embedding table contains only the words in the corpus. \n",
    "* 1: Senna embeddings only: The embedding table contains only the words in the embeddings vocabulary (Senna). All the other words share an `UNK` symbol and vector\n",
    "* 2: Senna + word embeddings: We create an embedding table for the words in corpus and in Senna. We  initialize the embeddings with Senna vectors when available, otherwise random"
   ]
  },
  {
   "cell_type": "code",
   "execution_count": 3,
   "metadata": {},
   "outputs": [],
   "source": [
    "USE_EMBEDDINGS = 2"
   ]
  },
  {
   "cell_type": "code",
   "execution_count": 4,
   "metadata": {},
   "outputs": [],
   "source": [
    "CORPUS = 'CONLL2003'   # 'EWT' 'CONLL2003' 'CONLL2000'\n",
    "TAGSET = 'IOBES'  # 'BIO' 'IOBES'"
   ]
  },
  {
   "cell_type": "code",
   "execution_count": 5,
   "metadata": {},
   "outputs": [],
   "source": [
    "DATASET_PATH = 'datasets/'\n",
    "MODEL_PATH = 'models/'"
   ]
  },
  {
   "cell_type": "code",
   "execution_count": 6,
   "metadata": {},
   "outputs": [],
   "source": [
    "# The embedding files. You will possibly need to adjust the path\n",
    "EMBEDDINGS_FILE = DATASET_PATH + 'senna/embeddings/embeddings.txt'\n",
    "WORD_FILE = DATASET_PATH + 'senna/hash/words.lst'"
   ]
  },
  {
   "cell_type": "code",
   "execution_count": 7,
   "metadata": {},
   "outputs": [],
   "source": [
    "EMBEDDING_DIM = 50\n",
    "CAPS_EMBEDDING_DIM = 5\n",
    "N_HU_1 = 300\n",
    "MINI_CORPUS = False\n",
    "LOWERCASE = True\n",
    "D_WIN = 2  # Context to the right and left. Size of the window 2 * D_WIN + 1, d_win in Senna paper\n",
    "SENNA_DELTAS = True # We compute the deltas as in the paper, Sect. 3.3.2, or not"
   ]
  },
  {
   "cell_type": "code",
   "execution_count": 8,
   "metadata": {},
   "outputs": [],
   "source": [
    "EPOCHS = 25\n",
    "LR = 0.01\n",
    "BATCH_SIZE = 1"
   ]
  },
  {
   "cell_type": "code",
   "execution_count": 9,
   "metadata": {},
   "outputs": [
    {
     "data": {
      "text/plain": [
       "<torch._C.Generator at 0x33ea7d3b0>"
      ]
     },
     "execution_count": 9,
     "metadata": {},
     "output_type": "execute_result"
    }
   ],
   "source": [
    "random.seed(1234)\n",
    "torch.manual_seed(1234)"
   ]
  },
  {
   "cell_type": "markdown",
   "metadata": {},
   "source": [
    "## Preprocessing"
   ]
  },
  {
   "cell_type": "markdown",
   "metadata": {},
   "source": [
    "### Embeddings"
   ]
  },
  {
   "cell_type": "code",
   "execution_count": 10,
   "metadata": {},
   "outputs": [],
   "source": [
    "def read_embeddings(word_file: str, embs_file: str) -> dict[str, torch.FloatTensor]:\n",
    "    \"\"\"\n",
    "    Return the embeddings in the from of a dictionary\n",
    "    :param file:\n",
    "    :return:\n",
    "    \"\"\"\n",
    "    embeddings = {}\n",
    "    words = []\n",
    "    with open(word_file) as f:\n",
    "        for line in f:\n",
    "            word = line.strip()\n",
    "            words += [word]\n",
    "    with open(embs_file) as f:\n",
    "        for i, line in enumerate(f):\n",
    "            values = line.strip().split()\n",
    "            word = words[i]\n",
    "            vector = torch.FloatTensor(\n",
    "                list(map(float, values)))\n",
    "            embeddings[word] = vector\n",
    "    return embeddings"
   ]
  },
  {
   "cell_type": "code",
   "execution_count": 11,
   "metadata": {},
   "outputs": [],
   "source": [
    "embeddings_dict = read_embeddings(WORD_FILE, EMBEDDINGS_FILE)\n",
    "embedded_words = sorted(list(embeddings_dict.keys()))"
   ]
  },
  {
   "cell_type": "markdown",
   "metadata": {},
   "source": [
    "### Loading the Corpus\n",
    "Collobert et al. did not describe their validation experiments. In CoNLL 2000, there is no validation set. Although not a good practice, we use the test set to validate the training procedure. We also follow Attardi, https://github.com/attardi/deepnl, and we merge the CoNLL 2003 training and validation sets."
   ]
  },
  {
   "cell_type": "code",
   "execution_count": 12,
   "metadata": {},
   "outputs": [
    {
     "data": {
      "text/plain": [
       "'2025-03-10 09:36:03'"
      ]
     },
     "execution_count": 12,
     "metadata": {},
     "output_type": "execute_result"
    }
   ],
   "source": [
    "from datetime import datetime\n",
    "datetime.now().strftime('%Y-%m-%d %H:%M:%S')"
   ]
  },
  {
   "cell_type": "code",
   "execution_count": 13,
   "metadata": {},
   "outputs": [],
   "source": [
    "if CORPUS == 'EWT':\n",
    "    train_sentences, val_sentences, test_sentences, column_names = ud_datasets.load_ud_en_ewt()\n",
    "    MODEL_NAME = 'pos_model'\n",
    "elif CORPUS == 'CONLL2003':\n",
    "    train_file = DATASET_PATH + 'conll2003/train.txt'\n",
    "    val_file = DATASET_PATH + 'conll2003/valid.txt'\n",
    "    test_file = DATASET_PATH + 'conll2003/test.txt'\n",
    "    with open(train_file) as f:\n",
    "        train_sentences = f.read().strip()\n",
    "    with open(val_file) as f:\n",
    "        val_sentences = f.read().strip()\n",
    "    with open(test_file) as f:\n",
    "        test_sentences = f.read().strip()\n",
    "    MODEL_NAME = 'ner_model'\n",
    "    column_names = ['FORM', 'PPOS', 'PCHUNK', 'NER']\n",
    "elif CORPUS == 'CONLL2000':\n",
    "    train_file = DATASET_PATH + 'conll2000/train.txt'\n",
    "    test_file = DATASET_PATH + 'conll2000/test.txt'\n",
    "    with open(train_file) as f:\n",
    "        train_sentences = f.read().strip()\n",
    "    with open(test_file) as f:\n",
    "        test_sentences = f.read().strip()\n",
    "    column_names = ['FORM', 'PPOS', 'CHUNK']\n",
    "    MODEL_NAME = 'chunker_model'"
   ]
  },
  {
   "cell_type": "code",
   "execution_count": 14,
   "metadata": {},
   "outputs": [
    {
     "data": {
      "text/plain": [
       "'models/ner_model_2025-03-10 09:36:03.pt'"
      ]
     },
     "execution_count": 14,
     "metadata": {},
     "output_type": "execute_result"
    }
   ],
   "source": [
    "MODEL_FILE = MODEL_PATH + MODEL_NAME + '_' + \\\n",
    "    datetime.now().strftime('%Y-%m-%d %H:%M:%S') + '.pt'\n",
    "MODEL_FILE"
   ]
  },
  {
   "cell_type": "markdown",
   "metadata": {},
   "source": [
    "### Experimental setup\n",
    "\n",
    "We use the test set as validation set for CoNLL 2000 and 2003. We add the validation set to the training set in CoNLL 2003"
   ]
  },
  {
   "cell_type": "code",
   "execution_count": 15,
   "metadata": {},
   "outputs": [],
   "source": [
    "if CORPUS == 'CONLL2003':\n",
    "    train_sentences += '\\n\\n' + val_sentences\n",
    "    val_sentences = test_sentences\n",
    "if CORPUS == 'CONLL2000':\n",
    "    val_sentences = test_sentences"
   ]
  },
  {
   "cell_type": "markdown",
   "metadata": {},
   "source": [
    "## Dictorizing the corpus"
   ]
  },
  {
   "cell_type": "markdown",
   "metadata": {},
   "source": [
    "We store the corpus word in a dictionary, where the keys are the CoNLL-U columns"
   ]
  },
  {
   "cell_type": "code",
   "execution_count": 16,
   "metadata": {},
   "outputs": [],
   "source": [
    "if CORPUS == 'EWT':\n",
    "    conll_dict = CoNLLDictorizer(column_names)\n",
    "elif CORPUS in ['CONLL2000', 'CONLL2003']:\n",
    "    conll_dict = CoNLLDictorizer(column_names, col_sep=' +')"
   ]
  },
  {
   "cell_type": "code",
   "execution_count": 17,
   "metadata": {},
   "outputs": [],
   "source": [
    "train_dict = conll_dict.transform(train_sentences)\n",
    "val_dict = conll_dict.transform(val_sentences)\n",
    "test_dict = conll_dict.transform(test_sentences)"
   ]
  },
  {
   "cell_type": "code",
   "execution_count": 18,
   "metadata": {},
   "outputs": [
    {
     "data": {
      "text/plain": [
       "[{'FORM': '-DOCSTART-', 'PPOS': '-X-', 'PCHUNK': '-X-', 'NER': 'O'}]"
      ]
     },
     "execution_count": 18,
     "metadata": {},
     "output_type": "execute_result"
    }
   ],
   "source": [
    "train_dict[0][:10]"
   ]
  },
  {
   "cell_type": "code",
   "execution_count": 19,
   "metadata": {},
   "outputs": [
    {
     "data": {
      "text/plain": [
       "[[{'FORM': '-DOCSTART-', 'PPOS': '-X-', 'PCHUNK': '-X-', 'NER': 'O'}],\n",
       " [{'FORM': 'EU', 'PPOS': 'NNP', 'PCHUNK': 'B-NP', 'NER': 'B-ORG'},\n",
       "  {'FORM': 'rejects', 'PPOS': 'VBZ', 'PCHUNK': 'B-VP', 'NER': 'O'},\n",
       "  {'FORM': 'German', 'PPOS': 'JJ', 'PCHUNK': 'B-NP', 'NER': 'B-MISC'},\n",
       "  {'FORM': 'call', 'PPOS': 'NN', 'PCHUNK': 'I-NP', 'NER': 'O'},\n",
       "  {'FORM': 'to', 'PPOS': 'TO', 'PCHUNK': 'B-VP', 'NER': 'O'},\n",
       "  {'FORM': 'boycott', 'PPOS': 'VB', 'PCHUNK': 'I-VP', 'NER': 'O'},\n",
       "  {'FORM': 'British', 'PPOS': 'JJ', 'PCHUNK': 'B-NP', 'NER': 'B-MISC'},\n",
       "  {'FORM': 'lamb', 'PPOS': 'NN', 'PCHUNK': 'I-NP', 'NER': 'O'},\n",
       "  {'FORM': '.', 'PPOS': '.', 'PCHUNK': 'O', 'NER': 'O'}],\n",
       " [{'FORM': 'Peter', 'PPOS': 'NNP', 'PCHUNK': 'B-NP', 'NER': 'B-PER'},\n",
       "  {'FORM': 'Blackburn', 'PPOS': 'NNP', 'PCHUNK': 'I-NP', 'NER': 'I-PER'}]]"
      ]
     },
     "execution_count": 19,
     "metadata": {},
     "output_type": "execute_result"
    }
   ],
   "source": [
    "train_dict[:3]"
   ]
  },
  {
   "cell_type": "markdown",
   "metadata": {},
   "source": [
    "Conversion of BIO to IOBES"
   ]
  },
  {
   "cell_type": "code",
   "execution_count": 20,
   "metadata": {},
   "outputs": [],
   "source": [
    "def BIO2IOBES(sent_dicts: list[dict], tag='CHUNK'):\n",
    "    for sent_dict in sent_dicts:\n",
    "        for idx in range(len(sent_dict) - 1):\n",
    "            # B O -> S O\n",
    "            if sent_dict[idx][tag][0] == 'B' and sent_dict[idx + 1][tag][0] == 'O':\n",
    "                sent_dict[idx][tag] = 'S' + sent_dict[idx][tag][1:]\n",
    "            # B-NP B-VP -> E-NP B-VP\n",
    "            elif sent_dict[idx][tag][0] == 'B' and sent_dict[idx + 1][tag][0] == 'B':\n",
    "                sent_dict[idx][tag] = 'S' + sent_dict[idx][tag][1:]\n",
    "            # I O -> E O\n",
    "            elif sent_dict[idx][tag][0] == 'I' and sent_dict[idx + 1][tag][0] == 'O':\n",
    "                sent_dict[idx][tag] = 'E' + sent_dict[idx][tag][1:]\n",
    "            # I B -> E B\n",
    "            elif sent_dict[idx][tag][0] == 'I' and sent_dict[idx + 1][tag][0] == 'B':\n",
    "                sent_dict[idx][tag] = 'E' + sent_dict[idx][tag][1:]\n",
    "            else:\n",
    "                pass\n",
    "\n",
    "        # Last word\n",
    "        if sent_dict[-1][tag][0] == 'B':\n",
    "            sent_dict[-1][tag] = 'S' + sent_dict[-1][tag][1:]\n",
    "        elif sent_dict[-1][tag][0] == 'I':\n",
    "            sent_dict[-1][tag] = 'E' + sent_dict[-1][tag][1:]\n",
    "        else:\n",
    "            pass\n",
    "    return sent_dicts"
   ]
  },
  {
   "cell_type": "code",
   "execution_count": 21,
   "metadata": {},
   "outputs": [],
   "source": [
    "if TAGSET == 'IOBES' and CORPUS in ['CONLL2000', 'CONLL2003']:\n",
    "    if CORPUS == 'CONLL2000':\n",
    "        tag = 'CHUNK'\n",
    "    elif CORPUS == 'CONLL2003':\n",
    "        tag = 'NER'\n",
    "    train_dict = BIO2IOBES(train_dict, tag)\n",
    "    val_dict = BIO2IOBES(val_dict, tag)\n",
    "    test_dict = BIO2IOBES(test_dict, tag)"
   ]
  },
  {
   "cell_type": "code",
   "execution_count": 22,
   "metadata": {},
   "outputs": [
    {
     "data": {
      "text/plain": [
       "[[{'FORM': '-DOCSTART-', 'PPOS': '-X-', 'PCHUNK': '-X-', 'NER': 'O'}],\n",
       " [{'FORM': 'EU', 'PPOS': 'NNP', 'PCHUNK': 'B-NP', 'NER': 'S-ORG'},\n",
       "  {'FORM': 'rejects', 'PPOS': 'VBZ', 'PCHUNK': 'B-VP', 'NER': 'O'},\n",
       "  {'FORM': 'German', 'PPOS': 'JJ', 'PCHUNK': 'B-NP', 'NER': 'S-MISC'},\n",
       "  {'FORM': 'call', 'PPOS': 'NN', 'PCHUNK': 'I-NP', 'NER': 'O'},\n",
       "  {'FORM': 'to', 'PPOS': 'TO', 'PCHUNK': 'B-VP', 'NER': 'O'},\n",
       "  {'FORM': 'boycott', 'PPOS': 'VB', 'PCHUNK': 'I-VP', 'NER': 'O'},\n",
       "  {'FORM': 'British', 'PPOS': 'JJ', 'PCHUNK': 'B-NP', 'NER': 'S-MISC'},\n",
       "  {'FORM': 'lamb', 'PPOS': 'NN', 'PCHUNK': 'I-NP', 'NER': 'O'},\n",
       "  {'FORM': '.', 'PPOS': '.', 'PCHUNK': 'O', 'NER': 'O'}],\n",
       " [{'FORM': 'Peter', 'PPOS': 'NNP', 'PCHUNK': 'B-NP', 'NER': 'B-PER'},\n",
       "  {'FORM': 'Blackburn', 'PPOS': 'NNP', 'PCHUNK': 'I-NP', 'NER': 'E-PER'}],\n",
       " [{'FORM': 'BRUSSELS', 'PPOS': 'NNP', 'PCHUNK': 'B-NP', 'NER': 'S-LOC'},\n",
       "  {'FORM': '1996-08-22', 'PPOS': 'CD', 'PCHUNK': 'I-NP', 'NER': 'O'}]]"
      ]
     },
     "execution_count": 22,
     "metadata": {},
     "output_type": "execute_result"
    }
   ],
   "source": [
    "train_dict[:4]"
   ]
  },
  {
   "cell_type": "markdown",
   "metadata": {},
   "source": [
    "We extract the case information. We follow the Senna source code"
   ]
  },
  {
   "cell_type": "code",
   "execution_count": 23,
   "metadata": {},
   "outputs": [],
   "source": [
    "def add_case_info(row: dict):\n",
    "    \"\"\"Same as in Senna code\"\"\"\n",
    "    if (any(char.isupper() for char in row['FORM']) and\n",
    "            not any(char.islower() for char in row['FORM'])):\n",
    "        row['CAPS'] = 'ALL_CAPS'\n",
    "    elif row['FORM'][0].isupper():\n",
    "        row['CAPS'] = 'INIT_CAP'\n",
    "    elif any(char.isupper() for char in row['FORM']):\n",
    "        row['CAPS'] = 'HAS_CAP'\n",
    "    else:\n",
    "        row['CAPS'] = 'NO_CAPS'"
   ]
  },
  {
   "cell_type": "code",
   "execution_count": 24,
   "metadata": {},
   "outputs": [],
   "source": [
    "for sent_dict in train_dict:\n",
    "    for row in sent_dict:\n",
    "        add_case_info(row)\n",
    "for sent_dict in val_dict:\n",
    "    for row in sent_dict:\n",
    "        add_case_info(row)\n",
    "for sent_dict in test_dict:\n",
    "    for row in sent_dict:\n",
    "        add_case_info(row)"
   ]
  },
  {
   "cell_type": "code",
   "execution_count": 25,
   "metadata": {},
   "outputs": [
    {
     "name": "stdout",
     "output_type": "stream",
     "text": [
      "First sentence, train: [{'FORM': '-DOCSTART-', 'PPOS': '-X-', 'PCHUNK': '-X-', 'NER': 'O', 'CAPS': 'ALL_CAPS'}]\n"
     ]
    }
   ],
   "source": [
    "if MINI_CORPUS:\n",
    "    train_dict = train_dict[:len(train_dict) // 5]\n",
    "print('First sentence, train:', train_dict[0])"
   ]
  },
  {
   "cell_type": "markdown",
   "metadata": {
    "tags": []
   },
   "source": [
    "## Extracting $X_{cat}$ and $\\mathbf{y}$ the Context and Dictorizing it\n",
    "We extract windows of five words surrounding the word and we build a table. We do the same with the case information."
   ]
  },
  {
   "cell_type": "code",
   "execution_count": 26,
   "metadata": {},
   "outputs": [],
   "source": [
    "def extract_cols(sent_dict, x='FORM', y='UPOS'):\n",
    "    (input, target) = ([], [])\n",
    "    for word in sent_dict:\n",
    "        input += [word[x]]\n",
    "        target += [word.get(y, None)]\n",
    "    return input, target"
   ]
  },
  {
   "cell_type": "code",
   "execution_count": 27,
   "metadata": {},
   "outputs": [],
   "source": [
    "if CORPUS == 'EWT':\n",
    "    x_input = 'FORM'\n",
    "    y_output = 'UPOS'\n",
    "elif CORPUS == 'CONLL2000':\n",
    "    x_input = 'FORM'\n",
    "    y_output = 'CHUNK'\n",
    "elif CORPUS == 'CONLL2003':\n",
    "    x_input = 'FORM'\n",
    "    y_output = 'NER'\n",
    "\n",
    "train_cols = [extract_cols(sent_dict, x=x_input, y=y_output)\n",
    "              for sent_dict in train_dict]\n",
    "val_cols = [extract_cols(sent_dict, x=x_input, y=y_output)\n",
    "            for sent_dict in val_dict]\n",
    "test_cols = [extract_cols(sent_dict, x=x_input, y=y_output)\n",
    "             for sent_dict in test_dict]"
   ]
  },
  {
   "cell_type": "code",
   "execution_count": 28,
   "metadata": {},
   "outputs": [],
   "source": [
    "train_sent_words, train_sent_pos = zip(*train_cols)\n",
    "val_sent_words, val_sent_pos = zip(*val_cols)\n",
    "test_sent_words, test_sent_pos = zip(*test_cols)"
   ]
  },
  {
   "cell_type": "markdown",
   "metadata": {},
   "source": [
    "We set the words in lowercase"
   ]
  },
  {
   "cell_type": "code",
   "execution_count": 29,
   "metadata": {},
   "outputs": [],
   "source": [
    "if LOWERCASE:\n",
    "    train_sent_words = [list(map(str.lower, sent_words))\n",
    "                        for sent_words in train_sent_words]\n",
    "    val_sent_words = [list(map(str.lower, sent_words))\n",
    "                      for sent_words in val_sent_words]\n",
    "    test_sent_words = [list(map(str.lower, sent_words))\n",
    "                       for sent_words in test_sent_words]"
   ]
  },
  {
   "cell_type": "code",
   "execution_count": 30,
   "metadata": {},
   "outputs": [
    {
     "data": {
      "text/plain": [
       "['he',\n",
       " 'said',\n",
       " 'talbott',\n",
       " ',',\n",
       " 'who',\n",
       " 'was',\n",
       " 'scheduled',\n",
       " 'to',\n",
       " 'return',\n",
       " 'on',\n",
       " 'tuesday',\n",
       " ',',\n",
       " 'would',\n",
       " 'also',\n",
       " 'to',\n",
       " 'meet',\n",
       " 'his',\n",
       " 'canadian',\n",
       " 'counterpart',\n",
       " ',',\n",
       " 'gordon',\n",
       " 'smith',\n",
       " ',',\n",
       " 'in',\n",
       " 'ottawa',\n",
       " 'for',\n",
       " 'talks',\n",
       " 'that',\n",
       " 'would',\n",
       " 'include',\n",
       " 'the',\n",
       " 'situation',\n",
       " 'in',\n",
       " 'haiti',\n",
       " '.']"
      ]
     },
     "execution_count": 30,
     "metadata": {},
     "output_type": "execute_result"
    }
   ],
   "source": [
    "train_sent_words[8131]"
   ]
  },
  {
   "cell_type": "markdown",
   "metadata": {},
   "source": [
    "### Extracting the Caps"
   ]
  },
  {
   "cell_type": "code",
   "execution_count": 31,
   "metadata": {},
   "outputs": [],
   "source": [
    "if CORPUS == 'EWT':\n",
    "    x_input = 'CAPS'\n",
    "    y_output = 'UPOS'\n",
    "elif CORPUS == 'CONLL2000':\n",
    "    x_input = 'CAPS'\n",
    "    y_output = 'CHUNK'\n",
    "elif CORPUS == 'CONLL2003':\n",
    "    x_input = 'CAPS'\n",
    "    y_output = 'NER'\n",
    "\n",
    "train_caps_cols = [extract_cols(sent_dict, x=x_input, y=y_output)\n",
    "                   for sent_dict in train_dict]\n",
    "val_caps_cols = [extract_cols(sent_dict, x=x_input, y=y_output)\n",
    "                 for sent_dict in val_dict]\n",
    "test_caps_cols = [extract_cols(sent_dict, x=x_input, y=y_output)\n",
    "                  for sent_dict in test_dict]"
   ]
  },
  {
   "cell_type": "code",
   "execution_count": 32,
   "metadata": {},
   "outputs": [],
   "source": [
    "train_sent_caps, _ = zip(*train_caps_cols)\n",
    "val_sent_caps, _ = zip(*val_caps_cols)\n",
    "test_sent_caps, _ = zip(*test_caps_cols)"
   ]
  },
  {
   "cell_type": "code",
   "execution_count": 33,
   "metadata": {},
   "outputs": [
    {
     "data": {
      "text/plain": [
       "['INIT_CAP',\n",
       " 'NO_CAPS',\n",
       " 'INIT_CAP',\n",
       " 'NO_CAPS',\n",
       " 'NO_CAPS',\n",
       " 'NO_CAPS',\n",
       " 'NO_CAPS',\n",
       " 'NO_CAPS',\n",
       " 'NO_CAPS',\n",
       " 'NO_CAPS',\n",
       " 'INIT_CAP',\n",
       " 'NO_CAPS',\n",
       " 'NO_CAPS',\n",
       " 'NO_CAPS',\n",
       " 'NO_CAPS',\n",
       " 'NO_CAPS',\n",
       " 'NO_CAPS',\n",
       " 'INIT_CAP',\n",
       " 'NO_CAPS',\n",
       " 'NO_CAPS',\n",
       " 'INIT_CAP',\n",
       " 'INIT_CAP',\n",
       " 'NO_CAPS',\n",
       " 'NO_CAPS',\n",
       " 'INIT_CAP',\n",
       " 'NO_CAPS',\n",
       " 'NO_CAPS',\n",
       " 'NO_CAPS',\n",
       " 'NO_CAPS',\n",
       " 'NO_CAPS',\n",
       " 'NO_CAPS',\n",
       " 'NO_CAPS',\n",
       " 'NO_CAPS',\n",
       " 'INIT_CAP',\n",
       " 'NO_CAPS']"
      ]
     },
     "execution_count": 33,
     "metadata": {},
     "output_type": "execute_result"
    }
   ],
   "source": [
    "train_sent_caps[8131]"
   ]
  },
  {
   "cell_type": "code",
   "execution_count": 34,
   "metadata": {},
   "outputs": [],
   "source": [
    "UNK_IDX, PAD_IDX, BOS_IDX, EOS_IDX = 0, 1, 2, 3  # We do not use BOS and EOS\n",
    "# We will pad y with 0"
   ]
  },
  {
   "cell_type": "markdown",
   "metadata": {},
   "source": [
    "### Building the $X$ and $\\mathbf{y}$ Categorical Matrices"
   ]
  },
  {
   "cell_type": "code",
   "execution_count": 35,
   "metadata": {},
   "outputs": [],
   "source": [
    "def create_X_cat(sentence: list[str],\n",
    "                 w_size: int = D_WIN) -> list[dict[int: str]]:\n",
    "    start_pads = ['__BOS__'] * w_size\n",
    "    end_pads = ['__EOS__'] * w_size\n",
    "    sentence = start_pads + sentence + end_pads\n",
    "    # We extract the features\n",
    "    X = []\n",
    "    for i in range(len(sentence) - 2 * w_size):\n",
    "        x = []\n",
    "        for j in range(2 * w_size + 1):\n",
    "            x += [sentence[i + j]]\n",
    "        X += [x]\n",
    "    X = [dict(enumerate(x)) for x in X]\n",
    "    return X"
   ]
  },
  {
   "cell_type": "code",
   "execution_count": 36,
   "metadata": {},
   "outputs": [
    {
     "data": {
      "text/plain": [
       "[{0: '__BOS__', 1: '__BOS__', 2: 'hong', 3: 'kong', 4: '1996-08-23'},\n",
       " {0: '__BOS__', 1: 'hong', 2: 'kong', 3: '1996-08-23', 4: '__EOS__'},\n",
       " {0: 'hong', 1: 'kong', 2: '1996-08-23', 3: '__EOS__', 4: '__EOS__'}]"
      ]
     },
     "execution_count": 36,
     "metadata": {},
     "output_type": "execute_result"
    }
   ],
   "source": [
    "create_X_cat(train_sent_words[3000], w_size=D_WIN)"
   ]
  },
  {
   "cell_type": "code",
   "execution_count": 37,
   "metadata": {},
   "outputs": [
    {
     "data": {
      "text/plain": [
       "[{0: '__BOS__', 1: '__BOS__', 2: 'ALL_CAPS', 3: 'ALL_CAPS', 4: 'NO_CAPS'},\n",
       " {0: '__BOS__', 1: 'ALL_CAPS', 2: 'ALL_CAPS', 3: 'NO_CAPS', 4: '__EOS__'},\n",
       " {0: 'ALL_CAPS', 1: 'ALL_CAPS', 2: 'NO_CAPS', 3: '__EOS__', 4: '__EOS__'}]"
      ]
     },
     "execution_count": 37,
     "metadata": {},
     "output_type": "execute_result"
    }
   ],
   "source": [
    "create_X_cat(train_sent_caps[3000])"
   ]
  },
  {
   "cell_type": "code",
   "execution_count": 38,
   "metadata": {},
   "outputs": [],
   "source": [
    "X_train_cat = [create_X_cat(sent) for sent in train_sent_words]\n",
    "X_val_cat = [create_X_cat(sent) for sent in val_sent_words]\n",
    "X_test_cat = [create_X_cat(sent) for sent in test_sent_words]"
   ]
  },
  {
   "cell_type": "code",
   "execution_count": 39,
   "metadata": {},
   "outputs": [
    {
     "data": {
      "text/plain": [
       "[[{0: '__BOS__', 1: '__BOS__', 2: '-docstart-', 3: '__EOS__', 4: '__EOS__'}],\n",
       " [{0: '__BOS__', 1: '__BOS__', 2: 'eu', 3: 'rejects', 4: 'german'},\n",
       "  {0: '__BOS__', 1: 'eu', 2: 'rejects', 3: 'german', 4: 'call'},\n",
       "  {0: 'eu', 1: 'rejects', 2: 'german', 3: 'call', 4: 'to'},\n",
       "  {0: 'rejects', 1: 'german', 2: 'call', 3: 'to', 4: 'boycott'},\n",
       "  {0: 'german', 1: 'call', 2: 'to', 3: 'boycott', 4: 'british'},\n",
       "  {0: 'call', 1: 'to', 2: 'boycott', 3: 'british', 4: 'lamb'},\n",
       "  {0: 'to', 1: 'boycott', 2: 'british', 3: 'lamb', 4: '.'},\n",
       "  {0: 'boycott', 1: 'british', 2: 'lamb', 3: '.', 4: '__EOS__'},\n",
       "  {0: 'british', 1: 'lamb', 2: '.', 3: '__EOS__', 4: '__EOS__'}],\n",
       " [{0: '__BOS__', 1: '__BOS__', 2: 'peter', 3: 'blackburn', 4: '__EOS__'},\n",
       "  {0: '__BOS__', 1: 'peter', 2: 'blackburn', 3: '__EOS__', 4: '__EOS__'}]]"
      ]
     },
     "execution_count": 39,
     "metadata": {},
     "output_type": "execute_result"
    }
   ],
   "source": [
    "X_train_cat[:3]"
   ]
  },
  {
   "cell_type": "code",
   "execution_count": 40,
   "metadata": {},
   "outputs": [],
   "source": [
    "X_train_caps_cat = [create_X_cat(sent) for sent in train_sent_caps]\n",
    "X_val_caps_cat = [create_X_cat(sent) for sent in val_sent_caps]\n",
    "X_test_caps_cat = [create_X_cat(sent) for sent in test_sent_caps]"
   ]
  },
  {
   "cell_type": "code",
   "execution_count": 41,
   "metadata": {},
   "outputs": [
    {
     "data": {
      "text/plain": [
       "[[{0: '__BOS__', 1: '__BOS__', 2: 'ALL_CAPS', 3: '__EOS__', 4: '__EOS__'}],\n",
       " [{0: '__BOS__', 1: '__BOS__', 2: 'ALL_CAPS', 3: 'NO_CAPS', 4: 'INIT_CAP'},\n",
       "  {0: '__BOS__', 1: 'ALL_CAPS', 2: 'NO_CAPS', 3: 'INIT_CAP', 4: 'NO_CAPS'},\n",
       "  {0: 'ALL_CAPS', 1: 'NO_CAPS', 2: 'INIT_CAP', 3: 'NO_CAPS', 4: 'NO_CAPS'},\n",
       "  {0: 'NO_CAPS', 1: 'INIT_CAP', 2: 'NO_CAPS', 3: 'NO_CAPS', 4: 'NO_CAPS'},\n",
       "  {0: 'INIT_CAP', 1: 'NO_CAPS', 2: 'NO_CAPS', 3: 'NO_CAPS', 4: 'INIT_CAP'},\n",
       "  {0: 'NO_CAPS', 1: 'NO_CAPS', 2: 'NO_CAPS', 3: 'INIT_CAP', 4: 'NO_CAPS'},\n",
       "  {0: 'NO_CAPS', 1: 'NO_CAPS', 2: 'INIT_CAP', 3: 'NO_CAPS', 4: 'NO_CAPS'},\n",
       "  {0: 'NO_CAPS', 1: 'INIT_CAP', 2: 'NO_CAPS', 3: 'NO_CAPS', 4: '__EOS__'},\n",
       "  {0: 'INIT_CAP', 1: 'NO_CAPS', 2: 'NO_CAPS', 3: '__EOS__', 4: '__EOS__'}],\n",
       " [{0: '__BOS__', 1: '__BOS__', 2: 'INIT_CAP', 3: 'INIT_CAP', 4: '__EOS__'},\n",
       "  {0: '__BOS__', 1: 'INIT_CAP', 2: 'INIT_CAP', 3: '__EOS__', 4: '__EOS__'}]]"
      ]
     },
     "execution_count": 41,
     "metadata": {},
     "output_type": "execute_result"
    }
   ],
   "source": [
    "X_train_caps_cat[:3]"
   ]
  },
  {
   "cell_type": "code",
   "execution_count": 42,
   "metadata": {},
   "outputs": [],
   "source": [
    "y_train_cat = train_sent_pos\n",
    "y_val_cat = val_sent_pos\n",
    "y_test_cat = test_sent_pos"
   ]
  },
  {
   "cell_type": "code",
   "execution_count": 43,
   "metadata": {},
   "outputs": [
    {
     "data": {
      "text/plain": [
       "(['O'],\n",
       " ['S-ORG', 'O', 'S-MISC', 'O', 'O', 'O', 'S-MISC', 'O', 'O'],\n",
       " ['B-PER', 'E-PER'])"
      ]
     },
     "execution_count": 43,
     "metadata": {},
     "output_type": "execute_result"
    }
   ],
   "source": [
    "y_train_cat[:3]"
   ]
  },
  {
   "cell_type": "markdown",
   "metadata": {},
   "source": [
    "### Running the Feature Extraction"
   ]
  },
  {
   "cell_type": "markdown",
   "metadata": {},
   "source": [
    "We extract all the words"
   ]
  },
  {
   "cell_type": "code",
   "execution_count": 44,
   "metadata": {},
   "outputs": [
    {
     "data": {
      "text/plain": [
       "[[{0: '__BOS__', 1: '__BOS__', 2: '-docstart-', 3: '__EOS__', 4: '__EOS__'}],\n",
       " [{0: '__BOS__', 1: '__BOS__', 2: 'eu', 3: 'rejects', 4: 'german'},\n",
       "  {0: '__BOS__', 1: 'eu', 2: 'rejects', 3: 'german', 4: 'call'},\n",
       "  {0: 'eu', 1: 'rejects', 2: 'german', 3: 'call', 4: 'to'},\n",
       "  {0: 'rejects', 1: 'german', 2: 'call', 3: 'to', 4: 'boycott'},\n",
       "  {0: 'german', 1: 'call', 2: 'to', 3: 'boycott', 4: 'british'},\n",
       "  {0: 'call', 1: 'to', 2: 'boycott', 3: 'british', 4: 'lamb'},\n",
       "  {0: 'to', 1: 'boycott', 2: 'british', 3: 'lamb', 4: '.'},\n",
       "  {0: 'boycott', 1: 'british', 2: 'lamb', 3: '.', 4: '__EOS__'},\n",
       "  {0: 'british', 1: 'lamb', 2: '.', 3: '__EOS__', 4: '__EOS__'}],\n",
       " [{0: '__BOS__', 1: '__BOS__', 2: 'peter', 3: 'blackburn', 4: '__EOS__'},\n",
       "  {0: '__BOS__', 1: 'peter', 2: 'blackburn', 3: '__EOS__', 4: '__EOS__'}]]"
      ]
     },
     "execution_count": 44,
     "metadata": {},
     "output_type": "execute_result"
    }
   ],
   "source": [
    "X_train_cat[:3]"
   ]
  },
  {
   "cell_type": "code",
   "execution_count": 45,
   "metadata": {},
   "outputs": [
    {
     "name": "stdout",
     "output_type": "stream",
     "text": [
      "# unique words seen in training corpus: 23868\n"
     ]
    }
   ],
   "source": [
    "corpus_words = [value.lower() for l in X_train_cat for x in l\n",
    "                for value in x.values()]\n",
    "corpus_words = sorted(set(corpus_words))\n",
    "\n",
    "print('# unique words seen in training corpus:', len(corpus_words))"
   ]
  },
  {
   "cell_type": "markdown",
   "metadata": {},
   "source": [
    "We extract all the caps"
   ]
  },
  {
   "cell_type": "code",
   "execution_count": 46,
   "metadata": {},
   "outputs": [
    {
     "data": {
      "text/plain": [
       "['ALL_CAPS', 'HAS_CAP', 'INIT_CAP', 'NO_CAPS', '__BOS__', '__EOS__']"
      ]
     },
     "execution_count": 46,
     "metadata": {},
     "output_type": "execute_result"
    }
   ],
   "source": [
    "corpus_caps = [value for l in X_train_caps_cat for x in l\n",
    "               for value in x.values()]\n",
    "corpus_caps = sorted(set(corpus_caps))\n",
    "corpus_caps"
   ]
  },
  {
   "cell_type": "code",
   "execution_count": 47,
   "metadata": {},
   "outputs": [
    {
     "name": "stdout",
     "output_type": "stream",
     "text": [
      "Words in Senna: 130000\n"
     ]
    }
   ],
   "source": [
    "embeddings_words = embeddings_dict.keys()\n",
    "print('Words in Senna:',  len(embeddings_dict.keys()))\n",
    "if USE_EMBEDDINGS == 0:\n",
    "    vocabulary = set(corpus_words)\n",
    "elif USE_EMBEDDINGS == 1:\n",
    "    # If we only use the words from Senna\n",
    "    vocabulary = set(list(embeddings_words))\n",
    "elif USE_EMBEDDINGS == 2:\n",
    "    vocabulary = set(corpus_words + list(embeddings_words))"
   ]
  },
  {
   "cell_type": "code",
   "execution_count": 48,
   "metadata": {},
   "outputs": [
    {
     "name": "stdout",
     "output_type": "stream",
     "text": [
      "# unique words in the vocabulary: embeddings and corpus: 136492\n"
     ]
    }
   ],
   "source": [
    "print('# unique words in the vocabulary: embeddings and corpus:',\n",
    "      len(vocabulary) + 2)  # unk and pad"
   ]
  },
  {
   "cell_type": "code",
   "execution_count": 49,
   "metadata": {},
   "outputs": [],
   "source": [
    "idx2word = dict(enumerate(sorted(vocabulary), start=2))  # UNK: 0 and PAD: 1\n",
    "word2idx = {v: k for k, v in idx2word.items()}"
   ]
  },
  {
   "cell_type": "markdown",
   "metadata": {},
   "source": [
    "We set the words in lowercase as SENNA is in lowercase and we replace them with their index. The unknown word has the index 0."
   ]
  },
  {
   "cell_type": "code",
   "execution_count": 50,
   "metadata": {},
   "outputs": [
    {
     "data": {
      "text/plain": [
       "[[{0: '__BOS__', 1: '__BOS__', 2: '-docstart-', 3: '__EOS__', 4: '__EOS__'}],\n",
       " [{0: '__BOS__', 1: '__BOS__', 2: 'eu', 3: 'rejects', 4: 'german'},\n",
       "  {0: '__BOS__', 1: 'eu', 2: 'rejects', 3: 'german', 4: 'call'},\n",
       "  {0: 'eu', 1: 'rejects', 2: 'german', 3: 'call', 4: 'to'},\n",
       "  {0: 'rejects', 1: 'german', 2: 'call', 3: 'to', 4: 'boycott'},\n",
       "  {0: 'german', 1: 'call', 2: 'to', 3: 'boycott', 4: 'british'},\n",
       "  {0: 'call', 1: 'to', 2: 'boycott', 3: 'british', 4: 'lamb'},\n",
       "  {0: 'to', 1: 'boycott', 2: 'british', 3: 'lamb', 4: '.'},\n",
       "  {0: 'boycott', 1: 'british', 2: 'lamb', 3: '.', 4: '__EOS__'},\n",
       "  {0: 'british', 1: 'lamb', 2: '.', 3: '__EOS__', 4: '__EOS__'}],\n",
       " [{0: '__BOS__', 1: '__BOS__', 2: 'peter', 3: 'blackburn', 4: '__EOS__'},\n",
       "  {0: '__BOS__', 1: 'peter', 2: 'blackburn', 3: '__EOS__', 4: '__EOS__'}]]"
      ]
     },
     "execution_count": 50,
     "metadata": {},
     "output_type": "execute_result"
    }
   ],
   "source": [
    "X_train_cat[:3]"
   ]
  },
  {
   "cell_type": "code",
   "execution_count": 51,
   "metadata": {},
   "outputs": [],
   "source": [
    "for s_train_cat in X_train_cat:\n",
    "    for x_train_cat in s_train_cat:\n",
    "        for word in x_train_cat:\n",
    "            x_train_cat[word] = word2idx.get(\n",
    "                x_train_cat[word].lower(), UNK_IDX)\n",
    "\n",
    "for s_val_cat in X_val_cat:\n",
    "    for x_val_cat in s_val_cat:\n",
    "        for word in x_val_cat:\n",
    "            x_val_cat[word] = word2idx.get(\n",
    "                x_val_cat[word].lower(), UNK_IDX)\n",
    "\n",
    "for s_test_cat in X_test_cat:\n",
    "    for x_test_cat in s_test_cat:\n",
    "        for word in x_test_cat:\n",
    "            x_test_cat[word] = word2idx.get(\n",
    "                x_test_cat[word].lower(), UNK_IDX)"
   ]
  },
  {
   "cell_type": "code",
   "execution_count": 52,
   "metadata": {},
   "outputs": [
    {
     "data": {
      "text/plain": [
       "[[{0: 6168, 1: 6168, 2: 793, 3: 6169, 4: 6169}],\n",
       " [{0: 6168, 1: 6168, 2: 43539, 3: 102381, 4: 51127},\n",
       "  {0: 6168, 1: 43539, 2: 102381, 3: 51127, 4: 23294},\n",
       "  {0: 43539, 1: 102381, 2: 51127, 3: 23294, 4: 123348},\n",
       "  {0: 102381, 1: 51127, 2: 23294, 3: 123348, 4: 20585},\n",
       "  {0: 51127, 1: 23294, 2: 123348, 3: 20585, 4: 21362},\n",
       "  {0: 23294, 1: 123348, 2: 20585, 3: 21362, 4: 70048},\n",
       "  {0: 123348, 1: 20585, 2: 21362, 3: 70048, 4: 794},\n",
       "  {0: 20585, 1: 21362, 2: 70048, 3: 794, 4: 6169},\n",
       "  {0: 21362, 1: 70048, 2: 794, 3: 6169, 4: 6169}],\n",
       " [{0: 6168, 1: 6168, 2: 93450, 3: 18843, 4: 6169},\n",
       "  {0: 6168, 1: 93450, 2: 18843, 3: 6169, 4: 6169}],\n",
       " [{0: 6168, 1: 6168, 2: 21745, 3: 3285, 4: 6169},\n",
       "  {0: 6168, 1: 21745, 2: 3285, 3: 6169, 4: 6169}],\n",
       " [{0: 6168, 1: 6168, 2: 121983, 3: 43697, 4: 29447},\n",
       "  {0: 6168, 1: 121983, 2: 43697, 3: 29447, 4: 106629},\n",
       "  {0: 121983, 1: 43697, 2: 29447, 3: 106629, 4: 88585},\n",
       "  {0: 43697, 1: 29447, 2: 106629, 3: 88585, 4: 122699},\n",
       "  {0: 29447, 1: 106629, 2: 88585, 3: 122699, 4: 63622},\n",
       "  {0: 106629, 1: 88585, 2: 122699, 3: 63622, 4: 37226},\n",
       "  {0: 88585, 1: 122699, 2: 63622, 3: 37226, 4: 133627},\n",
       "  {0: 122699, 1: 63622, 2: 37226, 3: 133627, 4: 51127},\n",
       "  {0: 63622, 1: 37226, 2: 133627, 3: 51127, 4: 7706},\n",
       "  {0: 37226, 1: 133627, 2: 51127, 3: 7706, 4: 123348},\n",
       "  {0: 133627, 1: 51127, 2: 7706, 3: 123348, 4: 30616},\n",
       "  {0: 51127, 1: 7706, 2: 123348, 3: 30616, 4: 123348},\n",
       "  {0: 7706, 1: 123348, 2: 30616, 3: 123348, 4: 111710},\n",
       "  {0: 123348, 1: 30616, 2: 123348, 3: 111710, 4: 21362},\n",
       "  {0: 30616, 1: 123348, 2: 111710, 3: 21362, 4: 70048},\n",
       "  {0: 123348, 1: 111710, 2: 21362, 3: 70048, 4: 127997},\n",
       "  {0: 111710, 1: 21362, 2: 70048, 3: 127997, 4: 108489},\n",
       "  {0: 21362, 1: 70048, 2: 127997, 3: 108489, 4: 36239},\n",
       "  {0: 70048, 1: 127997, 2: 108489, 3: 36239, 4: 132803},\n",
       "  {0: 127997, 1: 108489, 2: 36239, 3: 132803, 4: 74834},\n",
       "  {0: 108489, 1: 36239, 2: 132803, 3: 74834, 4: 31864},\n",
       "  {0: 36239, 1: 132803, 2: 74834, 3: 31864, 4: 37411},\n",
       "  {0: 132803, 1: 74834, 2: 31864, 3: 37411, 4: 23574},\n",
       "  {0: 74834, 1: 31864, 2: 37411, 3: 23574, 4: 16652},\n",
       "  {0: 31864, 1: 37411, 2: 23574, 3: 16652, 4: 124553},\n",
       "  {0: 37411, 1: 23574, 2: 16652, 3: 124553, 4: 123348},\n",
       "  {0: 23574, 1: 16652, 2: 124553, 3: 123348, 4: 110900},\n",
       "  {0: 16652, 1: 124553, 2: 123348, 3: 110900, 4: 794},\n",
       "  {0: 124553, 1: 123348, 2: 110900, 3: 794, 4: 6169},\n",
       "  {0: 123348, 1: 110900, 2: 794, 3: 6169, 4: 6169}]]"
      ]
     },
     "execution_count": 52,
     "metadata": {},
     "output_type": "execute_result"
    }
   ],
   "source": [
    "X_train_cat[:5]"
   ]
  },
  {
   "cell_type": "code",
   "execution_count": 53,
   "metadata": {},
   "outputs": [
    {
     "data": {
      "text/plain": [
       "['ALL_CAPS', 'HAS_CAP', 'INIT_CAP', 'NO_CAPS', '__BOS__', '__EOS__']"
      ]
     },
     "execution_count": 53,
     "metadata": {},
     "output_type": "execute_result"
    }
   ],
   "source": [
    "capset = sorted(set(corpus_caps))\n",
    "capset"
   ]
  },
  {
   "cell_type": "code",
   "execution_count": 54,
   "metadata": {},
   "outputs": [
    {
     "data": {
      "text/plain": [
       "({0: 'ALL_CAPS',\n",
       "  1: 'HAS_CAP',\n",
       "  2: 'INIT_CAP',\n",
       "  3: 'NO_CAPS',\n",
       "  4: '__BOS__',\n",
       "  5: '__EOS__'},\n",
       " {'ALL_CAPS': 0,\n",
       "  'HAS_CAP': 1,\n",
       "  'INIT_CAP': 2,\n",
       "  'NO_CAPS': 3,\n",
       "  '__BOS__': 4,\n",
       "  '__EOS__': 5})"
      ]
     },
     "execution_count": 54,
     "metadata": {},
     "output_type": "execute_result"
    }
   ],
   "source": [
    "idx2cap = dict(enumerate(capset))\n",
    "cap2idx = {v: k for k, v in idx2cap.items()}\n",
    "idx2cap, cap2idx"
   ]
  },
  {
   "cell_type": "code",
   "execution_count": 55,
   "metadata": {},
   "outputs": [
    {
     "data": {
      "text/plain": [
       "[[{0: '__BOS__', 1: '__BOS__', 2: 'ALL_CAPS', 3: '__EOS__', 4: '__EOS__'}],\n",
       " [{0: '__BOS__', 1: '__BOS__', 2: 'ALL_CAPS', 3: 'NO_CAPS', 4: 'INIT_CAP'},\n",
       "  {0: '__BOS__', 1: 'ALL_CAPS', 2: 'NO_CAPS', 3: 'INIT_CAP', 4: 'NO_CAPS'},\n",
       "  {0: 'ALL_CAPS', 1: 'NO_CAPS', 2: 'INIT_CAP', 3: 'NO_CAPS', 4: 'NO_CAPS'},\n",
       "  {0: 'NO_CAPS', 1: 'INIT_CAP', 2: 'NO_CAPS', 3: 'NO_CAPS', 4: 'NO_CAPS'},\n",
       "  {0: 'INIT_CAP', 1: 'NO_CAPS', 2: 'NO_CAPS', 3: 'NO_CAPS', 4: 'INIT_CAP'},\n",
       "  {0: 'NO_CAPS', 1: 'NO_CAPS', 2: 'NO_CAPS', 3: 'INIT_CAP', 4: 'NO_CAPS'},\n",
       "  {0: 'NO_CAPS', 1: 'NO_CAPS', 2: 'INIT_CAP', 3: 'NO_CAPS', 4: 'NO_CAPS'},\n",
       "  {0: 'NO_CAPS', 1: 'INIT_CAP', 2: 'NO_CAPS', 3: 'NO_CAPS', 4: '__EOS__'},\n",
       "  {0: 'INIT_CAP', 1: 'NO_CAPS', 2: 'NO_CAPS', 3: '__EOS__', 4: '__EOS__'}],\n",
       " [{0: '__BOS__', 1: '__BOS__', 2: 'INIT_CAP', 3: 'INIT_CAP', 4: '__EOS__'},\n",
       "  {0: '__BOS__', 1: 'INIT_CAP', 2: 'INIT_CAP', 3: '__EOS__', 4: '__EOS__'}]]"
      ]
     },
     "execution_count": 55,
     "metadata": {},
     "output_type": "execute_result"
    }
   ],
   "source": [
    "X_train_caps_cat[:3]"
   ]
  },
  {
   "cell_type": "code",
   "execution_count": 56,
   "metadata": {},
   "outputs": [],
   "source": [
    "for sent in X_train_caps_cat:\n",
    "    for row in sent:\n",
    "        for cap in row:\n",
    "            row[cap] = cap2idx.get(row[cap])\n",
    "\n",
    "for sent in X_val_caps_cat:\n",
    "    for row in sent:\n",
    "        for cap in row:\n",
    "            row[cap] = cap2idx.get(row[cap])\n",
    "\n",
    "for sent in X_test_caps_cat:\n",
    "    for row in sent:\n",
    "        for cap in row:\n",
    "            row[cap] = cap2idx.get(row[cap])"
   ]
  },
  {
   "cell_type": "code",
   "execution_count": 57,
   "metadata": {},
   "outputs": [
    {
     "data": {
      "text/plain": [
       "[[{0: 4, 1: 4, 2: 0, 3: 5, 4: 5}],\n",
       " [{0: 4, 1: 4, 2: 0, 3: 3, 4: 2},\n",
       "  {0: 4, 1: 0, 2: 3, 3: 2, 4: 3},\n",
       "  {0: 0, 1: 3, 2: 2, 3: 3, 4: 3},\n",
       "  {0: 3, 1: 2, 2: 3, 3: 3, 4: 3},\n",
       "  {0: 2, 1: 3, 2: 3, 3: 3, 4: 2},\n",
       "  {0: 3, 1: 3, 2: 3, 3: 2, 4: 3},\n",
       "  {0: 3, 1: 3, 2: 2, 3: 3, 4: 3},\n",
       "  {0: 3, 1: 2, 2: 3, 3: 3, 4: 5},\n",
       "  {0: 2, 1: 3, 2: 3, 3: 5, 4: 5}],\n",
       " [{0: 4, 1: 4, 2: 2, 3: 2, 4: 5}, {0: 4, 1: 2, 2: 2, 3: 5, 4: 5}]]"
      ]
     },
     "execution_count": 57,
     "metadata": {},
     "output_type": "execute_result"
    }
   ],
   "source": [
    "X_train_caps_cat[:3]"
   ]
  },
  {
   "cell_type": "markdown",
   "metadata": {},
   "source": [
    "## Vectorizing the ${X}$ Matrix.\n",
    "We create two embedding matrices, for the words and the case information"
   ]
  },
  {
   "cell_type": "markdown",
   "metadata": {},
   "source": [
    "### Vectorizing the Words"
   ]
  },
  {
   "cell_type": "code",
   "execution_count": 58,
   "metadata": {},
   "outputs": [
    {
     "data": {
      "text/html": [
       "<style>#sk-container-id-1 {\n",
       "  /* Definition of color scheme common for light and dark mode */\n",
       "  --sklearn-color-text: #000;\n",
       "  --sklearn-color-text-muted: #666;\n",
       "  --sklearn-color-line: gray;\n",
       "  /* Definition of color scheme for unfitted estimators */\n",
       "  --sklearn-color-unfitted-level-0: #fff5e6;\n",
       "  --sklearn-color-unfitted-level-1: #f6e4d2;\n",
       "  --sklearn-color-unfitted-level-2: #ffe0b3;\n",
       "  --sklearn-color-unfitted-level-3: chocolate;\n",
       "  /* Definition of color scheme for fitted estimators */\n",
       "  --sklearn-color-fitted-level-0: #f0f8ff;\n",
       "  --sklearn-color-fitted-level-1: #d4ebff;\n",
       "  --sklearn-color-fitted-level-2: #b3dbfd;\n",
       "  --sklearn-color-fitted-level-3: cornflowerblue;\n",
       "\n",
       "  /* Specific color for light theme */\n",
       "  --sklearn-color-text-on-default-background: var(--sg-text-color, var(--theme-code-foreground, var(--jp-content-font-color1, black)));\n",
       "  --sklearn-color-background: var(--sg-background-color, var(--theme-background, var(--jp-layout-color0, white)));\n",
       "  --sklearn-color-border-box: var(--sg-text-color, var(--theme-code-foreground, var(--jp-content-font-color1, black)));\n",
       "  --sklearn-color-icon: #696969;\n",
       "\n",
       "  @media (prefers-color-scheme: dark) {\n",
       "    /* Redefinition of color scheme for dark theme */\n",
       "    --sklearn-color-text-on-default-background: var(--sg-text-color, var(--theme-code-foreground, var(--jp-content-font-color1, white)));\n",
       "    --sklearn-color-background: var(--sg-background-color, var(--theme-background, var(--jp-layout-color0, #111)));\n",
       "    --sklearn-color-border-box: var(--sg-text-color, var(--theme-code-foreground, var(--jp-content-font-color1, white)));\n",
       "    --sklearn-color-icon: #878787;\n",
       "  }\n",
       "}\n",
       "\n",
       "#sk-container-id-1 {\n",
       "  color: var(--sklearn-color-text);\n",
       "}\n",
       "\n",
       "#sk-container-id-1 pre {\n",
       "  padding: 0;\n",
       "}\n",
       "\n",
       "#sk-container-id-1 input.sk-hidden--visually {\n",
       "  border: 0;\n",
       "  clip: rect(1px 1px 1px 1px);\n",
       "  clip: rect(1px, 1px, 1px, 1px);\n",
       "  height: 1px;\n",
       "  margin: -1px;\n",
       "  overflow: hidden;\n",
       "  padding: 0;\n",
       "  position: absolute;\n",
       "  width: 1px;\n",
       "}\n",
       "\n",
       "#sk-container-id-1 div.sk-dashed-wrapped {\n",
       "  border: 1px dashed var(--sklearn-color-line);\n",
       "  margin: 0 0.4em 0.5em 0.4em;\n",
       "  box-sizing: border-box;\n",
       "  padding-bottom: 0.4em;\n",
       "  background-color: var(--sklearn-color-background);\n",
       "}\n",
       "\n",
       "#sk-container-id-1 div.sk-container {\n",
       "  /* jupyter's `normalize.less` sets `[hidden] { display: none; }`\n",
       "     but bootstrap.min.css set `[hidden] { display: none !important; }`\n",
       "     so we also need the `!important` here to be able to override the\n",
       "     default hidden behavior on the sphinx rendered scikit-learn.org.\n",
       "     See: https://github.com/scikit-learn/scikit-learn/issues/21755 */\n",
       "  display: inline-block !important;\n",
       "  position: relative;\n",
       "}\n",
       "\n",
       "#sk-container-id-1 div.sk-text-repr-fallback {\n",
       "  display: none;\n",
       "}\n",
       "\n",
       "div.sk-parallel-item,\n",
       "div.sk-serial,\n",
       "div.sk-item {\n",
       "  /* draw centered vertical line to link estimators */\n",
       "  background-image: linear-gradient(var(--sklearn-color-text-on-default-background), var(--sklearn-color-text-on-default-background));\n",
       "  background-size: 2px 100%;\n",
       "  background-repeat: no-repeat;\n",
       "  background-position: center center;\n",
       "}\n",
       "\n",
       "/* Parallel-specific style estimator block */\n",
       "\n",
       "#sk-container-id-1 div.sk-parallel-item::after {\n",
       "  content: \"\";\n",
       "  width: 100%;\n",
       "  border-bottom: 2px solid var(--sklearn-color-text-on-default-background);\n",
       "  flex-grow: 1;\n",
       "}\n",
       "\n",
       "#sk-container-id-1 div.sk-parallel {\n",
       "  display: flex;\n",
       "  align-items: stretch;\n",
       "  justify-content: center;\n",
       "  background-color: var(--sklearn-color-background);\n",
       "  position: relative;\n",
       "}\n",
       "\n",
       "#sk-container-id-1 div.sk-parallel-item {\n",
       "  display: flex;\n",
       "  flex-direction: column;\n",
       "}\n",
       "\n",
       "#sk-container-id-1 div.sk-parallel-item:first-child::after {\n",
       "  align-self: flex-end;\n",
       "  width: 50%;\n",
       "}\n",
       "\n",
       "#sk-container-id-1 div.sk-parallel-item:last-child::after {\n",
       "  align-self: flex-start;\n",
       "  width: 50%;\n",
       "}\n",
       "\n",
       "#sk-container-id-1 div.sk-parallel-item:only-child::after {\n",
       "  width: 0;\n",
       "}\n",
       "\n",
       "/* Serial-specific style estimator block */\n",
       "\n",
       "#sk-container-id-1 div.sk-serial {\n",
       "  display: flex;\n",
       "  flex-direction: column;\n",
       "  align-items: center;\n",
       "  background-color: var(--sklearn-color-background);\n",
       "  padding-right: 1em;\n",
       "  padding-left: 1em;\n",
       "}\n",
       "\n",
       "\n",
       "/* Toggleable style: style used for estimator/Pipeline/ColumnTransformer box that is\n",
       "clickable and can be expanded/collapsed.\n",
       "- Pipeline and ColumnTransformer use this feature and define the default style\n",
       "- Estimators will overwrite some part of the style using the `sk-estimator` class\n",
       "*/\n",
       "\n",
       "/* Pipeline and ColumnTransformer style (default) */\n",
       "\n",
       "#sk-container-id-1 div.sk-toggleable {\n",
       "  /* Default theme specific background. It is overwritten whether we have a\n",
       "  specific estimator or a Pipeline/ColumnTransformer */\n",
       "  background-color: var(--sklearn-color-background);\n",
       "}\n",
       "\n",
       "/* Toggleable label */\n",
       "#sk-container-id-1 label.sk-toggleable__label {\n",
       "  cursor: pointer;\n",
       "  display: flex;\n",
       "  width: 100%;\n",
       "  margin-bottom: 0;\n",
       "  padding: 0.5em;\n",
       "  box-sizing: border-box;\n",
       "  text-align: center;\n",
       "  align-items: start;\n",
       "  justify-content: space-between;\n",
       "  gap: 0.5em;\n",
       "}\n",
       "\n",
       "#sk-container-id-1 label.sk-toggleable__label .caption {\n",
       "  font-size: 0.6rem;\n",
       "  font-weight: lighter;\n",
       "  color: var(--sklearn-color-text-muted);\n",
       "}\n",
       "\n",
       "#sk-container-id-1 label.sk-toggleable__label-arrow:before {\n",
       "  /* Arrow on the left of the label */\n",
       "  content: \"▸\";\n",
       "  float: left;\n",
       "  margin-right: 0.25em;\n",
       "  color: var(--sklearn-color-icon);\n",
       "}\n",
       "\n",
       "#sk-container-id-1 label.sk-toggleable__label-arrow:hover:before {\n",
       "  color: var(--sklearn-color-text);\n",
       "}\n",
       "\n",
       "/* Toggleable content - dropdown */\n",
       "\n",
       "#sk-container-id-1 div.sk-toggleable__content {\n",
       "  max-height: 0;\n",
       "  max-width: 0;\n",
       "  overflow: hidden;\n",
       "  text-align: left;\n",
       "  /* unfitted */\n",
       "  background-color: var(--sklearn-color-unfitted-level-0);\n",
       "}\n",
       "\n",
       "#sk-container-id-1 div.sk-toggleable__content.fitted {\n",
       "  /* fitted */\n",
       "  background-color: var(--sklearn-color-fitted-level-0);\n",
       "}\n",
       "\n",
       "#sk-container-id-1 div.sk-toggleable__content pre {\n",
       "  margin: 0.2em;\n",
       "  border-radius: 0.25em;\n",
       "  color: var(--sklearn-color-text);\n",
       "  /* unfitted */\n",
       "  background-color: var(--sklearn-color-unfitted-level-0);\n",
       "}\n",
       "\n",
       "#sk-container-id-1 div.sk-toggleable__content.fitted pre {\n",
       "  /* unfitted */\n",
       "  background-color: var(--sklearn-color-fitted-level-0);\n",
       "}\n",
       "\n",
       "#sk-container-id-1 input.sk-toggleable__control:checked~div.sk-toggleable__content {\n",
       "  /* Expand drop-down */\n",
       "  max-height: 200px;\n",
       "  max-width: 100%;\n",
       "  overflow: auto;\n",
       "}\n",
       "\n",
       "#sk-container-id-1 input.sk-toggleable__control:checked~label.sk-toggleable__label-arrow:before {\n",
       "  content: \"▾\";\n",
       "}\n",
       "\n",
       "/* Pipeline/ColumnTransformer-specific style */\n",
       "\n",
       "#sk-container-id-1 div.sk-label input.sk-toggleable__control:checked~label.sk-toggleable__label {\n",
       "  color: var(--sklearn-color-text);\n",
       "  background-color: var(--sklearn-color-unfitted-level-2);\n",
       "}\n",
       "\n",
       "#sk-container-id-1 div.sk-label.fitted input.sk-toggleable__control:checked~label.sk-toggleable__label {\n",
       "  background-color: var(--sklearn-color-fitted-level-2);\n",
       "}\n",
       "\n",
       "/* Estimator-specific style */\n",
       "\n",
       "/* Colorize estimator box */\n",
       "#sk-container-id-1 div.sk-estimator input.sk-toggleable__control:checked~label.sk-toggleable__label {\n",
       "  /* unfitted */\n",
       "  background-color: var(--sklearn-color-unfitted-level-2);\n",
       "}\n",
       "\n",
       "#sk-container-id-1 div.sk-estimator.fitted input.sk-toggleable__control:checked~label.sk-toggleable__label {\n",
       "  /* fitted */\n",
       "  background-color: var(--sklearn-color-fitted-level-2);\n",
       "}\n",
       "\n",
       "#sk-container-id-1 div.sk-label label.sk-toggleable__label,\n",
       "#sk-container-id-1 div.sk-label label {\n",
       "  /* The background is the default theme color */\n",
       "  color: var(--sklearn-color-text-on-default-background);\n",
       "}\n",
       "\n",
       "/* On hover, darken the color of the background */\n",
       "#sk-container-id-1 div.sk-label:hover label.sk-toggleable__label {\n",
       "  color: var(--sklearn-color-text);\n",
       "  background-color: var(--sklearn-color-unfitted-level-2);\n",
       "}\n",
       "\n",
       "/* Label box, darken color on hover, fitted */\n",
       "#sk-container-id-1 div.sk-label.fitted:hover label.sk-toggleable__label.fitted {\n",
       "  color: var(--sklearn-color-text);\n",
       "  background-color: var(--sklearn-color-fitted-level-2);\n",
       "}\n",
       "\n",
       "/* Estimator label */\n",
       "\n",
       "#sk-container-id-1 div.sk-label label {\n",
       "  font-family: monospace;\n",
       "  font-weight: bold;\n",
       "  display: inline-block;\n",
       "  line-height: 1.2em;\n",
       "}\n",
       "\n",
       "#sk-container-id-1 div.sk-label-container {\n",
       "  text-align: center;\n",
       "}\n",
       "\n",
       "/* Estimator-specific */\n",
       "#sk-container-id-1 div.sk-estimator {\n",
       "  font-family: monospace;\n",
       "  border: 1px dotted var(--sklearn-color-border-box);\n",
       "  border-radius: 0.25em;\n",
       "  box-sizing: border-box;\n",
       "  margin-bottom: 0.5em;\n",
       "  /* unfitted */\n",
       "  background-color: var(--sklearn-color-unfitted-level-0);\n",
       "}\n",
       "\n",
       "#sk-container-id-1 div.sk-estimator.fitted {\n",
       "  /* fitted */\n",
       "  background-color: var(--sklearn-color-fitted-level-0);\n",
       "}\n",
       "\n",
       "/* on hover */\n",
       "#sk-container-id-1 div.sk-estimator:hover {\n",
       "  /* unfitted */\n",
       "  background-color: var(--sklearn-color-unfitted-level-2);\n",
       "}\n",
       "\n",
       "#sk-container-id-1 div.sk-estimator.fitted:hover {\n",
       "  /* fitted */\n",
       "  background-color: var(--sklearn-color-fitted-level-2);\n",
       "}\n",
       "\n",
       "/* Specification for estimator info (e.g. \"i\" and \"?\") */\n",
       "\n",
       "/* Common style for \"i\" and \"?\" */\n",
       "\n",
       ".sk-estimator-doc-link,\n",
       "a:link.sk-estimator-doc-link,\n",
       "a:visited.sk-estimator-doc-link {\n",
       "  float: right;\n",
       "  font-size: smaller;\n",
       "  line-height: 1em;\n",
       "  font-family: monospace;\n",
       "  background-color: var(--sklearn-color-background);\n",
       "  border-radius: 1em;\n",
       "  height: 1em;\n",
       "  width: 1em;\n",
       "  text-decoration: none !important;\n",
       "  margin-left: 0.5em;\n",
       "  text-align: center;\n",
       "  /* unfitted */\n",
       "  border: var(--sklearn-color-unfitted-level-1) 1pt solid;\n",
       "  color: var(--sklearn-color-unfitted-level-1);\n",
       "}\n",
       "\n",
       ".sk-estimator-doc-link.fitted,\n",
       "a:link.sk-estimator-doc-link.fitted,\n",
       "a:visited.sk-estimator-doc-link.fitted {\n",
       "  /* fitted */\n",
       "  border: var(--sklearn-color-fitted-level-1) 1pt solid;\n",
       "  color: var(--sklearn-color-fitted-level-1);\n",
       "}\n",
       "\n",
       "/* On hover */\n",
       "div.sk-estimator:hover .sk-estimator-doc-link:hover,\n",
       ".sk-estimator-doc-link:hover,\n",
       "div.sk-label-container:hover .sk-estimator-doc-link:hover,\n",
       ".sk-estimator-doc-link:hover {\n",
       "  /* unfitted */\n",
       "  background-color: var(--sklearn-color-unfitted-level-3);\n",
       "  color: var(--sklearn-color-background);\n",
       "  text-decoration: none;\n",
       "}\n",
       "\n",
       "div.sk-estimator.fitted:hover .sk-estimator-doc-link.fitted:hover,\n",
       ".sk-estimator-doc-link.fitted:hover,\n",
       "div.sk-label-container:hover .sk-estimator-doc-link.fitted:hover,\n",
       ".sk-estimator-doc-link.fitted:hover {\n",
       "  /* fitted */\n",
       "  background-color: var(--sklearn-color-fitted-level-3);\n",
       "  color: var(--sklearn-color-background);\n",
       "  text-decoration: none;\n",
       "}\n",
       "\n",
       "/* Span, style for the box shown on hovering the info icon */\n",
       ".sk-estimator-doc-link span {\n",
       "  display: none;\n",
       "  z-index: 9999;\n",
       "  position: relative;\n",
       "  font-weight: normal;\n",
       "  right: .2ex;\n",
       "  padding: .5ex;\n",
       "  margin: .5ex;\n",
       "  width: min-content;\n",
       "  min-width: 20ex;\n",
       "  max-width: 50ex;\n",
       "  color: var(--sklearn-color-text);\n",
       "  box-shadow: 2pt 2pt 4pt #999;\n",
       "  /* unfitted */\n",
       "  background: var(--sklearn-color-unfitted-level-0);\n",
       "  border: .5pt solid var(--sklearn-color-unfitted-level-3);\n",
       "}\n",
       "\n",
       ".sk-estimator-doc-link.fitted span {\n",
       "  /* fitted */\n",
       "  background: var(--sklearn-color-fitted-level-0);\n",
       "  border: var(--sklearn-color-fitted-level-3);\n",
       "}\n",
       "\n",
       ".sk-estimator-doc-link:hover span {\n",
       "  display: block;\n",
       "}\n",
       "\n",
       "/* \"?\"-specific style due to the `<a>` HTML tag */\n",
       "\n",
       "#sk-container-id-1 a.estimator_doc_link {\n",
       "  float: right;\n",
       "  font-size: 1rem;\n",
       "  line-height: 1em;\n",
       "  font-family: monospace;\n",
       "  background-color: var(--sklearn-color-background);\n",
       "  border-radius: 1rem;\n",
       "  height: 1rem;\n",
       "  width: 1rem;\n",
       "  text-decoration: none;\n",
       "  /* unfitted */\n",
       "  color: var(--sklearn-color-unfitted-level-1);\n",
       "  border: var(--sklearn-color-unfitted-level-1) 1pt solid;\n",
       "}\n",
       "\n",
       "#sk-container-id-1 a.estimator_doc_link.fitted {\n",
       "  /* fitted */\n",
       "  border: var(--sklearn-color-fitted-level-1) 1pt solid;\n",
       "  color: var(--sklearn-color-fitted-level-1);\n",
       "}\n",
       "\n",
       "/* On hover */\n",
       "#sk-container-id-1 a.estimator_doc_link:hover {\n",
       "  /* unfitted */\n",
       "  background-color: var(--sklearn-color-unfitted-level-3);\n",
       "  color: var(--sklearn-color-background);\n",
       "  text-decoration: none;\n",
       "}\n",
       "\n",
       "#sk-container-id-1 a.estimator_doc_link.fitted:hover {\n",
       "  /* fitted */\n",
       "  background-color: var(--sklearn-color-fitted-level-3);\n",
       "}\n",
       "</style><div id=\"sk-container-id-1\" class=\"sk-top-container\"><div class=\"sk-text-repr-fallback\"><pre>DictVectorizer(dtype=&lt;class &#x27;numpy.int64&#x27;&gt;, sparse=False)</pre><b>In a Jupyter environment, please rerun this cell to show the HTML representation or trust the notebook. <br />On GitHub, the HTML representation is unable to render, please try loading this page with nbviewer.org.</b></div><div class=\"sk-container\" hidden><div class=\"sk-item\"><div class=\"sk-estimator fitted sk-toggleable\"><input class=\"sk-toggleable__control sk-hidden--visually\" id=\"sk-estimator-id-1\" type=\"checkbox\" checked><label for=\"sk-estimator-id-1\" class=\"sk-toggleable__label fitted sk-toggleable__label-arrow\"><div><div>DictVectorizer</div></div><div><a class=\"sk-estimator-doc-link fitted\" rel=\"noreferrer\" target=\"_blank\" href=\"https://scikit-learn.org/1.6/modules/generated/sklearn.feature_extraction.DictVectorizer.html\">?<span>Documentation for DictVectorizer</span></a><span class=\"sk-estimator-doc-link fitted\">i<span>Fitted</span></span></div></label><div class=\"sk-toggleable__content fitted\"><pre>DictVectorizer(dtype=&lt;class &#x27;numpy.int64&#x27;&gt;, sparse=False)</pre></div> </div></div></div></div>"
      ],
      "text/plain": [
       "DictVectorizer(dtype=<class 'numpy.int64'>, sparse=False)"
      ]
     },
     "execution_count": 58,
     "metadata": {},
     "output_type": "execute_result"
    }
   ],
   "source": [
    "dict_vect_words = DictVectorizer(dtype=np.int64, sparse=False)\n",
    "dict_vect_words.fit([row for sent in X_train_cat for row in sent])"
   ]
  },
  {
   "cell_type": "code",
   "execution_count": 59,
   "metadata": {},
   "outputs": [],
   "source": [
    "X_train = [dict_vect_words.transform(sent) for sent in X_train_cat]\n",
    "X_val = [dict_vect_words.transform(sent) for sent in X_val_cat]\n",
    "X_test = [dict_vect_words.transform(sent) for sent in X_test_cat]"
   ]
  },
  {
   "cell_type": "code",
   "execution_count": 60,
   "metadata": {},
   "outputs": [
    {
     "data": {
      "text/plain": [
       "(9, 5)"
      ]
     },
     "execution_count": 60,
     "metadata": {},
     "output_type": "execute_result"
    }
   ],
   "source": [
    "X_train[1].shape"
   ]
  },
  {
   "cell_type": "code",
   "execution_count": 61,
   "metadata": {},
   "outputs": [
    {
     "data": {
      "text/plain": [
       "[array([[6168, 6168,  793, 6169, 6169]]),\n",
       " array([[  6168,   6168,  43539, 102381,  51127],\n",
       "        [  6168,  43539, 102381,  51127,  23294],\n",
       "        [ 43539, 102381,  51127,  23294, 123348],\n",
       "        [102381,  51127,  23294, 123348,  20585],\n",
       "        [ 51127,  23294, 123348,  20585,  21362],\n",
       "        [ 23294, 123348,  20585,  21362,  70048],\n",
       "        [123348,  20585,  21362,  70048,    794],\n",
       "        [ 20585,  21362,  70048,    794,   6169],\n",
       "        [ 21362,  70048,    794,   6169,   6169]]),\n",
       " array([[ 6168,  6168, 93450, 18843,  6169],\n",
       "        [ 6168, 93450, 18843,  6169,  6169]]),\n",
       " array([[ 6168,  6168, 21745,  3285,  6169],\n",
       "        [ 6168, 21745,  3285,  6169,  6169]]),\n",
       " array([[  6168,   6168, 121983,  43697,  29447],\n",
       "        [  6168, 121983,  43697,  29447, 106629],\n",
       "        [121983,  43697,  29447, 106629,  88585],\n",
       "        [ 43697,  29447, 106629,  88585, 122699],\n",
       "        [ 29447, 106629,  88585, 122699,  63622],\n",
       "        [106629,  88585, 122699,  63622,  37226],\n",
       "        [ 88585, 122699,  63622,  37226, 133627],\n",
       "        [122699,  63622,  37226, 133627,  51127],\n",
       "        [ 63622,  37226, 133627,  51127,   7706],\n",
       "        [ 37226, 133627,  51127,   7706, 123348],\n",
       "        [133627,  51127,   7706, 123348,  30616],\n",
       "        [ 51127,   7706, 123348,  30616, 123348],\n",
       "        [  7706, 123348,  30616, 123348, 111710],\n",
       "        [123348,  30616, 123348, 111710,  21362],\n",
       "        [ 30616, 123348, 111710,  21362,  70048],\n",
       "        [123348, 111710,  21362,  70048, 127997],\n",
       "        [111710,  21362,  70048, 127997, 108489],\n",
       "        [ 21362,  70048, 127997, 108489,  36239],\n",
       "        [ 70048, 127997, 108489,  36239, 132803],\n",
       "        [127997, 108489,  36239, 132803,  74834],\n",
       "        [108489,  36239, 132803,  74834,  31864],\n",
       "        [ 36239, 132803,  74834,  31864,  37411],\n",
       "        [132803,  74834,  31864,  37411,  23574],\n",
       "        [ 74834,  31864,  37411,  23574,  16652],\n",
       "        [ 31864,  37411,  23574,  16652, 124553],\n",
       "        [ 37411,  23574,  16652, 124553, 123348],\n",
       "        [ 23574,  16652, 124553, 123348, 110900],\n",
       "        [ 16652, 124553, 123348, 110900,    794],\n",
       "        [124553, 123348, 110900,    794,   6169],\n",
       "        [123348, 110900,    794,   6169,   6169]])]"
      ]
     },
     "execution_count": 61,
     "metadata": {},
     "output_type": "execute_result"
    }
   ],
   "source": [
    "X_train[:5]"
   ]
  },
  {
   "cell_type": "code",
   "execution_count": 62,
   "metadata": {},
   "outputs": [],
   "source": [
    "X_train = [torch.from_numpy(X) for X in X_train]\n",
    "X_val = [torch.from_numpy(X) for X in X_val]\n",
    "X_test = [torch.from_numpy(X) for X in X_test]"
   ]
  },
  {
   "cell_type": "code",
   "execution_count": 63,
   "metadata": {},
   "outputs": [
    {
     "data": {
      "text/plain": [
       "[tensor([[  6168,   6168,  96033,  30030,  49116],\n",
       "         [  6168,  96033,  30030,  49116,  72944],\n",
       "         [ 96033,  30030,  49116,  72944, 111257],\n",
       "         [ 30030,  49116,  72944, 111257,  62295],\n",
       "         [ 49116,  72944, 111257,  62295, 110134],\n",
       "         [ 72944, 111257,  62295, 110134,    725],\n",
       "         [111257,  62295, 110134,    725,   6169],\n",
       "         [ 62295, 110134,    725,   6169,   6169]]),\n",
       " tensor([[  6168,   6168,  70660,    722,  13905],\n",
       "         [  6168,  70660,    722,  13905,   2286],\n",
       "         [ 70660,    722,  13905,   2286,    723],\n",
       "         [   722,  13905,   2286,    723, 131278],\n",
       "         [ 13905,   2286,    723, 131278, 122998],\n",
       "         [  2286,    723, 131278, 122998,  13505],\n",
       "         [   723, 131278, 122998,  13505,  70660],\n",
       "         [131278, 122998,  13505,  70660,  10614],\n",
       "         [122998,  13505,  70660,  10614, 120579],\n",
       "         [ 13505,  70660,  10614, 120579,  97131],\n",
       "         [ 70660,  10614, 120579,  97131,   3807],\n",
       "         [ 10614, 120579,  97131,   3807,  58801],\n",
       "         [120579,  97131,   3807,  58801,    794],\n",
       "         [ 97131,   3807,  58801,    794,   6169],\n",
       "         [  3807,  58801,    794,   6169,   6169]]),\n",
       " tensor([[6168, 6168,  793, 6169, 6169]]),\n",
       " tensor([[  6168,   6168,  63553,  95042,  38741],\n",
       "         [  6168,  63553,  95042,  38741,  45698],\n",
       "         [ 63553,  95042,  38741,  45698,  87976],\n",
       "         [ 95042,  38741,  45698,  87976, 131549],\n",
       "         [ 38741,  45698,  87976, 131549, 133627],\n",
       "         [ 45698,  87976, 131549, 133627, 119558],\n",
       "         [ 87976, 131549, 133627, 119558,    794],\n",
       "         [131549, 133627, 119558,    794,   6169],\n",
       "         [133627, 119558,    794,   6169,   6169]]),\n",
       " tensor([[  6168,   6168,  29008, 111934,   6169],\n",
       "         [  6168,  29008, 111934,   6169,   6169]])]"
      ]
     },
     "execution_count": 63,
     "metadata": {},
     "output_type": "execute_result"
    }
   ],
   "source": [
    "X_train[100:105]"
   ]
  },
  {
   "cell_type": "markdown",
   "metadata": {},
   "source": [
    "### Vectorizing the caps"
   ]
  },
  {
   "cell_type": "code",
   "execution_count": 64,
   "metadata": {},
   "outputs": [
    {
     "data": {
      "text/html": [
       "<style>#sk-container-id-2 {\n",
       "  /* Definition of color scheme common for light and dark mode */\n",
       "  --sklearn-color-text: #000;\n",
       "  --sklearn-color-text-muted: #666;\n",
       "  --sklearn-color-line: gray;\n",
       "  /* Definition of color scheme for unfitted estimators */\n",
       "  --sklearn-color-unfitted-level-0: #fff5e6;\n",
       "  --sklearn-color-unfitted-level-1: #f6e4d2;\n",
       "  --sklearn-color-unfitted-level-2: #ffe0b3;\n",
       "  --sklearn-color-unfitted-level-3: chocolate;\n",
       "  /* Definition of color scheme for fitted estimators */\n",
       "  --sklearn-color-fitted-level-0: #f0f8ff;\n",
       "  --sklearn-color-fitted-level-1: #d4ebff;\n",
       "  --sklearn-color-fitted-level-2: #b3dbfd;\n",
       "  --sklearn-color-fitted-level-3: cornflowerblue;\n",
       "\n",
       "  /* Specific color for light theme */\n",
       "  --sklearn-color-text-on-default-background: var(--sg-text-color, var(--theme-code-foreground, var(--jp-content-font-color1, black)));\n",
       "  --sklearn-color-background: var(--sg-background-color, var(--theme-background, var(--jp-layout-color0, white)));\n",
       "  --sklearn-color-border-box: var(--sg-text-color, var(--theme-code-foreground, var(--jp-content-font-color1, black)));\n",
       "  --sklearn-color-icon: #696969;\n",
       "\n",
       "  @media (prefers-color-scheme: dark) {\n",
       "    /* Redefinition of color scheme for dark theme */\n",
       "    --sklearn-color-text-on-default-background: var(--sg-text-color, var(--theme-code-foreground, var(--jp-content-font-color1, white)));\n",
       "    --sklearn-color-background: var(--sg-background-color, var(--theme-background, var(--jp-layout-color0, #111)));\n",
       "    --sklearn-color-border-box: var(--sg-text-color, var(--theme-code-foreground, var(--jp-content-font-color1, white)));\n",
       "    --sklearn-color-icon: #878787;\n",
       "  }\n",
       "}\n",
       "\n",
       "#sk-container-id-2 {\n",
       "  color: var(--sklearn-color-text);\n",
       "}\n",
       "\n",
       "#sk-container-id-2 pre {\n",
       "  padding: 0;\n",
       "}\n",
       "\n",
       "#sk-container-id-2 input.sk-hidden--visually {\n",
       "  border: 0;\n",
       "  clip: rect(1px 1px 1px 1px);\n",
       "  clip: rect(1px, 1px, 1px, 1px);\n",
       "  height: 1px;\n",
       "  margin: -1px;\n",
       "  overflow: hidden;\n",
       "  padding: 0;\n",
       "  position: absolute;\n",
       "  width: 1px;\n",
       "}\n",
       "\n",
       "#sk-container-id-2 div.sk-dashed-wrapped {\n",
       "  border: 1px dashed var(--sklearn-color-line);\n",
       "  margin: 0 0.4em 0.5em 0.4em;\n",
       "  box-sizing: border-box;\n",
       "  padding-bottom: 0.4em;\n",
       "  background-color: var(--sklearn-color-background);\n",
       "}\n",
       "\n",
       "#sk-container-id-2 div.sk-container {\n",
       "  /* jupyter's `normalize.less` sets `[hidden] { display: none; }`\n",
       "     but bootstrap.min.css set `[hidden] { display: none !important; }`\n",
       "     so we also need the `!important` here to be able to override the\n",
       "     default hidden behavior on the sphinx rendered scikit-learn.org.\n",
       "     See: https://github.com/scikit-learn/scikit-learn/issues/21755 */\n",
       "  display: inline-block !important;\n",
       "  position: relative;\n",
       "}\n",
       "\n",
       "#sk-container-id-2 div.sk-text-repr-fallback {\n",
       "  display: none;\n",
       "}\n",
       "\n",
       "div.sk-parallel-item,\n",
       "div.sk-serial,\n",
       "div.sk-item {\n",
       "  /* draw centered vertical line to link estimators */\n",
       "  background-image: linear-gradient(var(--sklearn-color-text-on-default-background), var(--sklearn-color-text-on-default-background));\n",
       "  background-size: 2px 100%;\n",
       "  background-repeat: no-repeat;\n",
       "  background-position: center center;\n",
       "}\n",
       "\n",
       "/* Parallel-specific style estimator block */\n",
       "\n",
       "#sk-container-id-2 div.sk-parallel-item::after {\n",
       "  content: \"\";\n",
       "  width: 100%;\n",
       "  border-bottom: 2px solid var(--sklearn-color-text-on-default-background);\n",
       "  flex-grow: 1;\n",
       "}\n",
       "\n",
       "#sk-container-id-2 div.sk-parallel {\n",
       "  display: flex;\n",
       "  align-items: stretch;\n",
       "  justify-content: center;\n",
       "  background-color: var(--sklearn-color-background);\n",
       "  position: relative;\n",
       "}\n",
       "\n",
       "#sk-container-id-2 div.sk-parallel-item {\n",
       "  display: flex;\n",
       "  flex-direction: column;\n",
       "}\n",
       "\n",
       "#sk-container-id-2 div.sk-parallel-item:first-child::after {\n",
       "  align-self: flex-end;\n",
       "  width: 50%;\n",
       "}\n",
       "\n",
       "#sk-container-id-2 div.sk-parallel-item:last-child::after {\n",
       "  align-self: flex-start;\n",
       "  width: 50%;\n",
       "}\n",
       "\n",
       "#sk-container-id-2 div.sk-parallel-item:only-child::after {\n",
       "  width: 0;\n",
       "}\n",
       "\n",
       "/* Serial-specific style estimator block */\n",
       "\n",
       "#sk-container-id-2 div.sk-serial {\n",
       "  display: flex;\n",
       "  flex-direction: column;\n",
       "  align-items: center;\n",
       "  background-color: var(--sklearn-color-background);\n",
       "  padding-right: 1em;\n",
       "  padding-left: 1em;\n",
       "}\n",
       "\n",
       "\n",
       "/* Toggleable style: style used for estimator/Pipeline/ColumnTransformer box that is\n",
       "clickable and can be expanded/collapsed.\n",
       "- Pipeline and ColumnTransformer use this feature and define the default style\n",
       "- Estimators will overwrite some part of the style using the `sk-estimator` class\n",
       "*/\n",
       "\n",
       "/* Pipeline and ColumnTransformer style (default) */\n",
       "\n",
       "#sk-container-id-2 div.sk-toggleable {\n",
       "  /* Default theme specific background. It is overwritten whether we have a\n",
       "  specific estimator or a Pipeline/ColumnTransformer */\n",
       "  background-color: var(--sklearn-color-background);\n",
       "}\n",
       "\n",
       "/* Toggleable label */\n",
       "#sk-container-id-2 label.sk-toggleable__label {\n",
       "  cursor: pointer;\n",
       "  display: flex;\n",
       "  width: 100%;\n",
       "  margin-bottom: 0;\n",
       "  padding: 0.5em;\n",
       "  box-sizing: border-box;\n",
       "  text-align: center;\n",
       "  align-items: start;\n",
       "  justify-content: space-between;\n",
       "  gap: 0.5em;\n",
       "}\n",
       "\n",
       "#sk-container-id-2 label.sk-toggleable__label .caption {\n",
       "  font-size: 0.6rem;\n",
       "  font-weight: lighter;\n",
       "  color: var(--sklearn-color-text-muted);\n",
       "}\n",
       "\n",
       "#sk-container-id-2 label.sk-toggleable__label-arrow:before {\n",
       "  /* Arrow on the left of the label */\n",
       "  content: \"▸\";\n",
       "  float: left;\n",
       "  margin-right: 0.25em;\n",
       "  color: var(--sklearn-color-icon);\n",
       "}\n",
       "\n",
       "#sk-container-id-2 label.sk-toggleable__label-arrow:hover:before {\n",
       "  color: var(--sklearn-color-text);\n",
       "}\n",
       "\n",
       "/* Toggleable content - dropdown */\n",
       "\n",
       "#sk-container-id-2 div.sk-toggleable__content {\n",
       "  max-height: 0;\n",
       "  max-width: 0;\n",
       "  overflow: hidden;\n",
       "  text-align: left;\n",
       "  /* unfitted */\n",
       "  background-color: var(--sklearn-color-unfitted-level-0);\n",
       "}\n",
       "\n",
       "#sk-container-id-2 div.sk-toggleable__content.fitted {\n",
       "  /* fitted */\n",
       "  background-color: var(--sklearn-color-fitted-level-0);\n",
       "}\n",
       "\n",
       "#sk-container-id-2 div.sk-toggleable__content pre {\n",
       "  margin: 0.2em;\n",
       "  border-radius: 0.25em;\n",
       "  color: var(--sklearn-color-text);\n",
       "  /* unfitted */\n",
       "  background-color: var(--sklearn-color-unfitted-level-0);\n",
       "}\n",
       "\n",
       "#sk-container-id-2 div.sk-toggleable__content.fitted pre {\n",
       "  /* unfitted */\n",
       "  background-color: var(--sklearn-color-fitted-level-0);\n",
       "}\n",
       "\n",
       "#sk-container-id-2 input.sk-toggleable__control:checked~div.sk-toggleable__content {\n",
       "  /* Expand drop-down */\n",
       "  max-height: 200px;\n",
       "  max-width: 100%;\n",
       "  overflow: auto;\n",
       "}\n",
       "\n",
       "#sk-container-id-2 input.sk-toggleable__control:checked~label.sk-toggleable__label-arrow:before {\n",
       "  content: \"▾\";\n",
       "}\n",
       "\n",
       "/* Pipeline/ColumnTransformer-specific style */\n",
       "\n",
       "#sk-container-id-2 div.sk-label input.sk-toggleable__control:checked~label.sk-toggleable__label {\n",
       "  color: var(--sklearn-color-text);\n",
       "  background-color: var(--sklearn-color-unfitted-level-2);\n",
       "}\n",
       "\n",
       "#sk-container-id-2 div.sk-label.fitted input.sk-toggleable__control:checked~label.sk-toggleable__label {\n",
       "  background-color: var(--sklearn-color-fitted-level-2);\n",
       "}\n",
       "\n",
       "/* Estimator-specific style */\n",
       "\n",
       "/* Colorize estimator box */\n",
       "#sk-container-id-2 div.sk-estimator input.sk-toggleable__control:checked~label.sk-toggleable__label {\n",
       "  /* unfitted */\n",
       "  background-color: var(--sklearn-color-unfitted-level-2);\n",
       "}\n",
       "\n",
       "#sk-container-id-2 div.sk-estimator.fitted input.sk-toggleable__control:checked~label.sk-toggleable__label {\n",
       "  /* fitted */\n",
       "  background-color: var(--sklearn-color-fitted-level-2);\n",
       "}\n",
       "\n",
       "#sk-container-id-2 div.sk-label label.sk-toggleable__label,\n",
       "#sk-container-id-2 div.sk-label label {\n",
       "  /* The background is the default theme color */\n",
       "  color: var(--sklearn-color-text-on-default-background);\n",
       "}\n",
       "\n",
       "/* On hover, darken the color of the background */\n",
       "#sk-container-id-2 div.sk-label:hover label.sk-toggleable__label {\n",
       "  color: var(--sklearn-color-text);\n",
       "  background-color: var(--sklearn-color-unfitted-level-2);\n",
       "}\n",
       "\n",
       "/* Label box, darken color on hover, fitted */\n",
       "#sk-container-id-2 div.sk-label.fitted:hover label.sk-toggleable__label.fitted {\n",
       "  color: var(--sklearn-color-text);\n",
       "  background-color: var(--sklearn-color-fitted-level-2);\n",
       "}\n",
       "\n",
       "/* Estimator label */\n",
       "\n",
       "#sk-container-id-2 div.sk-label label {\n",
       "  font-family: monospace;\n",
       "  font-weight: bold;\n",
       "  display: inline-block;\n",
       "  line-height: 1.2em;\n",
       "}\n",
       "\n",
       "#sk-container-id-2 div.sk-label-container {\n",
       "  text-align: center;\n",
       "}\n",
       "\n",
       "/* Estimator-specific */\n",
       "#sk-container-id-2 div.sk-estimator {\n",
       "  font-family: monospace;\n",
       "  border: 1px dotted var(--sklearn-color-border-box);\n",
       "  border-radius: 0.25em;\n",
       "  box-sizing: border-box;\n",
       "  margin-bottom: 0.5em;\n",
       "  /* unfitted */\n",
       "  background-color: var(--sklearn-color-unfitted-level-0);\n",
       "}\n",
       "\n",
       "#sk-container-id-2 div.sk-estimator.fitted {\n",
       "  /* fitted */\n",
       "  background-color: var(--sklearn-color-fitted-level-0);\n",
       "}\n",
       "\n",
       "/* on hover */\n",
       "#sk-container-id-2 div.sk-estimator:hover {\n",
       "  /* unfitted */\n",
       "  background-color: var(--sklearn-color-unfitted-level-2);\n",
       "}\n",
       "\n",
       "#sk-container-id-2 div.sk-estimator.fitted:hover {\n",
       "  /* fitted */\n",
       "  background-color: var(--sklearn-color-fitted-level-2);\n",
       "}\n",
       "\n",
       "/* Specification for estimator info (e.g. \"i\" and \"?\") */\n",
       "\n",
       "/* Common style for \"i\" and \"?\" */\n",
       "\n",
       ".sk-estimator-doc-link,\n",
       "a:link.sk-estimator-doc-link,\n",
       "a:visited.sk-estimator-doc-link {\n",
       "  float: right;\n",
       "  font-size: smaller;\n",
       "  line-height: 1em;\n",
       "  font-family: monospace;\n",
       "  background-color: var(--sklearn-color-background);\n",
       "  border-radius: 1em;\n",
       "  height: 1em;\n",
       "  width: 1em;\n",
       "  text-decoration: none !important;\n",
       "  margin-left: 0.5em;\n",
       "  text-align: center;\n",
       "  /* unfitted */\n",
       "  border: var(--sklearn-color-unfitted-level-1) 1pt solid;\n",
       "  color: var(--sklearn-color-unfitted-level-1);\n",
       "}\n",
       "\n",
       ".sk-estimator-doc-link.fitted,\n",
       "a:link.sk-estimator-doc-link.fitted,\n",
       "a:visited.sk-estimator-doc-link.fitted {\n",
       "  /* fitted */\n",
       "  border: var(--sklearn-color-fitted-level-1) 1pt solid;\n",
       "  color: var(--sklearn-color-fitted-level-1);\n",
       "}\n",
       "\n",
       "/* On hover */\n",
       "div.sk-estimator:hover .sk-estimator-doc-link:hover,\n",
       ".sk-estimator-doc-link:hover,\n",
       "div.sk-label-container:hover .sk-estimator-doc-link:hover,\n",
       ".sk-estimator-doc-link:hover {\n",
       "  /* unfitted */\n",
       "  background-color: var(--sklearn-color-unfitted-level-3);\n",
       "  color: var(--sklearn-color-background);\n",
       "  text-decoration: none;\n",
       "}\n",
       "\n",
       "div.sk-estimator.fitted:hover .sk-estimator-doc-link.fitted:hover,\n",
       ".sk-estimator-doc-link.fitted:hover,\n",
       "div.sk-label-container:hover .sk-estimator-doc-link.fitted:hover,\n",
       ".sk-estimator-doc-link.fitted:hover {\n",
       "  /* fitted */\n",
       "  background-color: var(--sklearn-color-fitted-level-3);\n",
       "  color: var(--sklearn-color-background);\n",
       "  text-decoration: none;\n",
       "}\n",
       "\n",
       "/* Span, style for the box shown on hovering the info icon */\n",
       ".sk-estimator-doc-link span {\n",
       "  display: none;\n",
       "  z-index: 9999;\n",
       "  position: relative;\n",
       "  font-weight: normal;\n",
       "  right: .2ex;\n",
       "  padding: .5ex;\n",
       "  margin: .5ex;\n",
       "  width: min-content;\n",
       "  min-width: 20ex;\n",
       "  max-width: 50ex;\n",
       "  color: var(--sklearn-color-text);\n",
       "  box-shadow: 2pt 2pt 4pt #999;\n",
       "  /* unfitted */\n",
       "  background: var(--sklearn-color-unfitted-level-0);\n",
       "  border: .5pt solid var(--sklearn-color-unfitted-level-3);\n",
       "}\n",
       "\n",
       ".sk-estimator-doc-link.fitted span {\n",
       "  /* fitted */\n",
       "  background: var(--sklearn-color-fitted-level-0);\n",
       "  border: var(--sklearn-color-fitted-level-3);\n",
       "}\n",
       "\n",
       ".sk-estimator-doc-link:hover span {\n",
       "  display: block;\n",
       "}\n",
       "\n",
       "/* \"?\"-specific style due to the `<a>` HTML tag */\n",
       "\n",
       "#sk-container-id-2 a.estimator_doc_link {\n",
       "  float: right;\n",
       "  font-size: 1rem;\n",
       "  line-height: 1em;\n",
       "  font-family: monospace;\n",
       "  background-color: var(--sklearn-color-background);\n",
       "  border-radius: 1rem;\n",
       "  height: 1rem;\n",
       "  width: 1rem;\n",
       "  text-decoration: none;\n",
       "  /* unfitted */\n",
       "  color: var(--sklearn-color-unfitted-level-1);\n",
       "  border: var(--sklearn-color-unfitted-level-1) 1pt solid;\n",
       "}\n",
       "\n",
       "#sk-container-id-2 a.estimator_doc_link.fitted {\n",
       "  /* fitted */\n",
       "  border: var(--sklearn-color-fitted-level-1) 1pt solid;\n",
       "  color: var(--sklearn-color-fitted-level-1);\n",
       "}\n",
       "\n",
       "/* On hover */\n",
       "#sk-container-id-2 a.estimator_doc_link:hover {\n",
       "  /* unfitted */\n",
       "  background-color: var(--sklearn-color-unfitted-level-3);\n",
       "  color: var(--sklearn-color-background);\n",
       "  text-decoration: none;\n",
       "}\n",
       "\n",
       "#sk-container-id-2 a.estimator_doc_link.fitted:hover {\n",
       "  /* fitted */\n",
       "  background-color: var(--sklearn-color-fitted-level-3);\n",
       "}\n",
       "</style><div id=\"sk-container-id-2\" class=\"sk-top-container\"><div class=\"sk-text-repr-fallback\"><pre>DictVectorizer(dtype=&lt;class &#x27;numpy.int64&#x27;&gt;, sparse=False)</pre><b>In a Jupyter environment, please rerun this cell to show the HTML representation or trust the notebook. <br />On GitHub, the HTML representation is unable to render, please try loading this page with nbviewer.org.</b></div><div class=\"sk-container\" hidden><div class=\"sk-item\"><div class=\"sk-estimator fitted sk-toggleable\"><input class=\"sk-toggleable__control sk-hidden--visually\" id=\"sk-estimator-id-2\" type=\"checkbox\" checked><label for=\"sk-estimator-id-2\" class=\"sk-toggleable__label fitted sk-toggleable__label-arrow\"><div><div>DictVectorizer</div></div><div><a class=\"sk-estimator-doc-link fitted\" rel=\"noreferrer\" target=\"_blank\" href=\"https://scikit-learn.org/1.6/modules/generated/sklearn.feature_extraction.DictVectorizer.html\">?<span>Documentation for DictVectorizer</span></a><span class=\"sk-estimator-doc-link fitted\">i<span>Fitted</span></span></div></label><div class=\"sk-toggleable__content fitted\"><pre>DictVectorizer(dtype=&lt;class &#x27;numpy.int64&#x27;&gt;, sparse=False)</pre></div> </div></div></div></div>"
      ],
      "text/plain": [
       "DictVectorizer(dtype=<class 'numpy.int64'>, sparse=False)"
      ]
     },
     "execution_count": 64,
     "metadata": {},
     "output_type": "execute_result"
    }
   ],
   "source": [
    "dict_vect_caps = DictVectorizer(dtype=np.int64, sparse=False)\n",
    "dict_vect_caps.fit([row for sent in X_train_caps_cat for row in sent])"
   ]
  },
  {
   "cell_type": "code",
   "execution_count": 65,
   "metadata": {},
   "outputs": [],
   "source": [
    "X_caps_train = [dict_vect_caps.transform(sent) for sent in X_train_caps_cat]\n",
    "X_caps_val = [dict_vect_caps.transform(sent) for sent in X_val_caps_cat]\n",
    "X_caps_test = [dict_vect_caps.transform(sent) for sent in X_test_caps_cat]"
   ]
  },
  {
   "cell_type": "code",
   "execution_count": 66,
   "metadata": {},
   "outputs": [
    {
     "data": {
      "text/plain": [
       "(2, 5)"
      ]
     },
     "execution_count": 66,
     "metadata": {},
     "output_type": "execute_result"
    }
   ],
   "source": [
    "X_caps_train[2].shape"
   ]
  },
  {
   "cell_type": "code",
   "execution_count": 67,
   "metadata": {},
   "outputs": [
    {
     "data": {
      "text/plain": [
       "[array([[4, 4, 0, 5, 5]]),\n",
       " array([[4, 4, 0, 3, 2],\n",
       "        [4, 0, 3, 2, 3],\n",
       "        [0, 3, 2, 3, 3],\n",
       "        [3, 2, 3, 3, 3],\n",
       "        [2, 3, 3, 3, 2],\n",
       "        [3, 3, 3, 2, 3],\n",
       "        [3, 3, 2, 3, 3],\n",
       "        [3, 2, 3, 3, 5],\n",
       "        [2, 3, 3, 5, 5]]),\n",
       " array([[4, 4, 2, 2, 5],\n",
       "        [4, 2, 2, 5, 5]]),\n",
       " array([[4, 4, 0, 3, 5],\n",
       "        [4, 0, 3, 5, 5]]),\n",
       " array([[4, 4, 2, 2, 2],\n",
       "        [4, 2, 2, 2, 3],\n",
       "        [2, 2, 2, 3, 3],\n",
       "        [2, 2, 3, 3, 2],\n",
       "        [2, 3, 3, 2, 3],\n",
       "        [3, 3, 2, 3, 3],\n",
       "        [3, 2, 3, 3, 3],\n",
       "        [2, 3, 3, 3, 2],\n",
       "        [3, 3, 3, 2, 3],\n",
       "        [3, 3, 2, 3, 3],\n",
       "        [3, 2, 3, 3, 3],\n",
       "        [2, 3, 3, 3, 3],\n",
       "        [3, 3, 3, 3, 3],\n",
       "        [3, 3, 3, 3, 2],\n",
       "        [3, 3, 3, 2, 3],\n",
       "        [3, 3, 2, 3, 3],\n",
       "        [3, 2, 3, 3, 3],\n",
       "        [2, 3, 3, 3, 3],\n",
       "        [3, 3, 3, 3, 3],\n",
       "        [3, 3, 3, 3, 3],\n",
       "        [3, 3, 3, 3, 3],\n",
       "        [3, 3, 3, 3, 3],\n",
       "        [3, 3, 3, 3, 3],\n",
       "        [3, 3, 3, 3, 3],\n",
       "        [3, 3, 3, 3, 3],\n",
       "        [3, 3, 3, 3, 3],\n",
       "        [3, 3, 3, 3, 3],\n",
       "        [3, 3, 3, 3, 3],\n",
       "        [3, 3, 3, 3, 5],\n",
       "        [3, 3, 3, 5, 5]])]"
      ]
     },
     "execution_count": 67,
     "metadata": {},
     "output_type": "execute_result"
    }
   ],
   "source": [
    "X_caps_train[:5]"
   ]
  },
  {
   "cell_type": "code",
   "execution_count": 68,
   "metadata": {},
   "outputs": [],
   "source": [
    "X_caps_train = [torch.from_numpy(X) for X in X_caps_train]\n",
    "X_caps_val = [torch.from_numpy(X) for X in X_caps_val]\n",
    "X_caps_test = [torch.from_numpy(X) for X in X_caps_test]"
   ]
  },
  {
   "cell_type": "code",
   "execution_count": 69,
   "metadata": {},
   "outputs": [
    {
     "data": {
      "text/plain": [
       "[tensor([[4, 4, 0, 5, 5]]),\n",
       " tensor([[4, 4, 0, 3, 2],\n",
       "         [4, 0, 3, 2, 3],\n",
       "         [0, 3, 2, 3, 3],\n",
       "         [3, 2, 3, 3, 3],\n",
       "         [2, 3, 3, 3, 2],\n",
       "         [3, 3, 3, 2, 3],\n",
       "         [3, 3, 2, 3, 3],\n",
       "         [3, 2, 3, 3, 5],\n",
       "         [2, 3, 3, 5, 5]]),\n",
       " tensor([[4, 4, 2, 2, 5],\n",
       "         [4, 2, 2, 5, 5]])]"
      ]
     },
     "execution_count": 69,
     "metadata": {},
     "output_type": "execute_result"
    }
   ],
   "source": [
    "X_caps_train[:3]"
   ]
  },
  {
   "cell_type": "markdown",
   "metadata": {
    "tags": []
   },
   "source": [
    "### Vectorizing $\\mathbf{y}$"
   ]
  },
  {
   "cell_type": "markdown",
   "metadata": {},
   "source": [
    "We create a torch matrix of size $(M, N)$, where $M$ will be the size of the vocabulary: The unique words in the training set and the words in Senna, and $N$, the dimension of the embeddings.\n",
    "The unknown word symbol will be part of the vocabulary at index 0. \n",
    "\n",
    "We initialize the matrix with random values with the `torch.rand()`"
   ]
  },
  {
   "cell_type": "code",
   "execution_count": 70,
   "metadata": {},
   "outputs": [],
   "source": [
    "# We add two rows for the unknown words at index 0 and padding at index 1\n",
    "embedding_table = (torch.rand(\n",
    "    (len(vocabulary) + 2, EMBEDDING_DIM)) - 0.5)/10  # range: -0.1, 0.1,\n",
    "# embedding_table = torch.rand((len(vocabulary) + 2, EMBEDDING_DIM)) - 0.5\n",
    "# embedding_table = torch.zeros((len(vocabulary) + 2, EMBEDDING_DIM))\n",
    "# embedding_table = torch.randn(\n",
    "#    (len(vocabulary) + 1, EMBEDDING_DIM))#/10"
   ]
  },
  {
   "cell_type": "code",
   "execution_count": 71,
   "metadata": {},
   "outputs": [
    {
     "data": {
      "text/plain": [
       "torch.Size([136492, 50])"
      ]
     },
     "execution_count": 71,
     "metadata": {},
     "output_type": "execute_result"
    }
   ],
   "source": [
    "embedding_table.size()"
   ]
  },
  {
   "cell_type": "markdown",
   "metadata": {},
   "source": [
    "We fill the matrix with the Senna embeddings when available. This means: We replace the random vector with an embedding when available. We will use the indices from the previous section. We call `out_of_embeddings` the list of words in CoNLL, but not in the embedding list."
   ]
  },
  {
   "cell_type": "code",
   "execution_count": 72,
   "metadata": {},
   "outputs": [],
   "source": [
    "out_of_embeddings = []\n",
    "for word in vocabulary:\n",
    "    if word in embeddings_dict:\n",
    "        # If the words are in the embeddings, we fill them with a value\n",
    "        embedding_table[word2idx[word]] = embeddings_dict[word]\n",
    "    else:\n",
    "        # Otherwise, it keeps a random value in the matrix\n",
    "        # We store the out of vocabulary words\n",
    "        out_of_embeddings += [word]"
   ]
  },
  {
   "cell_type": "code",
   "execution_count": 73,
   "metadata": {},
   "outputs": [
    {
     "data": {
      "text/plain": [
       "6490"
      ]
     },
     "execution_count": 73,
     "metadata": {},
     "output_type": "execute_result"
    }
   ],
   "source": [
    "len(out_of_embeddings)"
   ]
  },
  {
   "cell_type": "code",
   "execution_count": 74,
   "metadata": {},
   "outputs": [
    {
     "data": {
      "text/plain": [
       "['483',\n",
       " '11,046,000',\n",
       " '630.000',\n",
       " 'puertollano',\n",
       " '4-28',\n",
       " 'kafkas',\n",
       " 'outmaneuvering',\n",
       " '3,300',\n",
       " 'ruci',\n",
       " '5-365']"
      ]
     },
     "execution_count": 74,
     "metadata": {},
     "output_type": "execute_result"
    }
   ],
   "source": [
    "out_of_embeddings[-10:]"
   ]
  },
  {
   "cell_type": "markdown",
   "metadata": {},
   "source": [
    "Embeddings of the unknown symbol, idx 0, random numbers"
   ]
  },
  {
   "cell_type": "code",
   "execution_count": 75,
   "metadata": {},
   "outputs": [
    {
     "data": {
      "text/plain": [
       "tensor([-0.0471, -0.0098, -0.0240, -0.0133, -0.0442,  0.0201, -0.0448, -0.0032,\n",
       "         0.0174, -0.0169])"
      ]
     },
     "execution_count": 75,
     "metadata": {},
     "output_type": "execute_result"
    }
   ],
   "source": [
    "embedding_table[0][:10]"
   ]
  },
  {
   "cell_type": "markdown",
   "metadata": {},
   "source": [
    "Embeddings of the word _table_, the Senna values"
   ]
  },
  {
   "cell_type": "code",
   "execution_count": 76,
   "metadata": {},
   "outputs": [
    {
     "data": {
      "text/plain": [
       "tensor([ 0.9408,  2.3745,  0.6668,  0.3591,  0.4177,  0.9110,  0.6482, -0.5022,\n",
       "         0.8337,  0.5341])"
      ]
     },
     "execution_count": 76,
     "metadata": {},
     "output_type": "execute_result"
    }
   ],
   "source": [
    "embedding_table[word2idx['table']][:10]"
   ]
  },
  {
   "cell_type": "markdown",
   "metadata": {},
   "source": [
    "Embeddings of _extrcurricular_, a word in CoNLL, but not in Senna, random numbers"
   ]
  },
  {
   "cell_type": "code",
   "execution_count": 77,
   "metadata": {},
   "outputs": [
    {
     "name": "stdout",
     "output_type": "stream",
     "text": [
      "tensor([ 0.0456, -0.0119, -0.0084, -0.0348, -0.0076, -0.0241,  0.0141, -0.0244,\n",
      "        -0.0466,  0.0314])\n"
     ]
    }
   ],
   "source": [
    "if USE_EMBEDDINGS == 2:\n",
    "    if CORPUS == 'EWT':\n",
    "        print(embedding_table[word2idx['extrcurricular']][:10])\n",
    "    elif CORPUS == 'CONLL2003':\n",
    "        print(embedding_table[word2idx['idalecio']][:10])"
   ]
  },
  {
   "cell_type": "markdown",
   "metadata": {},
   "source": [
    "The POS and the number of different POS"
   ]
  },
  {
   "cell_type": "code",
   "execution_count": 78,
   "metadata": {},
   "outputs": [
    {
     "data": {
      "text/plain": [
       "['B-LOC',\n",
       " 'B-MISC',\n",
       " 'B-ORG',\n",
       " 'B-PER',\n",
       " 'E-LOC',\n",
       " 'E-MISC',\n",
       " 'E-ORG',\n",
       " 'E-PER',\n",
       " 'I-LOC',\n",
       " 'I-MISC',\n",
       " 'I-ORG',\n",
       " 'I-PER',\n",
       " 'O',\n",
       " 'S-LOC',\n",
       " 'S-MISC',\n",
       " 'S-ORG',\n",
       " 'S-PER']"
      ]
     },
     "execution_count": 78,
     "metadata": {},
     "output_type": "execute_result"
    }
   ],
   "source": [
    "pos_tagset = sorted(set([y for sent in y_train_cat for y in sent]))\n",
    "pos_tagset"
   ]
  },
  {
   "cell_type": "markdown",
   "metadata": {},
   "source": [
    "We build a part-of-speech index."
   ]
  },
  {
   "cell_type": "code",
   "execution_count": 79,
   "metadata": {},
   "outputs": [
    {
     "name": "stdout",
     "output_type": "stream",
     "text": [
      "{1: 'B-LOC', 2: 'B-MISC', 3: 'B-ORG', 4: 'B-PER', 5: 'E-LOC', 6: 'E-MISC', 7: 'E-ORG', 8: 'E-PER', 9: 'I-LOC', 10: 'I-MISC', 11: 'I-ORG', 12: 'I-PER', 13: 'O', 14: 'S-LOC', 15: 'S-MISC', 16: 'S-ORG', 17: 'S-PER', 0: 'PAD'}\n"
     ]
    },
    {
     "data": {
      "text/plain": [
       "{'B-LOC': 1,\n",
       " 'B-MISC': 2,\n",
       " 'B-ORG': 3,\n",
       " 'B-PER': 4,\n",
       " 'E-LOC': 5,\n",
       " 'E-MISC': 6,\n",
       " 'E-ORG': 7,\n",
       " 'E-PER': 8,\n",
       " 'I-LOC': 9,\n",
       " 'I-MISC': 10,\n",
       " 'I-ORG': 11,\n",
       " 'I-PER': 12,\n",
       " 'O': 13,\n",
       " 'S-LOC': 14,\n",
       " 'S-MISC': 15,\n",
       " 'S-ORG': 16,\n",
       " 'S-PER': 17,\n",
       " 'PAD': 0}"
      ]
     },
     "execution_count": 79,
     "metadata": {},
     "output_type": "execute_result"
    }
   ],
   "source": [
    "idx2pos = dict(enumerate(pos_tagset, start=1))  # pad: 0\n",
    "idx2pos[0] = 'PAD'\n",
    "pos2idx = {v: k for k, v in idx2pos.items()}\n",
    "print(idx2pos)\n",
    "pos2idx"
   ]
  },
  {
   "cell_type": "markdown",
   "metadata": {},
   "source": [
    "We encode $\\mathbf{y}$."
   ]
  },
  {
   "cell_type": "code",
   "execution_count": 80,
   "metadata": {},
   "outputs": [
    {
     "data": {
      "text/plain": [
       "(['O'],\n",
       " ['S-ORG', 'O', 'S-MISC', 'O', 'O', 'O', 'S-MISC', 'O', 'O'],\n",
       " ['B-PER', 'E-PER'])"
      ]
     },
     "execution_count": 80,
     "metadata": {},
     "output_type": "execute_result"
    }
   ],
   "source": [
    "y_train_cat[:3]"
   ]
  },
  {
   "cell_type": "code",
   "execution_count": 81,
   "metadata": {},
   "outputs": [],
   "source": [
    "y_train = []\n",
    "for sent in y_train_cat:\n",
    "    y_train += [torch.LongTensor([pos2idx[i] for i in sent])]\n",
    "y_val = []\n",
    "for sent in y_val_cat:\n",
    "    y_val += [torch.LongTensor([pos2idx.get(i, 0) for i in sent])]\n",
    "y_test = []\n",
    "for sent in y_test_cat:\n",
    "    y_test += [torch.LongTensor([pos2idx.get(i, 0) for i in sent])]"
   ]
  },
  {
   "cell_type": "code",
   "execution_count": 82,
   "metadata": {},
   "outputs": [
    {
     "data": {
      "text/plain": [
       "[tensor([13]), tensor([16, 13, 15, 13, 13, 13, 15, 13, 13]), tensor([4, 8])]"
      ]
     },
     "execution_count": 82,
     "metadata": {},
     "output_type": "execute_result"
    }
   ],
   "source": [
    "y_train[:3]"
   ]
  },
  {
   "cell_type": "code",
   "execution_count": 83,
   "metadata": {},
   "outputs": [
    {
     "data": {
      "text/plain": [
       "(['O'],\n",
       " ['S-ORG', 'O', 'S-MISC', 'O', 'O', 'O', 'S-MISC', 'O', 'O'],\n",
       " ['B-PER', 'E-PER'])"
      ]
     },
     "execution_count": 83,
     "metadata": {},
     "output_type": "execute_result"
    }
   ],
   "source": [
    "y_train_cat[:3]"
   ]
  },
  {
   "cell_type": "code",
   "execution_count": 84,
   "metadata": {},
   "outputs": [
    {
     "data": {
      "text/plain": [
       "[tensor([13, 13, 13,  3, 11, 11,  7, 13]),\n",
       " tensor([14, 13, 13, 13, 13, 13, 13, 13, 14, 13, 14, 13, 13, 13, 13]),\n",
       " tensor([13]),\n",
       " tensor([14, 13, 13, 13, 13, 13, 13, 14, 13]),\n",
       " tensor([4, 8])]"
      ]
     },
     "execution_count": 84,
     "metadata": {},
     "output_type": "execute_result"
    }
   ],
   "source": [
    "y_train[100:105]"
   ]
  },
  {
   "cell_type": "code",
   "execution_count": 85,
   "metadata": {},
   "outputs": [
    {
     "data": {
      "text/plain": [
       "(136492, 18, 6)"
      ]
     },
     "execution_count": 85,
     "metadata": {},
     "output_type": "execute_result"
    }
   ],
   "source": [
    "vocab_size = len(vocabulary) + 2  # unk and pad\n",
    "tagset_size = len(pos_tagset) + 1  # pad\n",
    "capset_size = len(capset)\n",
    "vocab_size, tagset_size, capset_size"
   ]
  },
  {
   "cell_type": "markdown",
   "metadata": {},
   "source": [
    "## The Tagger"
   ]
  },
  {
   "cell_type": "code",
   "execution_count": 86,
   "metadata": {},
   "outputs": [],
   "source": [
    "class Tagger():\n",
    "    def __init__(self,\n",
    "                 model,\n",
    "                 word2idx,\n",
    "                 cap2idx,\n",
    "                 idx2pos,\n",
    "                 dict_vect_words,\n",
    "                 dict_vect_caps,\n",
    "                 ppos_key='PTAG',\n",
    "                 lc=True):\n",
    "        super().__init__()\n",
    "        self.model = model\n",
    "        self.word2idx = word2idx\n",
    "        self.cap2idx = cap2idx\n",
    "        self.idx2pos = idx2pos\n",
    "        self.dict_vect_words = dict_vect_words\n",
    "        self.dict_vect_caps = dict_vect_caps\n",
    "        self.ppos_key = ppos_key\n",
    "        self.lc = lc\n",
    "\n",
    "    def sent2dict(self, sentence: str):\n",
    "        sent_dict = [{'ID': x, 'FORM': y} for (x, y) in\n",
    "                     enumerate(sentence.split(), start=1)]\n",
    "        for row in sent_dict:\n",
    "            self.add_case_info(row)\n",
    "        return sent_dict\n",
    "\n",
    "    def add_case_info(self, row: dict):\n",
    "        if (any(char.isupper() for char in row['FORM']) and\n",
    "                not any(char.islower() for char in row['FORM'])):\n",
    "            row['CAPS'] = 'ALL_CAPS'\n",
    "        elif row['FORM'][0].isupper():\n",
    "            row['CAPS'] = 'INIT_CAP'\n",
    "        elif any(char.isupper() for char in row['FORM']):\n",
    "            row['CAPS'] = 'HAS_CAP'\n",
    "        else:\n",
    "            row['CAPS'] = 'NO_CAPS'\n",
    "\n",
    "    def predict(self, sentence: list[dict]) -> list[dict]:\n",
    "        self.model.eval()\n",
    "        sent_words, _ = extract_cols(sentence)\n",
    "        if self.lc:\n",
    "            sent_words = list(map(str.lower, sent_words))\n",
    "        X_cat = create_X_cat(sent_words)\n",
    "        for x_cat in X_cat:\n",
    "            for word in x_cat:\n",
    "                x_cat[word] = self.word2idx.get(x_cat[word].lower(), UNK_IDX)\n",
    "        X = self.dict_vect_words.transform(X_cat)\n",
    "\n",
    "        sent_caps, _ = extract_cols(sentence, x='CAPS')\n",
    "        X_caps_cat = create_X_cat(sent_caps)\n",
    "        for x_cat in X_caps_cat:\n",
    "            for word in x_cat:\n",
    "                x_cat[word] = self.cap2idx.get(x_cat[word])\n",
    "        X_caps = self.dict_vect_caps.transform(X_caps_cat)\n",
    "\n",
    "        X = torch.from_numpy(X)\n",
    "        X_caps = torch.from_numpy(X_caps)\n",
    "        X = torch.cat((X, X_caps), dim=-1)\n",
    "        y_pred_vec = self.model(X.long().unsqueeze(dim=0))\n",
    "        # We add the predictions in the PTAG column\n",
    "        # We need to remove the batch dimension\n",
    "        for row, y_pred in zip(sentence, y_pred_vec[0]):\n",
    "            row[self.ppos_key] = idx2pos[y_pred]\n",
    "        return sentence\n",
    "\n",
    "    def predict_sentences(self, sent_dicts: list[list[dict]]) -> list[list[dict]]:\n",
    "        pred_sents = []\n",
    "        for sentence in sent_dicts:\n",
    "            pred_sents += [self.predict(sentence)]\n",
    "        return pred_sents"
   ]
  },
  {
   "cell_type": "code",
   "execution_count": 87,
   "metadata": {},
   "outputs": [],
   "source": [
    "class CoNLLScorer():\n",
    "    def __init__(self, column_names: list,\n",
    "                 true_tag='UPOS',\n",
    "                 pred_tag='PTAG'):\n",
    "        super().__init__()\n",
    "        self.true_tag = true_tag\n",
    "        self.pred_tag = pred_tag\n",
    "        self.column_names = column_names + [pred_tag]\n",
    "\n",
    "    def format_corpus(self, corpus_dict: list[list[dict]]) -> str:\n",
    "        self.tagged_corpus = ''\n",
    "        for sentence in corpus_dict:\n",
    "            sentence_lst = []\n",
    "            for row in sentence:\n",
    "                items = map(lambda x: str(row.get(x, '_')), self.column_names)\n",
    "                sentence_lst += ' '.join(items) + '\\n'\n",
    "            sentence_lst += '\\n'\n",
    "            self.tagged_corpus += ''.join(sentence_lst)\n",
    "        return self.tagged_corpus\n",
    "\n",
    "    def conll_score(self, corpus_dict: list[list[dict]]) -> float:\n",
    "        lines = self.format_corpus(corpus_dict).splitlines()\n",
    "        res = conlleval.evaluate(lines)\n",
    "        chunker_score = res['overall']['chunks']['evals']['f1']\n",
    "        return chunker_score\n",
    "\n",
    "    def accuracy(self, corpus_dict: list[list[dict]]) -> float:\n",
    "        cnt = cnt_correct = 0\n",
    "        for dict in corpus_dict:\n",
    "            for row in dict:\n",
    "                cnt += 1\n",
    "                if row[self.true_tag] == row[self.pred_tag]:\n",
    "                    cnt_correct += 1\n",
    "        return cnt_correct/cnt"
   ]
  },
  {
   "cell_type": "markdown",
   "metadata": {
    "tags": []
   },
   "source": [
    "## The Model"
   ]
  },
  {
   "cell_type": "code",
   "execution_count": 88,
   "metadata": {},
   "outputs": [],
   "source": [
    "class CRF(nn.Module):\n",
    "    def __init__(self, tagset_size):\n",
    "        super(CRF, self).__init__()\n",
    "        self.tagset_size = tagset_size\n",
    "        self.start_transitions = nn.Parameter(torch.empty(tagset_size))\n",
    "        self.end_transitions = nn.Parameter(torch.empty(tagset_size))\n",
    "        self.transitions = nn.Parameter(torch.empty(tagset_size, tagset_size))\n",
    "\n",
    "        nn.init.uniform_(self.start_transitions, -0.1, 0.1)\n",
    "        nn.init.uniform_(self.end_transitions, -0.1, 0.1)\n",
    "        nn.init.uniform_(self.transitions, -0.1, 0.1)\n",
    "\n",
    "    def _compute_deltas_standard(self, logits):\n",
    "        delta = (self.start_transitions + logits[0]).unsqueeze(dim=0)\n",
    "        for logit in logits[1:]:\n",
    "            delta = torch.logsumexp(\n",
    "                delta.T + self.transitions + logit,\n",
    "                dim=0).unsqueeze(dim=0)\n",
    "        delta = delta + self.end_transitions\n",
    "        return torch.logsumexp(delta, dim=1).squeeze()\n",
    "\n",
    "    def _compute_deltas_senna(self, logits):\n",
    "        delta = (self.start_transitions + logits[0]).unsqueeze(dim=0)\n",
    "        for logit in logits[1:]:\n",
    "            logadd = torch.logsumexp(\n",
    "                delta.T + self.transitions,\n",
    "                dim=0).unsqueeze(dim=0)\n",
    "            delta = logadd + logit\n",
    "        delta += self.end_transitions\n",
    "        return torch.logsumexp(delta, dim=1).squeeze()\n",
    "\n",
    "    def _compute_sentence_score(self, logits, tags):\n",
    "        correct_path_score = self.start_transitions[tags[0]\n",
    "                                                    ] + logits[0][tags[0]]\n",
    "        for i, logit in enumerate(logits[1:]):\n",
    "            correct_path_score += self.transitions[tags[i],\n",
    "                                                   tags[i + 1]] + logit[tags[i + 1]]\n",
    "        correct_path_score += self.end_transitions[tags[-1]]\n",
    "        return correct_path_score\n",
    "\n",
    "    def _viterbi_decode(self, logits):\n",
    "        backpointers = []\n",
    "        max_llhoods = self.start_transitions + logits[0]\n",
    "\n",
    "        for logit in logits[1:]:\n",
    "            backpointers_t = []\n",
    "            max_llhoods_t = []\n",
    "            for next_tag in range(self.tagset_size):\n",
    "                llhoods = max_llhoods + self.transitions[:, next_tag]\n",
    "                best_tag_id = torch.argmax(llhoods).item()\n",
    "                backpointers_t += [best_tag_id]\n",
    "                max_llhoods_t += [llhoods[best_tag_id]]\n",
    "            max_llhoods = (torch.tensor(max_llhoods_t) + logit)\n",
    "            backpointers += [backpointers_t]\n",
    "\n",
    "        max_llhoods += self.end_transitions\n",
    "        best_tag_id = torch.argmax(max_llhoods).item()\n",
    "        path_score = max_llhoods[best_tag_id]\n",
    "\n",
    "        best_path = [best_tag_id]\n",
    "        for backpointers_t in backpointers[::-1]:\n",
    "            best_tag_id = backpointers_t[best_tag_id]\n",
    "            best_path += [best_tag_id]\n",
    "        return path_score, best_path[::-1]\n",
    "\n",
    "    def forward(self, logits, targets=None):\n",
    "        if targets is not None:\n",
    "            sent_score = self._compute_sentence_score(logits, targets)\n",
    "            if SENNA_DELTAS:\n",
    "                normalizing_score = self._compute_deltas_senna(logits)\n",
    "            else:\n",
    "                normalizing_score = self._compute_deltas_standard(logits)\n",
    "            return sent_score - normalizing_score\n",
    "        else:\n",
    "            return self._viterbi_decode(logits)"
   ]
  },
  {
   "cell_type": "code",
   "execution_count": 89,
   "metadata": {},
   "outputs": [],
   "source": [
    "class Model(nn.Module):\n",
    "    def __init__(self):\n",
    "        super().__init__()\n",
    "        self.d_win = 2 * D_WIN + 1  # Note that typically D_WIN = 2 and d_win = 5\n",
    "        self.word_embs = nn.Embedding.from_pretrained(\n",
    "            embedding_table, freeze=False)\n",
    "        #  self.word_embs = nn.Embedding(vocab_size, EMBEDDING_DIM)\n",
    "        self.cap_embs = nn.Embedding(\n",
    "            capset_size, CAPS_EMBEDDING_DIM)\n",
    "        self.flatten = nn.Flatten(start_dim=2)\n",
    "        self.fc1 = nn.Linear(\n",
    "            self.d_win * (EMBEDDING_DIM + CAPS_EMBEDDING_DIM), N_HU_1)\n",
    "        self.hardth = nn.Hardtanh()\n",
    "        self.relu = nn.ReLU()\n",
    "        self.fc2 = nn.Linear(N_HU_1,\n",
    "                             tagset_size)\n",
    "        self.crf = CRF(tagset_size)\n",
    "\n",
    "    def _get_nn_logits(self, x):\n",
    "        word_vects = self.word_embs(x[:, :, :self.d_win])\n",
    "        cap_vects = self.cap_embs(x[:, :, self.d_win:])\n",
    "        x = torch.cat((word_vects, cap_vects), dim=-1)\n",
    "        x = self.flatten(x)\n",
    "        x = self.fc1(x)\n",
    "        #  x = self.hardth(x)\n",
    "        x = self.relu(x)\n",
    "        x = self.fc2(x)\n",
    "        return x\n",
    "\n",
    "    def forward(self, sentence, tags=None, mask=None):\n",
    "        nn_logits = self._get_nn_logits(sentence)\n",
    "        if tags is not None:\n",
    "            # Ajustement : retourne la perte\n",
    "            return -self.crf(nn_logits.squeeze(dim=0), tags.squeeze(dim=0))\n",
    "        else:\n",
    "            # Inférence : retourne la meilleure séquence\n",
    "            return [self.crf(nn_logits.squeeze(dim=0))[1]]"
   ]
  },
  {
   "cell_type": "code",
   "execution_count": 90,
   "metadata": {},
   "outputs": [],
   "source": [
    "model = Model()"
   ]
  },
  {
   "cell_type": "code",
   "execution_count": 91,
   "metadata": {},
   "outputs": [],
   "source": [
    "tagger = Tagger(model,\n",
    "                word2idx,\n",
    "                cap2idx,\n",
    "                idx2pos,\n",
    "                dict_vect_words,\n",
    "                dict_vect_caps)"
   ]
  },
  {
   "cell_type": "markdown",
   "metadata": {},
   "source": [
    "Tagging with a random initialization"
   ]
  },
  {
   "cell_type": "code",
   "execution_count": 92,
   "metadata": {},
   "outputs": [
    {
     "data": {
      "text/plain": [
       "[{'ID': 1, 'FORM': 'That', 'CAPS': 'INIT_CAP'},\n",
       " {'ID': 2, 'FORM': 'round', 'CAPS': 'NO_CAPS'},\n",
       " {'ID': 3, 'FORM': 'table', 'CAPS': 'NO_CAPS'},\n",
       " {'ID': 4, 'FORM': 'in', 'CAPS': 'NO_CAPS'},\n",
       " {'ID': 5, 'FORM': 'Wall', 'CAPS': 'INIT_CAP'},\n",
       " {'ID': 6, 'FORM': 'Street', 'CAPS': 'INIT_CAP'}]"
      ]
     },
     "execution_count": 92,
     "metadata": {},
     "output_type": "execute_result"
    }
   ],
   "source": [
    "sd = tagger.sent2dict(\"That round table in Wall Street\")\n",
    "sd"
   ]
  },
  {
   "cell_type": "code",
   "execution_count": 93,
   "metadata": {},
   "outputs": [
    {
     "data": {
      "text/plain": [
       "[{'ID': 1, 'FORM': 'That', 'CAPS': 'INIT_CAP', 'PTAG': 'PAD'},\n",
       " {'ID': 2, 'FORM': 'round', 'CAPS': 'NO_CAPS', 'PTAG': 'B-ORG'},\n",
       " {'ID': 3, 'FORM': 'table', 'CAPS': 'NO_CAPS', 'PTAG': 'I-ORG'},\n",
       " {'ID': 4, 'FORM': 'in', 'CAPS': 'NO_CAPS', 'PTAG': 'I-MISC'},\n",
       " {'ID': 5, 'FORM': 'Wall', 'CAPS': 'INIT_CAP', 'PTAG': 'I-MISC'},\n",
       " {'ID': 6, 'FORM': 'Street', 'CAPS': 'INIT_CAP', 'PTAG': 'E-ORG'}]"
      ]
     },
     "execution_count": 93,
     "metadata": {},
     "output_type": "execute_result"
    }
   ],
   "source": [
    "tagger.predict(sd)"
   ]
  },
  {
   "cell_type": "code",
   "execution_count": 94,
   "metadata": {},
   "outputs": [
    {
     "data": {
      "text/plain": [
       "['FORM', 'PPOS', 'PCHUNK', 'NER']"
      ]
     },
     "execution_count": 94,
     "metadata": {},
     "output_type": "execute_result"
    }
   ],
   "source": [
    "column_names"
   ]
  },
  {
   "cell_type": "code",
   "execution_count": 95,
   "metadata": {},
   "outputs": [],
   "source": [
    "if CORPUS in ['CONLL2000', 'CONLL2003']:\n",
    "    scorer = CoNLLScorer(column_names, true_tag='NER')\n",
    "elif CORPUS == 'EWT':\n",
    "    scorer = CoNLLScorer(column_names, true_tag='UPOS')"
   ]
  },
  {
   "cell_type": "code",
   "execution_count": 96,
   "metadata": {},
   "outputs": [
    {
     "data": {
      "text/plain": [
       "[{'ID': 1, 'FORM': 'That', 'CAPS': 'INIT_CAP', 'PTAG': 'PAD'},\n",
       " {'ID': 2, 'FORM': 'round', 'CAPS': 'NO_CAPS', 'PTAG': 'B-ORG'},\n",
       " {'ID': 3, 'FORM': 'table', 'CAPS': 'NO_CAPS', 'PTAG': 'I-ORG'},\n",
       " {'ID': 4, 'FORM': 'in', 'CAPS': 'NO_CAPS', 'PTAG': 'I-MISC'},\n",
       " {'ID': 5, 'FORM': 'Wall', 'CAPS': 'INIT_CAP', 'PTAG': 'I-MISC'},\n",
       " {'ID': 6, 'FORM': 'Street', 'CAPS': 'INIT_CAP', 'PTAG': 'E-ORG'}]"
      ]
     },
     "execution_count": 96,
     "metadata": {},
     "output_type": "execute_result"
    }
   ],
   "source": [
    "sd"
   ]
  },
  {
   "cell_type": "code",
   "execution_count": 97,
   "metadata": {},
   "outputs": [
    {
     "name": "stdout",
     "output_type": "stream",
     "text": [
      "That _ _ _ PAD\n",
      "round _ _ _ B-ORG\n",
      "table _ _ _ I-ORG\n",
      "in _ _ _ I-MISC\n",
      "Wall _ _ _ I-MISC\n",
      "Street _ _ _ E-ORG\n",
      "\n",
      "\n"
     ]
    }
   ],
   "source": [
    "print(scorer.format_corpus([sd]))"
   ]
  },
  {
   "cell_type": "markdown",
   "metadata": {},
   "source": [
    "## Training the Model"
   ]
  },
  {
   "cell_type": "code",
   "execution_count": 98,
   "metadata": {},
   "outputs": [],
   "source": [
    "optimizer = torch.optim.Adagrad(model.parameters(), lr=0.01)\n",
    "# optimizer = torch.optim.Adam(model.parameters(), lr=0.001)\n",
    "# optimizer = torch.optim.SGD(model.parameters(), lr=LR)"
   ]
  },
  {
   "cell_type": "code",
   "execution_count": 99,
   "metadata": {},
   "outputs": [
    {
     "data": {
      "text/plain": [
       "([tensor([[6168, 6168,  793, 6169, 6169]]),\n",
       "  tensor([[  6168,   6168,  43539, 102381,  51127],\n",
       "          [  6168,  43539, 102381,  51127,  23294],\n",
       "          [ 43539, 102381,  51127,  23294, 123348],\n",
       "          [102381,  51127,  23294, 123348,  20585],\n",
       "          [ 51127,  23294, 123348,  20585,  21362],\n",
       "          [ 23294, 123348,  20585,  21362,  70048],\n",
       "          [123348,  20585,  21362,  70048,    794],\n",
       "          [ 20585,  21362,  70048,    794,   6169],\n",
       "          [ 21362,  70048,    794,   6169,   6169]])],\n",
       " [tensor([[4, 4, 0, 5, 5]]),\n",
       "  tensor([[4, 4, 0, 3, 2],\n",
       "          [4, 0, 3, 2, 3],\n",
       "          [0, 3, 2, 3, 3],\n",
       "          [3, 2, 3, 3, 3],\n",
       "          [2, 3, 3, 3, 2],\n",
       "          [3, 3, 3, 2, 3],\n",
       "          [3, 3, 2, 3, 3],\n",
       "          [3, 2, 3, 3, 5],\n",
       "          [2, 3, 3, 5, 5]])])"
      ]
     },
     "execution_count": 99,
     "metadata": {},
     "output_type": "execute_result"
    }
   ],
   "source": [
    "X_train[:2], X_caps_train[:2]"
   ]
  },
  {
   "cell_type": "code",
   "execution_count": 100,
   "metadata": {},
   "outputs": [],
   "source": [
    "X_train = [torch.cat((x, x_c), dim=-1)\n",
    "           for x, x_c in zip(X_train, X_caps_train)]\n",
    "X_val = [torch.cat((x, x_c), dim=-1)\n",
    "         for x, x_c in zip(X_val, X_caps_val)]\n",
    "X_test = [torch.cat((x, x_c), dim=-1)\n",
    "          for x, x_c in zip(X_test, X_caps_test)]"
   ]
  },
  {
   "cell_type": "code",
   "execution_count": 101,
   "metadata": {},
   "outputs": [
    {
     "data": {
      "text/plain": [
       "[tensor([13]), tensor([16, 13, 15, 13, 13, 13, 15, 13, 13]), tensor([4, 8])]"
      ]
     },
     "execution_count": 101,
     "metadata": {},
     "output_type": "execute_result"
    }
   ],
   "source": [
    "y_train[:3]"
   ]
  },
  {
   "cell_type": "code",
   "execution_count": 102,
   "metadata": {},
   "outputs": [
    {
     "data": {
      "text/plain": [
       "tensor(25.7243, grad_fn=<NegBackward0>)"
      ]
     },
     "execution_count": 102,
     "metadata": {},
     "output_type": "execute_result"
    }
   ],
   "source": [
    "model(X_train[1].unsqueeze(dim=0), y_train[1].unsqueeze(dim=0))"
   ]
  },
  {
   "cell_type": "code",
   "execution_count": 103,
   "metadata": {},
   "outputs": [
    {
     "data": {
      "text/plain": [
       "tensor([[[6168, 6168,  793, 6169, 6169,    4,    4,    0,    5,    5]]])"
      ]
     },
     "execution_count": 103,
     "metadata": {},
     "output_type": "execute_result"
    }
   ],
   "source": [
    "X_train[0].unsqueeze(dim=0)"
   ]
  },
  {
   "cell_type": "code",
   "execution_count": 104,
   "metadata": {},
   "outputs": [
    {
     "data": {
      "text/plain": [
       "[[14, 14, 10, 3, 11, 14, 13, 0, 14]]"
      ]
     },
     "execution_count": 104,
     "metadata": {},
     "output_type": "execute_result"
    }
   ],
   "source": [
    "model(X_train[1].unsqueeze(dim=0))"
   ]
  },
  {
   "cell_type": "code",
   "execution_count": 105,
   "metadata": {},
   "outputs": [
    {
     "data": {
      "text/plain": [
       "[[{'FORM': '-DOCSTART-',\n",
       "   'PPOS': '-X-',\n",
       "   'PCHUNK': '-X-',\n",
       "   'NER': 'O',\n",
       "   'CAPS': 'ALL_CAPS',\n",
       "   'PTAG': 'E-ORG'}],\n",
       " [{'FORM': 'SOCCER',\n",
       "   'PPOS': 'NN',\n",
       "   'PCHUNK': 'B-NP',\n",
       "   'NER': 'O',\n",
       "   'CAPS': 'ALL_CAPS',\n",
       "   'PTAG': 'I-LOC'},\n",
       "  {'FORM': '-',\n",
       "   'PPOS': ':',\n",
       "   'PCHUNK': 'O',\n",
       "   'NER': 'O',\n",
       "   'CAPS': 'NO_CAPS',\n",
       "   'PTAG': 'PAD'},\n",
       "  {'FORM': 'JAPAN',\n",
       "   'PPOS': 'NNP',\n",
       "   'PCHUNK': 'B-NP',\n",
       "   'NER': 'S-LOC',\n",
       "   'CAPS': 'ALL_CAPS',\n",
       "   'PTAG': 'I-LOC'},\n",
       "  {'FORM': 'GET',\n",
       "   'PPOS': 'VB',\n",
       "   'PCHUNK': 'B-VP',\n",
       "   'NER': 'O',\n",
       "   'CAPS': 'ALL_CAPS',\n",
       "   'PTAG': 'I-ORG'},\n",
       "  {'FORM': 'LUCKY',\n",
       "   'PPOS': 'NNP',\n",
       "   'PCHUNK': 'B-NP',\n",
       "   'NER': 'O',\n",
       "   'CAPS': 'ALL_CAPS',\n",
       "   'PTAG': 'PAD'},\n",
       "  {'FORM': 'WIN',\n",
       "   'PPOS': 'NNP',\n",
       "   'PCHUNK': 'I-NP',\n",
       "   'NER': 'O',\n",
       "   'CAPS': 'ALL_CAPS',\n",
       "   'PTAG': 'O'},\n",
       "  {'FORM': ',',\n",
       "   'PPOS': ',',\n",
       "   'PCHUNK': 'O',\n",
       "   'NER': 'O',\n",
       "   'CAPS': 'NO_CAPS',\n",
       "   'PTAG': 'O'},\n",
       "  {'FORM': 'CHINA',\n",
       "   'PPOS': 'NNP',\n",
       "   'PCHUNK': 'B-NP',\n",
       "   'NER': 'S-PER',\n",
       "   'CAPS': 'ALL_CAPS',\n",
       "   'PTAG': 'O'},\n",
       "  {'FORM': 'IN',\n",
       "   'PPOS': 'IN',\n",
       "   'PCHUNK': 'B-PP',\n",
       "   'NER': 'O',\n",
       "   'CAPS': 'ALL_CAPS',\n",
       "   'PTAG': 'PAD'},\n",
       "  {'FORM': 'SURPRISE',\n",
       "   'PPOS': 'DT',\n",
       "   'PCHUNK': 'B-NP',\n",
       "   'NER': 'O',\n",
       "   'CAPS': 'ALL_CAPS',\n",
       "   'PTAG': 'E-LOC'},\n",
       "  {'FORM': 'DEFEAT',\n",
       "   'PPOS': 'NN',\n",
       "   'PCHUNK': 'I-NP',\n",
       "   'NER': 'O',\n",
       "   'CAPS': 'ALL_CAPS',\n",
       "   'PTAG': 'PAD'},\n",
       "  {'FORM': '.',\n",
       "   'PPOS': '.',\n",
       "   'PCHUNK': 'O',\n",
       "   'NER': 'O',\n",
       "   'CAPS': 'NO_CAPS',\n",
       "   'PTAG': 'B-ORG'}]]"
      ]
     },
     "execution_count": 105,
     "metadata": {},
     "output_type": "execute_result"
    }
   ],
   "source": [
    "tagger.predict_sentences(test_dict[:2])"
   ]
  },
  {
   "cell_type": "code",
   "execution_count": 106,
   "metadata": {},
   "outputs": [],
   "source": [
    "class PairDataset(Dataset):\n",
    "    def __init__(self, input_sentences, target_tags):\n",
    "        self.input_sentences = input_sentences\n",
    "        self.target_tags = target_tags\n",
    "\n",
    "    def __len__(self):\n",
    "        return len(self.input_sentences)\n",
    "\n",
    "    def __getitem__(self, idx):\n",
    "        src_batch = self.input_sentences[idx]\n",
    "        tgt_batch = self.target_tags[idx]\n",
    "        return src_batch, tgt_batch\n",
    "\n",
    "    def collate(self, batch):\n",
    "        src_batch, tgt_batch = list(zip(*batch))\n",
    "        src_batch = pad_sequence(\n",
    "            src_batch, padding_value=PAD_IDX, batch_first=True)\n",
    "        tgt_batch = pad_sequence(\n",
    "            tgt_batch, padding_value=0, batch_first=True)  # We pad with 0 here\n",
    "        return src_batch, tgt_batch"
   ]
  },
  {
   "cell_type": "code",
   "execution_count": 107,
   "metadata": {},
   "outputs": [],
   "source": [
    "train_dataset = PairDataset(X_train, y_train)\n",
    "train_dataloader = DataLoader(train_dataset, batch_size=BATCH_SIZE,\n",
    "                              shuffle=True, collate_fn=train_dataset.collate)\n",
    "val_dataset = PairDataset(X_val, y_val)\n",
    "val_dataloader = DataLoader(val_dataset, batch_size=BATCH_SIZE,\n",
    "                            shuffle=True, collate_fn=val_dataset.collate)\n",
    "test_dataset = PairDataset(X_test, y_test)\n",
    "test_dataloader = DataLoader(test_dataset, batch_size=BATCH_SIZE,\n",
    "                             shuffle=True, collate_fn=test_dataset.collate)"
   ]
  },
  {
   "cell_type": "code",
   "execution_count": 108,
   "metadata": {},
   "outputs": [],
   "source": [
    "def evaluate(model, dataloader) -> tuple[float, float]:\n",
    "    model.eval()\n",
    "    with torch.no_grad():\n",
    "        loss = 0\n",
    "        batch_cnt = 0\n",
    "        cnt = 0\n",
    "        for X_batch, y_batch in dataloader:\n",
    "            batch_cnt += 1\n",
    "            # mask = (y_batch != pos2idx['PAD'])\n",
    "            cnt += len(y_batch)\n",
    "            loss += model(X_batch, y_batch).item()\n",
    "        return loss/cnt"
   ]
  },
  {
   "cell_type": "code",
   "execution_count": 109,
   "metadata": {},
   "outputs": [],
   "source": [
    "history = {}\n",
    "history['accuracy'] = []\n",
    "history['loss'] = []\n",
    "history['conll_score'] = []\n",
    "history['val_accuracy'] = []\n",
    "history['val_loss'] = []\n",
    "history['val_conll_score'] = []"
   ]
  },
  {
   "cell_type": "code",
   "execution_count": 110,
   "metadata": {},
   "outputs": [
    {
     "name": "stdout",
     "output_type": "stream",
     "text": [
      "Époque : 0\n"
     ]
    },
    {
     "name": "stderr",
     "output_type": "stream",
     "text": [
      "100%|██████████| 18453/18453 [02:18<00:00, 133.24it/s]\n"
     ]
    },
    {
     "name": "stdout",
     "output_type": "stream",
     "text": [
      "Val. CoNLL score: 0.8533\n",
      "Epoch: 0, best model saved\n",
      "Epoch: 0 Val. loss: 1.1887 Val. acc.: 0.9696 Val. CoNLL score: 0.8533\n",
      "Best figures at epoch 0:\n",
      " \tLoss: 1.1887 (ep. 0) \tAcc.: 0.9696 (ep. 0) \tCoNLL score: 0.8533 (ep. 0)\n",
      "Époque : 1\n"
     ]
    },
    {
     "name": "stderr",
     "output_type": "stream",
     "text": [
      "100%|██████████| 18453/18453 [02:26<00:00, 126.37it/s]\n"
     ]
    },
    {
     "name": "stdout",
     "output_type": "stream",
     "text": [
      "Val. CoNLL score: 0.8636\n",
      "Epoch: 1, best model saved\n",
      "Epoch: 1 Val. loss: 1.0810 Val. acc.: 0.9718 Val. CoNLL score: 0.8636\n",
      "Best figures at epoch 1:\n",
      " \tLoss: 1.0810 (ep. 1) \tAcc.: 0.9718 (ep. 1) \tCoNLL score: 0.8636 (ep. 1)\n",
      "Époque : 2\n"
     ]
    },
    {
     "name": "stderr",
     "output_type": "stream",
     "text": [
      "100%|██████████| 18453/18453 [02:24<00:00, 127.96it/s]\n"
     ]
    },
    {
     "name": "stdout",
     "output_type": "stream",
     "text": [
      "Val. CoNLL score: 0.8711\n",
      "Epoch: 2, best model saved\n",
      "Epoch: 2 Val. loss: 1.0504 Val. acc.: 0.9726 Val. CoNLL score: 0.8711\n",
      "Best figures at epoch 2:\n",
      " \tLoss: 1.0504 (ep. 2) \tAcc.: 0.9726 (ep. 2) \tCoNLL score: 0.8711 (ep. 2)\n",
      "Époque : 3\n"
     ]
    },
    {
     "name": "stderr",
     "output_type": "stream",
     "text": [
      "100%|██████████| 18453/18453 [02:23<00:00, 128.25it/s]\n"
     ]
    },
    {
     "name": "stdout",
     "output_type": "stream",
     "text": [
      "Val. CoNLL score: 0.8769\n",
      "Epoch: 3, best model saved\n",
      "Epoch: 3 Val. loss: 1.0204 Val. acc.: 0.9736 Val. CoNLL score: 0.8769\n",
      "Best figures at epoch 3:\n",
      " \tLoss: 1.0204 (ep. 3) \tAcc.: 0.9736 (ep. 3) \tCoNLL score: 0.8769 (ep. 3)\n",
      "Époque : 4\n"
     ]
    },
    {
     "name": "stderr",
     "output_type": "stream",
     "text": [
      "100%|██████████| 18453/18453 [02:20<00:00, 131.47it/s]\n"
     ]
    },
    {
     "name": "stdout",
     "output_type": "stream",
     "text": [
      "Val. CoNLL score: 0.8801\n",
      "Epoch: 4, best model saved\n",
      "Epoch: 4 Val. loss: 1.0078 Val. acc.: 0.9745 Val. CoNLL score: 0.8801\n",
      "Best figures at epoch 4:\n",
      " \tLoss: 1.0078 (ep. 4) \tAcc.: 0.9745 (ep. 4) \tCoNLL score: 0.8801 (ep. 4)\n",
      "Époque : 5\n"
     ]
    },
    {
     "name": "stderr",
     "output_type": "stream",
     "text": [
      "100%|██████████| 18453/18453 [02:19<00:00, 131.91it/s]\n"
     ]
    },
    {
     "name": "stdout",
     "output_type": "stream",
     "text": [
      "Val. CoNLL score: 0.8813\n",
      "Epoch: 5, best model saved\n",
      "Epoch: 5 Val. loss: 1.0109 Val. acc.: 0.9744 Val. CoNLL score: 0.8813\n",
      "Best figures at epoch 5:\n",
      " \tLoss: 1.0078 (ep. 4) \tAcc.: 0.9745 (ep. 4) \tCoNLL score: 0.8813 (ep. 5)\n",
      "Époque : 6\n"
     ]
    },
    {
     "name": "stderr",
     "output_type": "stream",
     "text": [
      "100%|██████████| 18453/18453 [02:20<00:00, 131.55it/s]\n"
     ]
    },
    {
     "name": "stdout",
     "output_type": "stream",
     "text": [
      "Val. CoNLL score: 0.8819\n",
      "Epoch: 6, best model saved\n",
      "Epoch: 6 Val. loss: 0.9943 Val. acc.: 0.9748 Val. CoNLL score: 0.8819\n",
      "Best figures at epoch 6:\n",
      " \tLoss: 0.9943 (ep. 6) \tAcc.: 0.9748 (ep. 6) \tCoNLL score: 0.8819 (ep. 6)\n",
      "Époque : 7\n"
     ]
    },
    {
     "name": "stderr",
     "output_type": "stream",
     "text": [
      "100%|██████████| 18453/18453 [02:25<00:00, 126.79it/s]\n"
     ]
    },
    {
     "name": "stdout",
     "output_type": "stream",
     "text": [
      "Val. CoNLL score: 0.8825\n",
      "Epoch: 7, best model saved\n",
      "Epoch: 7 Val. loss: 0.9985 Val. acc.: 0.9749 Val. CoNLL score: 0.8825\n",
      "Best figures at epoch 7:\n",
      " \tLoss: 0.9943 (ep. 6) \tAcc.: 0.9749 (ep. 7) \tCoNLL score: 0.8825 (ep. 7)\n",
      "Époque : 8\n"
     ]
    },
    {
     "name": "stderr",
     "output_type": "stream",
     "text": [
      "100%|██████████| 18453/18453 [02:27<00:00, 124.78it/s]\n"
     ]
    },
    {
     "name": "stdout",
     "output_type": "stream",
     "text": [
      "Val. CoNLL score: 0.8820\n",
      "Epoch: 8 Val. loss: 1.0030 Val. acc.: 0.9748 Val. CoNLL score: 0.8820\n",
      "Best figures at epoch 8:\n",
      " \tLoss: 0.9943 (ep. 6) \tAcc.: 0.9749 (ep. 7) \tCoNLL score: 0.8825 (ep. 7)\n",
      "Époque : 9\n"
     ]
    },
    {
     "name": "stderr",
     "output_type": "stream",
     "text": [
      "100%|██████████| 18453/18453 [02:30<00:00, 122.33it/s]\n"
     ]
    },
    {
     "name": "stdout",
     "output_type": "stream",
     "text": [
      "Val. CoNLL score: 0.8853\n",
      "Epoch: 9, best model saved\n",
      "Epoch: 9 Val. loss: 1.0022 Val. acc.: 0.9753 Val. CoNLL score: 0.8853\n",
      "Best figures at epoch 9:\n",
      " \tLoss: 0.9943 (ep. 6) \tAcc.: 0.9753 (ep. 9) \tCoNLL score: 0.8853 (ep. 9)\n",
      "Époque : 10\n"
     ]
    },
    {
     "name": "stderr",
     "output_type": "stream",
     "text": [
      "100%|██████████| 18453/18453 [02:36<00:00, 118.23it/s]\n"
     ]
    },
    {
     "name": "stdout",
     "output_type": "stream",
     "text": [
      "Val. CoNLL score: 0.8859\n",
      "Epoch: 10, best model saved\n",
      "Epoch: 10 Val. loss: 1.0077 Val. acc.: 0.9753 Val. CoNLL score: 0.8859\n",
      "Best figures at epoch 10:\n",
      " \tLoss: 0.9943 (ep. 6) \tAcc.: 0.9753 (ep. 10) \tCoNLL score: 0.8859 (ep. 10)\n",
      "Époque : 11\n"
     ]
    },
    {
     "name": "stderr",
     "output_type": "stream",
     "text": [
      "100%|██████████| 18453/18453 [02:35<00:00, 118.59it/s]\n"
     ]
    },
    {
     "name": "stdout",
     "output_type": "stream",
     "text": [
      "Val. CoNLL score: 0.8858\n",
      "Epoch: 11 Val. loss: 1.0032 Val. acc.: 0.9754 Val. CoNLL score: 0.8858\n",
      "Best figures at epoch 11:\n",
      " \tLoss: 0.9943 (ep. 6) \tAcc.: 0.9754 (ep. 11) \tCoNLL score: 0.8859 (ep. 10)\n",
      "Époque : 12\n"
     ]
    },
    {
     "name": "stderr",
     "output_type": "stream",
     "text": [
      "100%|██████████| 18453/18453 [02:37<00:00, 116.97it/s]\n"
     ]
    },
    {
     "name": "stdout",
     "output_type": "stream",
     "text": [
      "Val. CoNLL score: 0.8860\n",
      "Epoch: 12, best model saved\n",
      "Epoch: 12 Val. loss: 1.0170 Val. acc.: 0.9753 Val. CoNLL score: 0.8860\n",
      "Best figures at epoch 12:\n",
      " \tLoss: 0.9943 (ep. 6) \tAcc.: 0.9754 (ep. 11) \tCoNLL score: 0.8860 (ep. 12)\n",
      "Époque : 13\n"
     ]
    },
    {
     "name": "stderr",
     "output_type": "stream",
     "text": [
      "100%|██████████| 18453/18453 [02:34<00:00, 119.67it/s]\n"
     ]
    },
    {
     "name": "stdout",
     "output_type": "stream",
     "text": [
      "Val. CoNLL score: 0.8876\n",
      "Epoch: 13, best model saved\n",
      "Epoch: 13 Val. loss: 1.0173 Val. acc.: 0.9758 Val. CoNLL score: 0.8876\n",
      "Best figures at epoch 13:\n",
      " \tLoss: 0.9943 (ep. 6) \tAcc.: 0.9758 (ep. 13) \tCoNLL score: 0.8876 (ep. 13)\n",
      "Époque : 14\n"
     ]
    },
    {
     "name": "stderr",
     "output_type": "stream",
     "text": [
      "100%|██████████| 18453/18453 [02:37<00:00, 117.37it/s]\n"
     ]
    },
    {
     "name": "stdout",
     "output_type": "stream",
     "text": [
      "Val. CoNLL score: 0.8858\n",
      "Epoch: 14 Val. loss: 1.0319 Val. acc.: 0.9748 Val. CoNLL score: 0.8858\n",
      "Best figures at epoch 14:\n",
      " \tLoss: 0.9943 (ep. 6) \tAcc.: 0.9758 (ep. 13) \tCoNLL score: 0.8876 (ep. 13)\n",
      "Époque : 15\n"
     ]
    },
    {
     "name": "stderr",
     "output_type": "stream",
     "text": [
      "100%|██████████| 18453/18453 [02:33<00:00, 119.95it/s]\n"
     ]
    },
    {
     "name": "stdout",
     "output_type": "stream",
     "text": [
      "Val. CoNLL score: 0.8879\n",
      "Epoch: 15, best model saved\n",
      "Epoch: 15 Val. loss: 1.0347 Val. acc.: 0.9757 Val. CoNLL score: 0.8879\n",
      "Best figures at epoch 15:\n",
      " \tLoss: 0.9943 (ep. 6) \tAcc.: 0.9758 (ep. 13) \tCoNLL score: 0.8879 (ep. 15)\n",
      "Époque : 16\n"
     ]
    },
    {
     "name": "stderr",
     "output_type": "stream",
     "text": [
      "100%|██████████| 18453/18453 [02:28<00:00, 124.19it/s]\n"
     ]
    },
    {
     "name": "stdout",
     "output_type": "stream",
     "text": [
      "Val. CoNLL score: 0.8866\n",
      "Epoch: 16 Val. loss: 1.0344 Val. acc.: 0.9756 Val. CoNLL score: 0.8866\n",
      "Best figures at epoch 16:\n",
      " \tLoss: 0.9943 (ep. 6) \tAcc.: 0.9758 (ep. 13) \tCoNLL score: 0.8879 (ep. 15)\n",
      "Époque : 17\n"
     ]
    },
    {
     "name": "stderr",
     "output_type": "stream",
     "text": [
      "100%|██████████| 18453/18453 [02:30<00:00, 122.54it/s]\n"
     ]
    },
    {
     "name": "stdout",
     "output_type": "stream",
     "text": [
      "Val. CoNLL score: 0.8873\n",
      "Epoch: 17 Val. loss: 1.0479 Val. acc.: 0.9756 Val. CoNLL score: 0.8873\n",
      "Best figures at epoch 17:\n",
      " \tLoss: 0.9943 (ep. 6) \tAcc.: 0.9758 (ep. 13) \tCoNLL score: 0.8879 (ep. 15)\n",
      "Époque : 18\n"
     ]
    },
    {
     "name": "stderr",
     "output_type": "stream",
     "text": [
      "100%|██████████| 18453/18453 [02:30<00:00, 122.92it/s]\n"
     ]
    },
    {
     "name": "stdout",
     "output_type": "stream",
     "text": [
      "Val. CoNLL score: 0.8878\n",
      "Epoch: 18 Val. loss: 1.0517 Val. acc.: 0.9756 Val. CoNLL score: 0.8878\n",
      "Best figures at epoch 18:\n",
      " \tLoss: 0.9943 (ep. 6) \tAcc.: 0.9758 (ep. 13) \tCoNLL score: 0.8879 (ep. 15)\n",
      "Époque : 19\n"
     ]
    },
    {
     "name": "stderr",
     "output_type": "stream",
     "text": [
      "100%|██████████| 18453/18453 [02:29<00:00, 123.42it/s]\n"
     ]
    },
    {
     "name": "stdout",
     "output_type": "stream",
     "text": [
      "Val. CoNLL score: 0.8883\n",
      "Epoch: 19, best model saved\n",
      "Epoch: 19 Val. loss: 1.0517 Val. acc.: 0.9758 Val. CoNLL score: 0.8883\n",
      "Best figures at epoch 19:\n",
      " \tLoss: 0.9943 (ep. 6) \tAcc.: 0.9758 (ep. 13) \tCoNLL score: 0.8883 (ep. 19)\n",
      "Époque : 20\n"
     ]
    },
    {
     "name": "stderr",
     "output_type": "stream",
     "text": [
      "100%|██████████| 18453/18453 [02:30<00:00, 122.99it/s]\n"
     ]
    },
    {
     "name": "stdout",
     "output_type": "stream",
     "text": [
      "Val. CoNLL score: 0.8874\n",
      "Epoch: 20 Val. loss: 1.0558 Val. acc.: 0.9756 Val. CoNLL score: 0.8874\n",
      "Best figures at epoch 20:\n",
      " \tLoss: 0.9943 (ep. 6) \tAcc.: 0.9758 (ep. 13) \tCoNLL score: 0.8883 (ep. 19)\n",
      "Époque : 21\n"
     ]
    },
    {
     "name": "stderr",
     "output_type": "stream",
     "text": [
      "100%|██████████| 18453/18453 [02:36<00:00, 117.93it/s]\n"
     ]
    },
    {
     "name": "stdout",
     "output_type": "stream",
     "text": [
      "Val. CoNLL score: 0.8862\n",
      "Epoch: 21 Val. loss: 1.0632 Val. acc.: 0.9753 Val. CoNLL score: 0.8862\n",
      "Best figures at epoch 21:\n",
      " \tLoss: 0.9943 (ep. 6) \tAcc.: 0.9758 (ep. 13) \tCoNLL score: 0.8883 (ep. 19)\n",
      "Époque : 22\n"
     ]
    },
    {
     "name": "stderr",
     "output_type": "stream",
     "text": [
      "100%|██████████| 18453/18453 [02:30<00:00, 122.94it/s]\n"
     ]
    },
    {
     "name": "stdout",
     "output_type": "stream",
     "text": [
      "Val. CoNLL score: 0.8863\n",
      "Epoch: 22 Val. loss: 1.0690 Val. acc.: 0.9754 Val. CoNLL score: 0.8863\n",
      "Best figures at epoch 22:\n",
      " \tLoss: 0.9943 (ep. 6) \tAcc.: 0.9758 (ep. 13) \tCoNLL score: 0.8883 (ep. 19)\n",
      "Époque : 23\n"
     ]
    },
    {
     "name": "stderr",
     "output_type": "stream",
     "text": [
      "100%|██████████| 18453/18453 [01:53<00:00, 162.13it/s]\n"
     ]
    },
    {
     "name": "stdout",
     "output_type": "stream",
     "text": [
      "Val. CoNLL score: 0.8861\n",
      "Epoch: 23 Val. loss: 1.0718 Val. acc.: 0.9755 Val. CoNLL score: 0.8861\n",
      "Best figures at epoch 23:\n",
      " \tLoss: 0.9943 (ep. 6) \tAcc.: 0.9758 (ep. 13) \tCoNLL score: 0.8883 (ep. 19)\n",
      "Époque : 24\n"
     ]
    },
    {
     "name": "stderr",
     "output_type": "stream",
     "text": [
      "100%|██████████| 18453/18453 [01:45<00:00, 175.16it/s]\n"
     ]
    },
    {
     "name": "stdout",
     "output_type": "stream",
     "text": [
      "Val. CoNLL score: 0.8855\n",
      "Epoch: 24 Val. loss: 1.0791 Val. acc.: 0.9754 Val. CoNLL score: 0.8855\n",
      "Best figures at epoch 24:\n",
      " \tLoss: 0.9943 (ep. 6) \tAcc.: 0.9758 (ep. 13) \tCoNLL score: 0.8883 (ep. 19)\n"
     ]
    }
   ],
   "source": [
    "best_loss = 1000\n",
    "best_acc = best_score = 0\n",
    "best_loss_epoch = best_acc_epoch = best_score_epoch = 0\n",
    "for epoch in range(EPOCHS):\n",
    "    print('Époque :', epoch)\n",
    "    train_loss = train_acc = 0.0\n",
    "    cnt = batch_cnt = 0\n",
    "    model.train()\n",
    "    for X_batch, y_batch in tqdm(train_dataloader):\n",
    "        batch_cnt += 1\n",
    "        mask = (y_batch != pos2idx['PAD'])\n",
    "        cnt += mask.sum().item()\n",
    "        loss = model(X_batch, y_batch, mask=mask)\n",
    "        model.zero_grad()\n",
    "        loss.backward()\n",
    "        optimizer.step()\n",
    "        train_loss += loss.item()\n",
    "    model.eval()\n",
    "    with torch.no_grad():\n",
    "        # Loss\n",
    "        history['loss'] += [train_loss/cnt]\n",
    "        val_loss = evaluate(model, test_dataloader)\n",
    "        history['val_loss'] += [val_loss]\n",
    "        if val_loss < best_loss:\n",
    "            best_loss_epoch = epoch\n",
    "            best_loss = val_loss\n",
    "            if CORPUS == 'EWT':\n",
    "                torch.save(model, MODEL_FILE)\n",
    "                print(f'Epoch: {epoch}, model saved')\n",
    "        # CoNLL scores and accuracies\n",
    "        train_pred_sents = tagger.predict_sentences(train_dict)\n",
    "        train_accuracy = scorer.accuracy(train_pred_sents)\n",
    "        history['accuracy'] += [train_accuracy]\n",
    "        val_pred_sents = tagger.predict_sentences(val_dict)\n",
    "        val_accuracy = scorer.accuracy(val_pred_sents)\n",
    "        history['val_accuracy'] += [val_accuracy]\n",
    "        if val_accuracy > best_acc:\n",
    "            best_acc_epoch = epoch\n",
    "            best_acc = val_accuracy\n",
    "\n",
    "        if CORPUS in ['CONLL2000', 'CONLL2003']:\n",
    "            train_chunker_score = scorer.conll_score(train_pred_sents)\n",
    "            history['conll_score'] += [train_chunker_score]\n",
    "            val_chunker_score = scorer.conll_score(val_pred_sents)\n",
    "            history['val_conll_score'] += [val_chunker_score]\n",
    "            print(f'Val. CoNLL score: {val_chunker_score:.4f}')\n",
    "            if val_chunker_score > best_score:\n",
    "                best_score_epoch = epoch\n",
    "                best_score = val_chunker_score\n",
    "                torch.save(model, MODEL_FILE)\n",
    "                print(f'Epoch: {epoch}, best model saved')\n",
    "            print(\n",
    "                f'Epoch: {epoch}',\n",
    "                f'Val. loss: {val_loss:.4f}',\n",
    "                f'Val. acc.: {val_accuracy:.4f}',\n",
    "                f'Val. CoNLL score: {val_chunker_score:.4f}')\n",
    "        elif CORPUS == 'EWT':\n",
    "            print(\n",
    "                f'Epoch: {epoch}',\n",
    "                f'Val. loss: {val_loss:.4f}',\n",
    "                f'Val. acc.: {val_accuracy:.4f}')\n",
    "\n",
    "        # For the CoNLL corpus, we use the test set as validation set.\n",
    "        print(f'Best figures at epoch {epoch}:\\n',\n",
    "              f'\\tLoss: {best_loss:.4f} (ep. {best_loss_epoch})',\n",
    "              f'\\tAcc.: {best_acc:.4f} (ep. {best_acc_epoch})',\n",
    "              f'\\tCoNLL score: {best_score:.4f} (ep. {best_score_epoch})')"
   ]
  },
  {
   "cell_type": "code",
   "execution_count": 111,
   "metadata": {},
   "outputs": [
    {
     "data": {
      "image/png": "[encoded data removed]",
      "text/plain": [
       "<Figure size 1500x500 with 3 Axes>"
      ]
     },
     "metadata": {},
     "output_type": "display_data"
    }
   ],
   "source": [
    "acc = history['accuracy']\n",
    "loss = history['loss']\n",
    "conll_score = history['conll_score']\n",
    "\n",
    "val_acc = history['val_accuracy']\n",
    "val_loss = history['val_loss']\n",
    "val_conll_score = history['val_conll_score']\n",
    "\n",
    "epochs = range(1, len(acc) + 1)\n",
    "plt.figure(figsize=(15, 5))\n",
    "plt.subplot(1, 3, 1)\n",
    "plt.plot(epochs, acc, 'bo', label='Training accuracy')\n",
    "plt.plot(epochs, val_acc, 'b', label='Validation accuracy')\n",
    "plt.title('Training and validation accuracies')\n",
    "plt.legend()\n",
    "\n",
    "plt.subplot(1, 3, 2)\n",
    "plt.plot(epochs, loss, 'bo', label='Training loss')\n",
    "plt.plot(epochs, val_loss, 'b', label='Validation loss')\n",
    "plt.title('Training and validation losses')\n",
    "plt.legend()\n",
    "\n",
    "if CORPUS in ['CONLL2000', 'CONLL2003']:\n",
    "    plt.subplot(1, 3, 3)\n",
    "    plt.plot(epochs, conll_score, 'bo', label='Training score')\n",
    "    plt.plot(epochs, val_conll_score, 'b', label='Validation score')\n",
    "    plt.title('Training and validation scores')\n",
    "    plt.legend()\n",
    "plt.tight_layout()\n",
    "plt.show()"
   ]
  },
  {
   "cell_type": "markdown",
   "metadata": {
    "tags": []
   },
   "source": [
    "### Predicting a Value"
   ]
  },
  {
   "cell_type": "code",
   "execution_count": 112,
   "metadata": {},
   "outputs": [
    {
     "data": {
      "text/plain": [
       "Model(\n",
       "  (word_embs): Embedding(136492, 50)\n",
       "  (cap_embs): Embedding(6, 5)\n",
       "  (flatten): Flatten(start_dim=2, end_dim=-1)\n",
       "  (fc1): Linear(in_features=275, out_features=300, bias=True)\n",
       "  (hardth): Hardtanh(min_val=-1.0, max_val=1.0)\n",
       "  (relu): ReLU()\n",
       "  (fc2): Linear(in_features=300, out_features=18, bias=True)\n",
       "  (crf): CRF()\n",
       ")"
      ]
     },
     "execution_count": 112,
     "metadata": {},
     "output_type": "execute_result"
    }
   ],
   "source": [
    "model = torch.load(MODEL_FILE, weights_only=False)\n",
    "model.eval()"
   ]
  },
  {
   "cell_type": "markdown",
   "metadata": {},
   "source": [
    "We set the tagger model to the best model"
   ]
  },
  {
   "cell_type": "code",
   "execution_count": 113,
   "metadata": {},
   "outputs": [],
   "source": [
    "tagger.model = model"
   ]
  },
  {
   "cell_type": "code",
   "execution_count": 114,
   "metadata": {},
   "outputs": [
    {
     "data": {
      "text/plain": [
       "[[13, 13, 14, 13, 13, 13, 13, 14, 13, 13, 13, 13]]"
      ]
     },
     "execution_count": 114,
     "metadata": {},
     "output_type": "execute_result"
    }
   ],
   "source": [
    "Y_test_pred = model(X_test[1].unsqueeze(dim=0))\n",
    "Y_test_pred"
   ]
  },
  {
   "cell_type": "code",
   "execution_count": 115,
   "metadata": {},
   "outputs": [
    {
     "data": {
      "text/plain": [
       "['O', 'O', 'S-LOC', 'O', 'O', 'O', 'O', 'S-LOC', 'O', 'O', 'O', 'O']"
      ]
     },
     "execution_count": 115,
     "metadata": {},
     "output_type": "execute_result"
    }
   ],
   "source": [
    "list(map(lambda x: idx2pos.get(x, 'UNK'), Y_test_pred[0]))"
   ]
  },
  {
   "cell_type": "markdown",
   "metadata": {},
   "source": [
    "### Testing the Model"
   ]
  },
  {
   "cell_type": "code",
   "execution_count": 116,
   "metadata": {},
   "outputs": [
    {
     "data": {
      "text/plain": [
       "1.0517445309825817"
      ]
     },
     "execution_count": 116,
     "metadata": {},
     "output_type": "execute_result"
    }
   ],
   "source": [
    "loss_test = evaluate(model, test_dataloader)\n",
    "loss_test"
   ]
  },
  {
   "cell_type": "code",
   "execution_count": 117,
   "metadata": {},
   "outputs": [],
   "source": [
    "target_names = sorted(pos2idx.keys(), key=lambda x: pos2idx[x])"
   ]
  },
  {
   "cell_type": "code",
   "execution_count": 118,
   "metadata": {},
   "outputs": [
    {
     "data": {
      "text/plain": [
       "['PAD',\n",
       " 'B-LOC',\n",
       " 'B-MISC',\n",
       " 'B-ORG',\n",
       " 'B-PER',\n",
       " 'E-LOC',\n",
       " 'E-MISC',\n",
       " 'E-ORG',\n",
       " 'E-PER',\n",
       " 'I-LOC',\n",
       " 'I-MISC',\n",
       " 'I-ORG',\n",
       " 'I-PER',\n",
       " 'O',\n",
       " 'S-LOC',\n",
       " 'S-MISC',\n",
       " 'S-ORG',\n",
       " 'S-PER']"
      ]
     },
     "execution_count": 118,
     "metadata": {},
     "output_type": "execute_result"
    }
   ],
   "source": [
    "target_names"
   ]
  },
  {
   "cell_type": "markdown",
   "metadata": {},
   "source": [
    "## Sentences"
   ]
  },
  {
   "cell_type": "code",
   "execution_count": 119,
   "metadata": {},
   "outputs": [],
   "source": [
    "sentences = [\"That round table might collapse .\",\n",
    "             \"The man can learn well .\",\n",
    "             \"The man can swim .\",\n",
    "             \"The man can simwo .\",\n",
    "             'The Soviet Union might collapse .']"
   ]
  },
  {
   "cell_type": "code",
   "execution_count": 120,
   "metadata": {},
   "outputs": [
    {
     "data": {
      "text/plain": [
       "[[{'ID': 1, 'FORM': 'That', 'CAPS': 'INIT_CAP'},\n",
       "  {'ID': 2, 'FORM': 'round', 'CAPS': 'NO_CAPS'},\n",
       "  {'ID': 3, 'FORM': 'table', 'CAPS': 'NO_CAPS'},\n",
       "  {'ID': 4, 'FORM': 'might', 'CAPS': 'NO_CAPS'},\n",
       "  {'ID': 5, 'FORM': 'collapse', 'CAPS': 'NO_CAPS'},\n",
       "  {'ID': 6, 'FORM': '.', 'CAPS': 'NO_CAPS'}],\n",
       " [{'ID': 1, 'FORM': 'The', 'CAPS': 'INIT_CAP'},\n",
       "  {'ID': 2, 'FORM': 'man', 'CAPS': 'NO_CAPS'},\n",
       "  {'ID': 3, 'FORM': 'can', 'CAPS': 'NO_CAPS'},\n",
       "  {'ID': 4, 'FORM': 'learn', 'CAPS': 'NO_CAPS'},\n",
       "  {'ID': 5, 'FORM': 'well', 'CAPS': 'NO_CAPS'},\n",
       "  {'ID': 6, 'FORM': '.', 'CAPS': 'NO_CAPS'}],\n",
       " [{'ID': 1, 'FORM': 'The', 'CAPS': 'INIT_CAP'},\n",
       "  {'ID': 2, 'FORM': 'man', 'CAPS': 'NO_CAPS'},\n",
       "  {'ID': 3, 'FORM': 'can', 'CAPS': 'NO_CAPS'},\n",
       "  {'ID': 4, 'FORM': 'swim', 'CAPS': 'NO_CAPS'},\n",
       "  {'ID': 5, 'FORM': '.', 'CAPS': 'NO_CAPS'}],\n",
       " [{'ID': 1, 'FORM': 'The', 'CAPS': 'INIT_CAP'},\n",
       "  {'ID': 2, 'FORM': 'man', 'CAPS': 'NO_CAPS'},\n",
       "  {'ID': 3, 'FORM': 'can', 'CAPS': 'NO_CAPS'},\n",
       "  {'ID': 4, 'FORM': 'simwo', 'CAPS': 'NO_CAPS'},\n",
       "  {'ID': 5, 'FORM': '.', 'CAPS': 'NO_CAPS'}],\n",
       " [{'ID': 1, 'FORM': 'The', 'CAPS': 'INIT_CAP'},\n",
       "  {'ID': 2, 'FORM': 'Soviet', 'CAPS': 'INIT_CAP'},\n",
       "  {'ID': 3, 'FORM': 'Union', 'CAPS': 'INIT_CAP'},\n",
       "  {'ID': 4, 'FORM': 'might', 'CAPS': 'NO_CAPS'},\n",
       "  {'ID': 5, 'FORM': 'collapse', 'CAPS': 'NO_CAPS'},\n",
       "  {'ID': 6, 'FORM': '.', 'CAPS': 'NO_CAPS'}]]"
      ]
     },
     "execution_count": 120,
     "metadata": {},
     "output_type": "execute_result"
    }
   ],
   "source": [
    "sd = [tagger.sent2dict(sent) for sent in sentences]\n",
    "sd"
   ]
  },
  {
   "cell_type": "code",
   "execution_count": 121,
   "metadata": {},
   "outputs": [
    {
     "data": {
      "text/plain": [
       "[[{'ID': 1, 'FORM': 'That', 'CAPS': 'INIT_CAP', 'PTAG': 'O'},\n",
       "  {'ID': 2, 'FORM': 'round', 'CAPS': 'NO_CAPS', 'PTAG': 'O'},\n",
       "  {'ID': 3, 'FORM': 'table', 'CAPS': 'NO_CAPS', 'PTAG': 'O'},\n",
       "  {'ID': 4, 'FORM': 'might', 'CAPS': 'NO_CAPS', 'PTAG': 'O'},\n",
       "  {'ID': 5, 'FORM': 'collapse', 'CAPS': 'NO_CAPS', 'PTAG': 'O'},\n",
       "  {'ID': 6, 'FORM': '.', 'CAPS': 'NO_CAPS', 'PTAG': 'O'}],\n",
       " [{'ID': 1, 'FORM': 'The', 'CAPS': 'INIT_CAP', 'PTAG': 'O'},\n",
       "  {'ID': 2, 'FORM': 'man', 'CAPS': 'NO_CAPS', 'PTAG': 'O'},\n",
       "  {'ID': 3, 'FORM': 'can', 'CAPS': 'NO_CAPS', 'PTAG': 'O'},\n",
       "  {'ID': 4, 'FORM': 'learn', 'CAPS': 'NO_CAPS', 'PTAG': 'O'},\n",
       "  {'ID': 5, 'FORM': 'well', 'CAPS': 'NO_CAPS', 'PTAG': 'O'},\n",
       "  {'ID': 6, 'FORM': '.', 'CAPS': 'NO_CAPS', 'PTAG': 'O'}],\n",
       " [{'ID': 1, 'FORM': 'The', 'CAPS': 'INIT_CAP', 'PTAG': 'O'},\n",
       "  {'ID': 2, 'FORM': 'man', 'CAPS': 'NO_CAPS', 'PTAG': 'O'},\n",
       "  {'ID': 3, 'FORM': 'can', 'CAPS': 'NO_CAPS', 'PTAG': 'O'},\n",
       "  {'ID': 4, 'FORM': 'swim', 'CAPS': 'NO_CAPS', 'PTAG': 'O'},\n",
       "  {'ID': 5, 'FORM': '.', 'CAPS': 'NO_CAPS', 'PTAG': 'O'}],\n",
       " [{'ID': 1, 'FORM': 'The', 'CAPS': 'INIT_CAP', 'PTAG': 'O'},\n",
       "  {'ID': 2, 'FORM': 'man', 'CAPS': 'NO_CAPS', 'PTAG': 'O'},\n",
       "  {'ID': 3, 'FORM': 'can', 'CAPS': 'NO_CAPS', 'PTAG': 'O'},\n",
       "  {'ID': 4, 'FORM': 'simwo', 'CAPS': 'NO_CAPS', 'PTAG': 'O'},\n",
       "  {'ID': 5, 'FORM': '.', 'CAPS': 'NO_CAPS', 'PTAG': 'O'}],\n",
       " [{'ID': 1, 'FORM': 'The', 'CAPS': 'INIT_CAP', 'PTAG': 'O'},\n",
       "  {'ID': 2, 'FORM': 'Soviet', 'CAPS': 'INIT_CAP', 'PTAG': 'B-LOC'},\n",
       "  {'ID': 3, 'FORM': 'Union', 'CAPS': 'INIT_CAP', 'PTAG': 'E-LOC'},\n",
       "  {'ID': 4, 'FORM': 'might', 'CAPS': 'NO_CAPS', 'PTAG': 'O'},\n",
       "  {'ID': 5, 'FORM': 'collapse', 'CAPS': 'NO_CAPS', 'PTAG': 'O'},\n",
       "  {'ID': 6, 'FORM': '.', 'CAPS': 'NO_CAPS', 'PTAG': 'O'}]]"
      ]
     },
     "execution_count": 121,
     "metadata": {},
     "output_type": "execute_result"
    }
   ],
   "source": [
    "tagger.predict_sentences(sd)"
   ]
  },
  {
   "cell_type": "markdown",
   "metadata": {},
   "source": [
    "## Final Score\n",
    "The final score is the CoNLL validation score for CoNLL 2000 and 2003 and the accuracy score on the test set for EWT."
   ]
  },
  {
   "cell_type": "code",
   "execution_count": 122,
   "metadata": {},
   "outputs": [],
   "source": [
    "pred_test_sents = tagger.predict_sentences(test_dict)"
   ]
  },
  {
   "cell_type": "code",
   "execution_count": 123,
   "metadata": {},
   "outputs": [
    {
     "data": {
      "text/plain": [
       "[[{'FORM': '-DOCSTART-',\n",
       "   'PPOS': '-X-',\n",
       "   'PCHUNK': '-X-',\n",
       "   'NER': 'O',\n",
       "   'CAPS': 'ALL_CAPS',\n",
       "   'PTAG': 'O'}],\n",
       " [{'FORM': 'SOCCER',\n",
       "   'PPOS': 'NN',\n",
       "   'PCHUNK': 'B-NP',\n",
       "   'NER': 'O',\n",
       "   'CAPS': 'ALL_CAPS',\n",
       "   'PTAG': 'O'},\n",
       "  {'FORM': '-',\n",
       "   'PPOS': ':',\n",
       "   'PCHUNK': 'O',\n",
       "   'NER': 'O',\n",
       "   'CAPS': 'NO_CAPS',\n",
       "   'PTAG': 'O'},\n",
       "  {'FORM': 'JAPAN',\n",
       "   'PPOS': 'NNP',\n",
       "   'PCHUNK': 'B-NP',\n",
       "   'NER': 'S-LOC',\n",
       "   'CAPS': 'ALL_CAPS',\n",
       "   'PTAG': 'S-LOC'},\n",
       "  {'FORM': 'GET',\n",
       "   'PPOS': 'VB',\n",
       "   'PCHUNK': 'B-VP',\n",
       "   'NER': 'O',\n",
       "   'CAPS': 'ALL_CAPS',\n",
       "   'PTAG': 'O'},\n",
       "  {'FORM': 'LUCKY',\n",
       "   'PPOS': 'NNP',\n",
       "   'PCHUNK': 'B-NP',\n",
       "   'NER': 'O',\n",
       "   'CAPS': 'ALL_CAPS',\n",
       "   'PTAG': 'O'},\n",
       "  {'FORM': 'WIN',\n",
       "   'PPOS': 'NNP',\n",
       "   'PCHUNK': 'I-NP',\n",
       "   'NER': 'O',\n",
       "   'CAPS': 'ALL_CAPS',\n",
       "   'PTAG': 'O'},\n",
       "  {'FORM': ',',\n",
       "   'PPOS': ',',\n",
       "   'PCHUNK': 'O',\n",
       "   'NER': 'O',\n",
       "   'CAPS': 'NO_CAPS',\n",
       "   'PTAG': 'O'},\n",
       "  {'FORM': 'CHINA',\n",
       "   'PPOS': 'NNP',\n",
       "   'PCHUNK': 'B-NP',\n",
       "   'NER': 'S-PER',\n",
       "   'CAPS': 'ALL_CAPS',\n",
       "   'PTAG': 'S-LOC'},\n",
       "  {'FORM': 'IN',\n",
       "   'PPOS': 'IN',\n",
       "   'PCHUNK': 'B-PP',\n",
       "   'NER': 'O',\n",
       "   'CAPS': 'ALL_CAPS',\n",
       "   'PTAG': 'O'},\n",
       "  {'FORM': 'SURPRISE',\n",
       "   'PPOS': 'DT',\n",
       "   'PCHUNK': 'B-NP',\n",
       "   'NER': 'O',\n",
       "   'CAPS': 'ALL_CAPS',\n",
       "   'PTAG': 'O'},\n",
       "  {'FORM': 'DEFEAT',\n",
       "   'PPOS': 'NN',\n",
       "   'PCHUNK': 'I-NP',\n",
       "   'NER': 'O',\n",
       "   'CAPS': 'ALL_CAPS',\n",
       "   'PTAG': 'O'},\n",
       "  {'FORM': '.',\n",
       "   'PPOS': '.',\n",
       "   'PCHUNK': 'O',\n",
       "   'NER': 'O',\n",
       "   'CAPS': 'NO_CAPS',\n",
       "   'PTAG': 'O'}]]"
      ]
     },
     "execution_count": 123,
     "metadata": {},
     "output_type": "execute_result"
    }
   ],
   "source": [
    "pred_test_sents[:2]"
   ]
  },
  {
   "cell_type": "code",
   "execution_count": 124,
   "metadata": {},
   "outputs": [
    {
     "name": "stdout",
     "output_type": "stream",
     "text": [
      "CoNLL score on the validation set: 0.8883\n"
     ]
    }
   ],
   "source": [
    "if CORPUS in ['CONLL2000', 'CONLL2003']:\n",
    "    chunker_score = scorer.conll_score(pred_test_sents)\n",
    "    print(f'CoNLL score on the validation set: {chunker_score:.4f}')\n",
    "elif CORPUS == 'EWT':\n",
    "    accuracy = scorer.accuracy(pred_test_sents)\n",
    "    print(f'Accuracy on the test set: {accuracy:.4f}')"
   ]
  }
 ],
 "metadata": {
  "kernelspec": {
   "display_name": "base",
   "language": "python",
   "name": "python3"
  },
  "language_info": {
   "codemirror_mode": {
    "name": "ipython",
    "version": 3
   },
   "file_extension": ".py",
   "mimetype": "text/x-python",
   "name": "python",
   "nbconvert_exporter": "python",
   "pygments_lexer": "ipython3",
   "version": "3.12.4"
  }
 },
 "nbformat": 4,
 "nbformat_minor": 4
}
